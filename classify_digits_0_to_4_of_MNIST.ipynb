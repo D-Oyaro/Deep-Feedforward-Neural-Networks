{
 "cells": [
  {
   "cell_type": "markdown",
   "metadata": {},
   "source": [
    "# Classifying Digits 0 to 4 of MNIST "
   ]
  },
  {
   "cell_type": "markdown",
   "metadata": {},
   "source": [
    "The goal of this project is to build and train a deep feed forward neural network to classify the \n",
    "first five digits, 0 to 4, of the MNIST dataset. \n",
    "\n",
    "Procedure:\n",
    "* Download and preprocess MNIST dataset\n",
    "* Build DNN and train on dataset\n",
    "* Evaluate test accuracy of model and make some predictions\n",
    "* Tweak model to see if we achieve better results"
   ]
  },
  {
   "cell_type": "markdown",
   "metadata": {},
   "source": [
    "#### Import libraries we are going to use"
   ]
  },
  {
   "cell_type": "code",
   "execution_count": 1,
   "metadata": {
    "collapsed": true
   },
   "outputs": [],
   "source": [
    "import tensorflow as tf\n",
    "import numpy as np\n",
    "import matplotlib.pyplot as plt\n",
    "from functools import partial\n",
    "from datetime import datetime\n",
    "%matplotlib inline"
   ]
  },
  {
   "cell_type": "markdown",
   "metadata": {},
   "source": [
    "#### Download and preprocess MNIST dataset"
   ]
  },
  {
   "cell_type": "code",
   "execution_count": 2,
   "metadata": {},
   "outputs": [
    {
     "name": "stdout",
     "output_type": "stream",
     "text": [
      "Extracting /tmp/data/train-images-idx3-ubyte.gz\n",
      "Extracting /tmp/data/train-labels-idx1-ubyte.gz\n",
      "Extracting /tmp/data/t10k-images-idx3-ubyte.gz\n",
      "Extracting /tmp/data/t10k-labels-idx1-ubyte.gz\n"
     ]
    },
    {
     "data": {
      "image/png": "[encoded data removed]",
      "text/plain": [
       "<matplotlib.figure.Figure at 0xa466d30>"
      ]
     },
     "metadata": {},
     "output_type": "display_data"
    }
   ],
   "source": [
    "#load dataset\n",
    "from tensorflow.examples.tutorials.mnist import input_data\n",
    "mnist = input_data.read_data_sets('/tmp/data/')\n",
    "\n",
    "valid_size = 5000\n",
    "\n",
    "#extract digits 0 to 4 of training dataset\n",
    "train_index_0_4 = np.nonzero(mnist.train.labels <= 4)[0]\n",
    "mnist_train_images_0_4 = mnist.train.images[train_index_0_4]\n",
    "mnist_train_labels_0_4 = mnist.train.labels[train_index_0_4]\n",
    "\n",
    "#extract digits 0 to 4 of validation dataset\n",
    "valid_index_0_4 = np.nonzero(mnist.validation.labels <= 4)[0]\n",
    "mnist_valid_images_0_4 = mnist.validation.images[valid_index_0_4]\n",
    "mnist_valid_labels_0_4 = mnist.validation.labels[valid_index_0_4]\n",
    "\n",
    "#extract digits 0 to 4 of test dataset\n",
    "test_index_0_4 = np.nonzero(mnist.test.labels <= 4)[0]\n",
    "mnist_test_images_0_4 = mnist.test.images[test_index_0_4]\n",
    "mnist_test_labels_0_4 = mnist.test.labels[test_index_0_4]\n",
    "\n",
    "#display a sample of training, validation and test images\n",
    "plt.subplot(131)\n",
    "plt.imshow(mnist_train_images_0_4[10].reshape(28,28))\n",
    "plt.title('Training sample')\n",
    "plt.subplot(132)\n",
    "plt.imshow(mnist_valid_images_0_4[999].reshape(28,28))\n",
    "plt.title('Validation sample')\n",
    "plt.subplot(133)\n",
    "plt.imshow(mnist_test_images_0_4[1060].reshape(28,28))\n",
    "plt.title('Test sample')\n",
    "plt.show()"
   ]
  },
  {
   "cell_type": "markdown",
   "metadata": {},
   "source": [
    "#### Build and train DNN\n",
    "DNN to train consists of 5 hidden layers of 100 units each and an output layer of 5 units, one for each digit. Model is built and trained using low-level Tensorflow API"
   ]
  },
  {
   "cell_type": "code",
   "execution_count": 3,
   "metadata": {},
   "outputs": [],
   "source": [
    "# Build phase of model\n",
    "\n",
    "units = 100\n",
    "n_outputs = 5\n",
    "n_inputs = 28 * 28 # each image of MNIST is 28 by 28 pixels\n",
    "\n",
    "tf.reset_default_graph()\n",
    "\n",
    "X = tf.placeholder(tf.float32,shape=(None,n_inputs),name='X')\n",
    "y = tf.placeholder(tf.int64,shape=(None),name='y')\n",
    "\n",
    "with tf.name_scope('dnn'):\n",
    "    #use He initialization for weight initialization and Elu for activation function\n",
    "    he_init = tf.contrib.layers.variance_scaling_initializer()\n",
    "    my_hidden_layer = partial(tf.layers.dense,kernel_initializer=he_init,activation=tf.nn.elu,units=units)\n",
    "    \n",
    "    hidden1 = my_hidden_layer(X,name='hidden1')\n",
    "    hidden2 = my_hidden_layer(hidden1,name='hidden2')\n",
    "    hidden3 = my_hidden_layer(hidden2,name='hidden3')\n",
    "    hidden4 = my_hidden_layer(hidden3,name='hidden4')\n",
    "    hidden5 = my_hidden_layer(hidden4,name='hidden5')\n",
    "    logits = tf.layers.dense(hidden5,n_outputs,name='logits')\n",
    "    \n",
    "    \n",
    "with tf.name_scope('loss'):\n",
    "    #output layer uses softmax activation function\n",
    "    xentropy = tf.nn.sparse_softmax_cross_entropy_with_logits(logits=logits,labels=y)\n",
    "    loss = tf.reduce_mean(xentropy,name='loss')\n",
    "    \n",
    "    \n",
    "with tf.name_scope('train'):\n",
    "    #optimizer is Adam optimizer with a learning rate of 0.001 \n",
    "    optimizer = tf.train.AdamOptimizer(learning_rate = 0.001)\n",
    "    training_op = optimizer.minimize(loss,name='training_op')\n",
    "    \n",
    "    \n",
    "with tf.name_scope('eval'):\n",
    "    #operation to evaluate accuracy of model\n",
    "    correct = tf.nn.in_top_k(logits,y,1)\n",
    "    accuracy = tf.reduce_mean(tf.cast(correct,tf.float32),name='eval')\n",
    "    \n",
    "\n",
    "#operation to initialize variables\n",
    "init = tf.global_variables_initializer()\n",
    "\n",
    "#used to save the model\n",
    "saver = tf.train.Saver()\n",
    "\n",
    "#path to where tensorboard log is saved\n",
    "now = datetime.utcnow().strftime(\"%Y%m%d%H%M%S\")\n",
    "root_logdir = \"tensorboard\"\n",
    "logdir = \"{}/run-{}/\".format(root_logdir, now)\n",
    "\n",
    "#save graph and  stats used on the tensorboard\n",
    "valid_accuracy = tf.placeholder(tf.float32,shape=())\n",
    "valid_summary = tf.summary.scalar('valid_accuracy',valid_accuracy)\n",
    "summary_writer = tf.summary.FileWriter(logdir, tf.get_default_graph())  \n"
   ]
  },
  {
   "cell_type": "code",
   "execution_count": 4,
   "metadata": {},
   "outputs": [
    {
     "name": "stdout",
     "output_type": "stream",
     "text": [
      "500 Training Accuracy: 0.964286 Validation Accuracy: 0.982408\n",
      "1000 Training Accuracy: 1.0 Validation Accuracy: 0.980453\n",
      "1500 Training Accuracy: 1.0 Validation Accuracy: 0.985536\n",
      "2000 Training Accuracy: 1.0 Validation Accuracy: 0.975371\n",
      "2500 Training Accuracy: 1.0 Validation Accuracy: 0.985536\n",
      "3000 Training Accuracy: 1.0 Validation Accuracy: 0.98749\n",
      "3500 Training Accuracy: 1.0 Validation Accuracy: 0.992572\n",
      "4000 Training Accuracy: 1.0 Validation Accuracy: 0.989054\n",
      "4500 Training Accuracy: 1.0 Validation Accuracy: 0.989054\n",
      "5000 Training Accuracy: 0.982143 Validation Accuracy: 0.9914\n",
      "5500 Training Accuracy: 0.982143 Validation Accuracy: 0.989445\n",
      "6000 Training Accuracy: 1.0 Validation Accuracy: 0.988663\n",
      "6500 Training Accuracy: 1.0 Validation Accuracy: 0.988663\n",
      "7000 Training Accuracy: 1.0 Validation Accuracy: 0.989445\n",
      "7500 Training Accuracy: 1.0 Validation Accuracy: 0.99179\n",
      "8000 Training Accuracy: 1.0 Validation Accuracy: 0.99179\n",
      "8500 Training Accuracy: 1.0 Validation Accuracy: 0.99179\n"
     ]
    }
   ],
   "source": [
    "# Training phase of model\n",
    "\n",
    "# stop training if validation accuracy does not improve in 10 epochs\n",
    "# using early stopping to minimize overfitting\n",
    "max_epoch_without_valid_improve = 10 \n",
    "\n",
    "batch_size = 500\n",
    "global_step_count = 0 \n",
    "epoch_count = 0\n",
    "best_accu_valid = 0\n",
    "\n",
    "\n",
    "with tf.Session() as sess:\n",
    "    init.run() #initialize variables\n",
    "    \n",
    "    while epoch_count < max_epoch_without_valid_improve:\n",
    "        #generate random mini-batches to use for training in current epoch\n",
    "        shuffle_idx = np.random.permutation(mnist_train_labels_0_4.shape[0])\n",
    "        x_batches = np.array_split(mnist_train_images_0_4[shuffle_idx],batch_size)\n",
    "        y_batches = np.array_split(mnist_train_labels_0_4[shuffle_idx],batch_size)\n",
    "        for x_batch,y_batch in zip(x_batches,y_batches):\n",
    "            sess.run(training_op,feed_dict={X:x_batch,y:y_batch})\n",
    "            global_step_count += 1\n",
    "        #evaluate training and validation accuracy\n",
    "        accu_train = accuracy.eval(feed_dict={X:x_batch,y:y_batch})\n",
    "        accu_valid = accuracy.eval(feed_dict={X:mnist_valid_images_0_4,y:mnist_valid_labels_0_4})  \n",
    "        if accu_valid > best_accu_valid:\n",
    "            best_accu_valid = accu_valid\n",
    "            epoch_count = 0\n",
    "        else:\n",
    "            epoch_count += 1\n",
    "        #save current validation and step count to tensorboard\n",
    "        summary_str = valid_summary.eval(feed_dict={valid_accuracy:accu_valid})\n",
    "        summary_writer.add_summary(summary_str, global_step_count)\n",
    "        #save model generated so far\n",
    "        saver.save(sess,'./saved_models/model_0_4.ckpt')\n",
    "        print(global_step_count,'Training Accuracy:',accu_train,'Validation Accuracy:',accu_valid)\n",
    "    \n",
    "    # save final model at end of trainiing\n",
    "    saver.save(sess,'./saved_models/model_0_4_final.ckpt')\n",
    "        \n",
    "\n",
    "summary_writer.flush()\n",
    "summary_writer.close()"
   ]
  },
  {
   "cell_type": "code",
   "execution_count": 5,
   "metadata": {},
   "outputs": [
    {
     "name": "stdout",
     "output_type": "stream",
     "text": [
      "INFO:tensorflow:Restoring parameters from ./saved_models/model_0_4_final.ckpt\n",
      "Test Accuracy: 0.993578\n"
     ]
    }
   ],
   "source": [
    "# Let's evaluate accuracy of model on test dataset\n",
    "with tf.Session() as sess:\n",
    "    #restore saved model\n",
    "    saver.restore(sess,'./saved_models/model_0_4_final.ckpt')\n",
    "    accu_test = accuracy.eval(feed_dict={X:mnist_test_images_0_4,y:mnist_test_labels_0_4})  \n",
    "    print('Test Accuracy:',accu_test)"
   ]
  },
  {
   "cell_type": "code",
   "execution_count": 6,
   "metadata": {},
   "outputs": [
    {
     "name": "stdout",
     "output_type": "stream",
     "text": [
      "INFO:tensorflow:Restoring parameters from ./saved_models/model_0_4_final.ckpt\n",
      "Prediction: [4 0 2 3 2 4]\n",
      "Target: [4 0 2 3 2 4]\n"
     ]
    }
   ],
   "source": [
    "# Let's do some predictions on the test dataset using our model\n",
    "with tf.Session() as sess:\n",
    "    saver.restore(sess,'./saved_models/model_0_4_final.ckpt')\n",
    "    label_pred = np.argmax(sess.run(logits,feed_dict={X:mnist_test_images_0_4[1989:1995]}),axis=1) \n",
    "    \n",
    "print('Prediction:',label_pred)\n",
    "print('Target:',mnist_test_labels_0_4[1989:1995])"
   ]
  },
  {
   "cell_type": "markdown",
   "metadata": {},
   "source": [
    "Looks like our trained model is working great! Can we do better?"
   ]
  },
  {
   "cell_type": "markdown",
   "metadata": {
    "collapsed": true
   },
   "source": [
    "#### Batch Normalization\n",
    "Let us tweak our model by adding batch normalization to see if training converges faster and we get a more accurate model"
   ]
  },
  {
   "cell_type": "code",
   "execution_count": 7,
   "metadata": {
    "collapsed": true
   },
   "outputs": [],
   "source": [
    "# Build phase of model\n",
    "\n",
    "units = 100\n",
    "n_outputs = 5\n",
    "n_inputs = 28 * 28 # each image of MNIST is 28 by 28 pixels\n",
    "\n",
    "tf.reset_default_graph()\n",
    "\n",
    "X = tf.placeholder(tf.float32,shape=(None,n_inputs),name='X')\n",
    "y = tf.placeholder(tf.int64,shape=(None),name='y')\n",
    "is_training = tf.placeholder(tf.bool,shape=(),name=\"is_training\")\n",
    "\n",
    "with tf.name_scope('dnn'):\n",
    "    #use He initialization for weight initialization and Elu for activation function\n",
    "    he_init = tf.contrib.layers.variance_scaling_initializer()\n",
    "    my_hidden_layer = partial(tf.layers.dense,kernel_initializer=he_init,activation=tf.nn.elu,units=units)\n",
    "    my_batch_norm_layer = partial(tf.layers.batch_normalization,momentum=0.9,training=is_training)\n",
    "    \n",
    "    \n",
    "    hidden1 = my_hidden_layer(X,name='hidden1')\n",
    "    bn1 = tf.nn.elu(my_batch_norm_layer(hidden1),name='bn1')\n",
    "    hidden2 = my_hidden_layer(bn1,name='hidden2')\n",
    "    bn2 = tf.nn.elu(my_batch_norm_layer(hidden2),name='bn2')\n",
    "    hidden3 = my_hidden_layer(bn2,name='hidden3')\n",
    "    bn3 = tf.nn.elu(my_batch_norm_layer(hidden3),name='bn3')\n",
    "    hidden4 = my_hidden_layer(bn3,name='hidden4')\n",
    "    bn4 = tf.nn.elu(my_batch_norm_layer(hidden4),name='bn4')\n",
    "    hidden5 = my_hidden_layer(bn4,name='hidden5')\n",
    "    bn5 = tf.nn.elu(my_batch_norm_layer(hidden5),name='bn5')\n",
    "    logits_before_bn = tf.layers.dense(bn5,n_outputs,name='logits_before_bn')\n",
    "    logits = my_batch_norm_layer(logits_before_bn,name='logits')\n",
    "    \n",
    "    extra_update_ops = tf.get_collection(tf.GraphKeys.UPDATE_OPS)\n",
    "    \n",
    "    \n",
    "with tf.name_scope('loss'):\n",
    "    #output layer uses softmax activation function\n",
    "    xentropy = tf.nn.sparse_softmax_cross_entropy_with_logits(logits=logits,labels=y)\n",
    "    loss = tf.reduce_mean(xentropy,name='loss')\n",
    "    \n",
    "    \n",
    "with tf.name_scope('train'):\n",
    "    #optimizer is Adam optimizer with a learning rate of 0.001 \n",
    "    optimizer = tf.train.AdamOptimizer(learning_rate = 0.001)\n",
    "    training_op = optimizer.minimize(loss,name='training_op')\n",
    "    \n",
    "    \n",
    "with tf.name_scope('eval'):\n",
    "    #operation to evaluate accuracy of model\n",
    "    correct = tf.nn.in_top_k(logits,y,1)\n",
    "    accuracy = tf.reduce_mean(tf.cast(correct,tf.float32),name='eval')\n",
    "    \n",
    "\n",
    "#operation to initialize variables\n",
    "init = tf.global_variables_initializer()\n",
    "\n",
    "#used to save the model\n",
    "saver = tf.train.Saver()\n",
    "\n",
    "#path to where tensorboard log is saved\n",
    "now = datetime.utcnow().strftime(\"%Y%m%d%H%M%S\")\n",
    "root_logdir = \"tensorboard\"\n",
    "logdir = \"{}/run-{}/\".format(root_logdir, now)\n",
    "\n",
    "#save graph and  stats used on the tensorboard\n",
    "valid_accuracy = tf.placeholder(tf.float32,shape=())\n",
    "valid_summary = tf.summary.scalar('valid_accuracy',valid_accuracy)\n",
    "summary_writer = tf.summary.FileWriter(logdir, tf.get_default_graph())  \n",
    "   "
   ]
  },
  {
   "cell_type": "code",
   "execution_count": 8,
   "metadata": {},
   "outputs": [
    {
     "name": "stdout",
     "output_type": "stream",
     "text": [
      "500 Training Accuracy: 0.982143 Validation Accuracy: 0.977326\n",
      "1000 Training Accuracy: 0.982143 Validation Accuracy: 0.956998\n",
      "1500 Training Accuracy: 0.964286 Validation Accuracy: 0.961689\n",
      "2000 Training Accuracy: 1.0 Validation Accuracy: 0.969898\n",
      "2500 Training Accuracy: 0.982143 Validation Accuracy: 0.980063\n",
      "3000 Training Accuracy: 0.928571 Validation Accuracy: 0.971071\n",
      "3500 Training Accuracy: 0.946429 Validation Accuracy: 0.939015\n",
      "4000 Training Accuracy: 0.964286 Validation Accuracy: 0.952697\n",
      "4500 Training Accuracy: 0.946429 Validation Accuracy: 0.976544\n",
      "5000 Training Accuracy: 0.964286 Validation Accuracy: 0.971071\n",
      "5500 Training Accuracy: 1.0 Validation Accuracy: 0.981235\n",
      "6000 Training Accuracy: 0.964286 Validation Accuracy: 0.97498\n",
      "6500 Training Accuracy: 1.0 Validation Accuracy: 0.979281\n",
      "7000 Training Accuracy: 1.0 Validation Accuracy: 0.985145\n",
      "7500 Training Accuracy: 1.0 Validation Accuracy: 0.982017\n",
      "8000 Training Accuracy: 0.982143 Validation Accuracy: 0.972244\n",
      "8500 Training Accuracy: 1.0 Validation Accuracy: 0.985927\n",
      "9000 Training Accuracy: 1.0 Validation Accuracy: 0.973808\n",
      "9500 Training Accuracy: 1.0 Validation Accuracy: 0.977326\n",
      "10000 Training Accuracy: 1.0 Validation Accuracy: 0.986317\n",
      "10500 Training Accuracy: 1.0 Validation Accuracy: 0.984754\n",
      "11000 Training Accuracy: 1.0 Validation Accuracy: 0.983581\n",
      "11500 Training Accuracy: 0.982143 Validation Accuracy: 0.975762\n",
      "12000 Training Accuracy: 1.0 Validation Accuracy: 0.97889\n",
      "12500 Training Accuracy: 0.982143 Validation Accuracy: 0.977717\n",
      "13000 Training Accuracy: 1.0 Validation Accuracy: 0.982017\n",
      "13500 Training Accuracy: 0.982143 Validation Accuracy: 0.981235\n",
      "14000 Training Accuracy: 0.982143 Validation Accuracy: 0.976544\n",
      "14500 Training Accuracy: 1.0 Validation Accuracy: 0.983972\n",
      "15000 Training Accuracy: 0.982143 Validation Accuracy: 0.980063\n"
     ]
    }
   ],
   "source": [
    "# Training phase of model\n",
    "\n",
    "# stop training if validation accuracy does not improve in 10 epochs\n",
    "# using early stopping to minimize overfitting\n",
    "max_epoch_without_valid_improve = 10 \n",
    "\n",
    "batch_size = 500\n",
    "global_step_count = 0 \n",
    "epoch_count = 0\n",
    "best_accu_valid = 0\n",
    "\n",
    "\n",
    "with tf.Session() as sess:\n",
    "    init.run() #initialize variables\n",
    "    \n",
    "    while epoch_count < max_epoch_without_valid_improve:\n",
    "        #generate random mini-batches to use for training in current epoch\n",
    "        shuffle_idx = np.random.permutation(mnist_train_labels_0_4.shape[0])\n",
    "        x_batches = np.array_split(mnist_train_images_0_4[shuffle_idx],batch_size)\n",
    "        y_batches = np.array_split(mnist_train_labels_0_4[shuffle_idx],batch_size)\n",
    "        for x_batch,y_batch in zip(x_batches,y_batches):\n",
    "            sess.run(training_op,feed_dict={is_training:True,X:x_batch,y:y_batch})\n",
    "            global_step_count += 1\n",
    "        #evaluate training and validation accuracy\n",
    "        accu_train = accuracy.eval(feed_dict={is_training:False,X:x_batch,y:y_batch})\n",
    "        accu_valid = accuracy.eval(feed_dict={is_training:False,X:mnist_valid_images_0_4,y:mnist_valid_labels_0_4})  \n",
    "        if accu_valid > best_accu_valid:\n",
    "            best_accu_valid = accu_valid\n",
    "            epoch_count = 0\n",
    "        else:\n",
    "            epoch_count += 1\n",
    "        #save current validation and step count to tensorboard\n",
    "        summary_str = valid_summary.eval(feed_dict={valid_accuracy:accu_valid})\n",
    "        summary_writer.add_summary(summary_str, global_step_count)\n",
    "        #save model generated so far\n",
    "        saver.save(sess,'./saved_models/model_0_4_with_BN.ckpt')\n",
    "        print(global_step_count,'Training Accuracy:',accu_train,'Validation Accuracy:',accu_valid)\n",
    "    \n",
    "    # save final model at end of trainiing\n",
    "    saver.save(sess,'./saved_models/model_0_4_with_BN_final.ckpt')\n",
    "        \n",
    "\n",
    "summary_writer.flush()\n",
    "summary_writer.close()"
   ]
  },
  {
   "cell_type": "code",
   "execution_count": 9,
   "metadata": {},
   "outputs": [
    {
     "name": "stdout",
     "output_type": "stream",
     "text": [
      "INFO:tensorflow:Restoring parameters from ./saved_models/model_0_4_with_BN_final.ckpt\n",
      "Test Accuracy: 0.981903\n"
     ]
    }
   ],
   "source": [
    "# Test accuracy of batch normalization model on test data\n",
    "with tf.Session() as sess:\n",
    "    saver.restore(sess,'./saved_models/model_0_4_with_BN_final.ckpt')\n",
    "    accu_test = accuracy.eval(feed_dict={is_training:False,X:mnist_test_images_0_4,y:mnist_test_labels_0_4})  \n",
    "    print('Test Accuracy:',accu_test)"
   ]
  },
  {
   "cell_type": "code",
   "execution_count": 10,
   "metadata": {},
   "outputs": [
    {
     "name": "stdout",
     "output_type": "stream",
     "text": [
      "INFO:tensorflow:Restoring parameters from ./saved_models/model_0_4_with_BN_final.ckpt\n",
      "Prediction: [4 0 2 3 2 4]\n",
      "Target: [4 0 2 3 2 4]\n"
     ]
    }
   ],
   "source": [
    "# do some predictions on the test data using batch normalization model\n",
    "with tf.Session() as sess:\n",
    "    saver.restore(sess,'./saved_models/model_0_4_with_BN_final.ckpt')\n",
    "    label_pred = np.argmax(sess.run(logits,feed_dict={is_training:False,X:mnist_test_images_0_4[1989:1995]}),axis=1) \n",
    "    \n",
    "print('Prediction:',label_pred)\n",
    "print('Target:',mnist_test_labels_0_4[1989:1995])"
   ]
  },
  {
   "cell_type": "markdown",
   "metadata": {},
   "source": [
    "Looks like we do not gain adding batch normalization. Our original model still performs better and \n",
    "took fewer steps in training"
   ]
  },
  {
   "cell_type": "markdown",
   "metadata": {},
   "source": [
    "#### Using dropout\n",
    "\n",
    "Will using dropout help our model generalize better than originally?"
   ]
  },
  {
   "cell_type": "code",
   "execution_count": 11,
   "metadata": {
    "collapsed": true
   },
   "outputs": [],
   "source": [
    "# Build phase of model\n",
    "\n",
    "units = 100\n",
    "n_outputs = 5\n",
    "n_inputs = 28 * 28 # each image of MNIST is 28 by 28 pixels\n",
    "dropout_rate = 0.5\n",
    "\n",
    "tf.reset_default_graph()\n",
    "\n",
    "X = tf.placeholder(tf.float32,shape=(None,n_inputs),name='X')\n",
    "y = tf.placeholder(tf.int64,shape=(None),name='y')\n",
    "is_training = tf.placeholder(tf.bool,shape=(),name=\"is_training\")\n",
    "\n",
    "with tf.name_scope('dnn'):\n",
    "    #use He initialization for weight initialization and Elu for activation function\n",
    "    he_init = tf.contrib.layers.variance_scaling_initializer()\n",
    "    my_hidden_layer = partial(tf.layers.dense,kernel_initializer=he_init,activation=tf.nn.elu,units=units)\n",
    "    \n",
    "    \n",
    "    x_drop = tf.layers.dropout(X,rate=dropout_rate,training=is_training,name='x_drop')\n",
    "    hidden1 = my_hidden_layer(x_drop,name='hidden1')\n",
    "    hidden1_drop = tf.layers.dropout(hidden1,rate=dropout_rate,training=is_training,name='hidden1_drop')\n",
    "    hidden2 = my_hidden_layer(hidden1_drop,name='hidden2')\n",
    "    hidden2_drop = tf.layers.dropout(hidden2,rate=dropout_rate,training=is_training,name='hidden2_drop')\n",
    "    hidden3 = my_hidden_layer(hidden2_drop,name='hidden3')\n",
    "    hidden3_drop = tf.layers.dropout(hidden3,rate=dropout_rate,training=is_training,name='hidden3_drop')\n",
    "    hidden4 = my_hidden_layer(hidden3_drop,name='hidden4')\n",
    "    hidden4_drop = tf.layers.dropout(hidden4,rate=dropout_rate,training=is_training,name='hidden4_drop') \n",
    "    hidden5 = my_hidden_layer(hidden4_drop,name='hidden5')\n",
    "    hidden5_drop = tf.layers.dropout(hidden5,rate=dropout_rate,training=is_training,name='hidden5_drop') \n",
    "    logits = tf.layers.dense(hidden5_drop,n_outputs,name='logits')\n",
    "\n",
    "    \n",
    "    \n",
    "with tf.name_scope('loss'):\n",
    "    #output layer uses softmax activation function\n",
    "    xentropy = tf.nn.sparse_softmax_cross_entropy_with_logits(logits=logits,labels=y)\n",
    "    loss = tf.reduce_mean(xentropy,name='loss')\n",
    "    \n",
    "    \n",
    "with tf.name_scope('train'):\n",
    "    #optimizer is Adam optimizer with a learning rate of 0.001 \n",
    "    optimizer = tf.train.AdamOptimizer(learning_rate = 0.001)\n",
    "    training_op = optimizer.minimize(loss,name='training_op')\n",
    "    \n",
    "    \n",
    "with tf.name_scope('eval'):\n",
    "    #operation to evaluate accuracy of model\n",
    "    correct = tf.nn.in_top_k(logits,y,1)\n",
    "    accuracy = tf.reduce_mean(tf.cast(correct,tf.float32),name='eval')\n",
    "    \n",
    "\n",
    "#operation to initialize variables\n",
    "init = tf.global_variables_initializer()\n",
    "\n",
    "#used to save the model\n",
    "saver = tf.train.Saver()\n",
    "\n",
    "#path to where tensorboard log is saved\n",
    "now = datetime.utcnow().strftime(\"%Y%m%d%H%M%S\")\n",
    "root_logdir = \"tensorboard\"\n",
    "logdir = \"{}/run-{}/\".format(root_logdir, now)\n",
    "\n",
    "#save graph and  stats used on the tensorboard\n",
    "valid_accuracy = tf.placeholder(tf.float32,shape=())\n",
    "valid_summary = tf.summary.scalar('valid_accuracy',valid_accuracy)\n",
    "summary_writer = tf.summary.FileWriter(logdir, tf.get_default_graph())  \n"
   ]
  },
  {
   "cell_type": "code",
   "execution_count": 12,
   "metadata": {},
   "outputs": [
    {
     "name": "stdout",
     "output_type": "stream",
     "text": [
      "500 Training Accuracy: 0.946429 Validation Accuracy: 0.945661\n",
      "1000 Training Accuracy: 0.982143 Validation Accuracy: 0.959734\n",
      "1500 Training Accuracy: 0.946429 Validation Accuracy: 0.963643\n",
      "2000 Training Accuracy: 0.946429 Validation Accuracy: 0.96638\n",
      "2500 Training Accuracy: 0.982143 Validation Accuracy: 0.967553\n",
      "3000 Training Accuracy: 0.982143 Validation Accuracy: 0.969507\n",
      "3500 Training Accuracy: 0.910714 Validation Accuracy: 0.972635\n",
      "4000 Training Accuracy: 1.0 Validation Accuracy: 0.971462\n",
      "4500 Training Accuracy: 0.982143 Validation Accuracy: 0.973417\n",
      "5000 Training Accuracy: 0.982143 Validation Accuracy: 0.976935\n",
      "5500 Training Accuracy: 0.982143 Validation Accuracy: 0.975371\n",
      "6000 Training Accuracy: 0.964286 Validation Accuracy: 0.978499\n",
      "6500 Training Accuracy: 0.964286 Validation Accuracy: 0.977717\n",
      "7000 Training Accuracy: 0.964286 Validation Accuracy: 0.981626\n",
      "7500 Training Accuracy: 0.946429 Validation Accuracy: 0.979281\n",
      "8000 Training Accuracy: 0.982143 Validation Accuracy: 0.981235\n",
      "8500 Training Accuracy: 0.964286 Validation Accuracy: 0.982799\n",
      "9000 Training Accuracy: 0.982143 Validation Accuracy: 0.981626\n",
      "9500 Training Accuracy: 0.964286 Validation Accuracy: 0.984363\n",
      "10000 Training Accuracy: 1.0 Validation Accuracy: 0.983581\n",
      "10500 Training Accuracy: 0.964286 Validation Accuracy: 0.985145\n",
      "11000 Training Accuracy: 0.982143 Validation Accuracy: 0.983972\n",
      "11500 Training Accuracy: 0.964286 Validation Accuracy: 0.986317\n",
      "12000 Training Accuracy: 0.964286 Validation Accuracy: 0.984754\n",
      "12500 Training Accuracy: 0.982143 Validation Accuracy: 0.986708\n",
      "13000 Training Accuracy: 0.982143 Validation Accuracy: 0.985145\n",
      "13500 Training Accuracy: 1.0 Validation Accuracy: 0.987099\n",
      "14000 Training Accuracy: 0.982143 Validation Accuracy: 0.985536\n",
      "14500 Training Accuracy: 0.946429 Validation Accuracy: 0.984754\n",
      "15000 Training Accuracy: 1.0 Validation Accuracy: 0.985145\n",
      "15500 Training Accuracy: 1.0 Validation Accuracy: 0.985536\n",
      "16000 Training Accuracy: 0.964286 Validation Accuracy: 0.986708\n",
      "16500 Training Accuracy: 0.982143 Validation Accuracy: 0.987881\n",
      "17000 Training Accuracy: 0.982143 Validation Accuracy: 0.986317\n",
      "17500 Training Accuracy: 1.0 Validation Accuracy: 0.985927\n",
      "18000 Training Accuracy: 0.982143 Validation Accuracy: 0.988272\n",
      "18500 Training Accuracy: 1.0 Validation Accuracy: 0.987881\n",
      "19000 Training Accuracy: 0.982143 Validation Accuracy: 0.988272\n",
      "19500 Training Accuracy: 1.0 Validation Accuracy: 0.98749\n",
      "20000 Training Accuracy: 0.982143 Validation Accuracy: 0.988272\n",
      "20500 Training Accuracy: 1.0 Validation Accuracy: 0.989445\n",
      "21000 Training Accuracy: 1.0 Validation Accuracy: 0.98749\n",
      "21500 Training Accuracy: 1.0 Validation Accuracy: 0.988663\n",
      "22000 Training Accuracy: 1.0 Validation Accuracy: 0.989836\n",
      "22500 Training Accuracy: 1.0 Validation Accuracy: 0.988272\n",
      "23000 Training Accuracy: 1.0 Validation Accuracy: 0.988663\n",
      "23500 Training Accuracy: 1.0 Validation Accuracy: 0.986317\n",
      "24000 Training Accuracy: 0.982143 Validation Accuracy: 0.988272\n",
      "24500 Training Accuracy: 0.964286 Validation Accuracy: 0.989445\n",
      "25000 Training Accuracy: 0.982143 Validation Accuracy: 0.990227\n",
      "25500 Training Accuracy: 1.0 Validation Accuracy: 0.988663\n",
      "26000 Training Accuracy: 1.0 Validation Accuracy: 0.988272\n",
      "26500 Training Accuracy: 1.0 Validation Accuracy: 0.98749\n",
      "27000 Training Accuracy: 1.0 Validation Accuracy: 0.989445\n",
      "27500 Training Accuracy: 1.0 Validation Accuracy: 0.9914\n",
      "28000 Training Accuracy: 1.0 Validation Accuracy: 0.988663\n",
      "28500 Training Accuracy: 0.982143 Validation Accuracy: 0.987881\n",
      "29000 Training Accuracy: 1.0 Validation Accuracy: 0.988663\n",
      "29500 Training Accuracy: 1.0 Validation Accuracy: 0.988272\n",
      "30000 Training Accuracy: 1.0 Validation Accuracy: 0.989836\n",
      "30500 Training Accuracy: 1.0 Validation Accuracy: 0.988663\n",
      "31000 Training Accuracy: 1.0 Validation Accuracy: 0.989445\n",
      "31500 Training Accuracy: 0.982143 Validation Accuracy: 0.987881\n",
      "32000 Training Accuracy: 1.0 Validation Accuracy: 0.98749\n",
      "32500 Training Accuracy: 1.0 Validation Accuracy: 0.988663\n"
     ]
    }
   ],
   "source": [
    "# Training phase of model\n",
    "\n",
    "# stop training if validation accuracy does not improve in 10 epochs\n",
    "# using early stopping to minimize overfitting\n",
    "max_epoch_without_valid_improve = 10 \n",
    "\n",
    "batch_size = 500\n",
    "global_step_count = 0 \n",
    "epoch_count = 0\n",
    "best_accu_valid = 0\n",
    "\n",
    "\n",
    "with tf.Session() as sess:\n",
    "    init.run() #initialize variables\n",
    "    \n",
    "    while epoch_count < max_epoch_without_valid_improve:\n",
    "        #generate random mini-batches to use for training in current epoch\n",
    "        shuffle_idx = np.random.permutation(mnist_train_labels_0_4.shape[0])\n",
    "        x_batches = np.array_split(mnist_train_images_0_4[shuffle_idx],batch_size)\n",
    "        y_batches = np.array_split(mnist_train_labels_0_4[shuffle_idx],batch_size)\n",
    "        for x_batch,y_batch in zip(x_batches,y_batches):\n",
    "            sess.run(training_op,feed_dict={is_training:True,X:x_batch,y:y_batch})\n",
    "            global_step_count += 1\n",
    "        #evaluate training and validation accuracy\n",
    "        accu_train = accuracy.eval(feed_dict={is_training:False,X:x_batch,y:y_batch})\n",
    "        accu_valid = accuracy.eval(feed_dict={is_training:False,X:mnist_valid_images_0_4,y:mnist_valid_labels_0_4})  \n",
    "        if accu_valid > best_accu_valid:\n",
    "            best_accu_valid = accu_valid\n",
    "            epoch_count = 0\n",
    "        else:\n",
    "            epoch_count += 1\n",
    "        #save current validation and step count to tensorboard\n",
    "        summary_str = valid_summary.eval(feed_dict={valid_accuracy:accu_valid})\n",
    "        summary_writer.add_summary(summary_str, global_step_count)\n",
    "        #save model generated so far\n",
    "        saver.save(sess,'./saved_models/model_0_4_with_dropout.ckpt')\n",
    "        print(global_step_count,'Training Accuracy:',accu_train,'Validation Accuracy:',accu_valid)\n",
    "    \n",
    "    # save final model at end of trainiing\n",
    "    saver.save(sess,'./saved_models/model_0_4_with_dropout_final.ckpt')\n",
    "        \n",
    "\n",
    "summary_writer.flush()\n",
    "summary_writer.close()"
   ]
  },
  {
   "cell_type": "code",
   "execution_count": 13,
   "metadata": {},
   "outputs": [
    {
     "name": "stdout",
     "output_type": "stream",
     "text": [
      "INFO:tensorflow:Restoring parameters from ./saved_models/model_0_4_with_dropout_final.ckpt\n",
      "Test Accuracy: 0.99066\n"
     ]
    }
   ],
   "source": [
    "# Test accuracy of dropout model on test data\n",
    "with tf.Session() as sess:\n",
    "    saver.restore(sess,'./saved_models/model_0_4_with_dropout_final.ckpt')\n",
    "    accu_test = accuracy.eval(feed_dict={is_training:False,X:mnist_test_images_0_4,y:mnist_test_labels_0_4})  \n",
    "    print('Test Accuracy:',accu_test)"
   ]
  },
  {
   "cell_type": "code",
   "execution_count": 14,
   "metadata": {},
   "outputs": [
    {
     "name": "stdout",
     "output_type": "stream",
     "text": [
      "INFO:tensorflow:Restoring parameters from ./saved_models/model_0_4_with_dropout_final.ckpt\n",
      "Prediction: [4 0 2 3 2 4]\n",
      "Target: [4 0 2 3 2 4]\n"
     ]
    }
   ],
   "source": [
    "# do some predictions on the test data using dropout model\n",
    "with tf.Session() as sess:\n",
    "    saver.restore(sess,'./saved_models/model_0_4_with_dropout_final.ckpt')\n",
    "    label_pred = np.argmax(sess.run(logits,feed_dict={is_training:False,X:mnist_test_images_0_4[1989:1995]}),axis=1) \n",
    "    \n",
    "print('Prediction:',label_pred)\n",
    "print('Target:',mnist_test_labels_0_4[1989:1995])"
   ]
  },
  {
   "cell_type": "markdown",
   "metadata": {
    "collapsed": true
   },
   "source": [
    "whoops! Looks like the dropout model does not outperform our original model either"
   ]
  },
  {
   "cell_type": "markdown",
   "metadata": {},
   "source": [
    "#### Conclusion\n",
    "\n",
    "We have successfully trained a deep feed forward neural network to classify digits 0 to 4 of MNIST dataset with less than 1% error. It is still possible to achieve better accuracy with other neural network architectures like **CNN**, but that is beyond the scope of this project."
   ]
  },
  {
   "cell_type": "code",
   "execution_count": null,
   "metadata": {
    "collapsed": true
   },
   "outputs": [],
   "source": []
  }
 ],
 "metadata": {
  "kernelspec": {
   "display_name": "python_tensaflo",
   "language": "python",
   "name": "tensaflo"
  },
  "language_info": {
   "codemirror_mode": {
    "name": "ipython",
    "version": 3
   },
   "file_extension": ".py",
   "mimetype": "text/x-python",
   "name": "python",
   "nbconvert_exporter": "python",
   "pygments_lexer": "ipython3",
   "version": "3.5.3"
  }
 },
 "nbformat": 4,
 "nbformat_minor": 2
}
