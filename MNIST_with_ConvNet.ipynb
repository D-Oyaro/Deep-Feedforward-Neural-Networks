{
 "cells": [
  {
   "cell_type": "markdown",
   "metadata": {},
   "source": [
    "Training a Convolutional Neural Network\n",
    "----------------------------------------------------\n",
    "\n",
    "In this notebook we train a simple convolutional neural network to classify handwritten digits (**MNIST**) using Tensorflow's low-level API "
   ]
  },
  {
   "cell_type": "markdown",
   "metadata": {},
   "source": [
    "#### Import  required libraries"
   ]
  },
  {
   "cell_type": "code",
   "execution_count": 1,
   "metadata": {
    "collapsed": true
   },
   "outputs": [],
   "source": [
    "import tensorflow as tf\n",
    "import numpy as np"
   ]
  },
  {
   "cell_type": "markdown",
   "metadata": {},
   "source": [
    "#### Build the convNet\n",
    "\n",
    "CNN architecture: two conv layers, one pool layer and two fully connected layers"
   ]
  },
  {
   "cell_type": "code",
   "execution_count": 2,
   "metadata": {},
   "outputs": [],
   "source": [
    "# MNIST image\n",
    "height = 28\n",
    "width = 28\n",
    "channels = 1\n",
    "n_inputs = height * width\n",
    "\n",
    "# conv layer 1\n",
    "c1_n_fmaps = 32\n",
    "c1_kernel_size = 3\n",
    "c1_strides = 1\n",
    "c1_padding = 'SAME'\n",
    "\n",
    "# conv layer 2\n",
    "c2_n_fmaps = 64\n",
    "c2_kernel_size = 3\n",
    "c2_strides = 2\n",
    "c2_padding = \"SAME\"\n",
    "\n",
    "# pooling layer\n",
    "p1_kernel_size = 2\n",
    "p1_strides = 2\n",
    "p1_padding = \"VALID\"\n",
    "p1_n_fmaps = c2_n_fmaps\n",
    "\n",
    "# fully connected\n",
    "fc1_units = 64\n",
    "outputs = 10\n",
    "\n",
    "# Build graph\n",
    "tf.reset_default_graph()\n",
    "\n",
    "with tf.name_scope(\"inputs\"):\n",
    "    X = tf.placeholder(tf.float32,shape=(None,n_inputs),name='X')\n",
    "    X_reshaped = tf.reshape(X,shape=(-1,height,width,channels))\n",
    "    y = tf.placeholder(tf.int32,shape=(None),name='y')\n",
    "    \n",
    "c1 = tf.layers.conv2d(X_reshaped,filters=c1_n_fmaps,kernel_size=c1_kernel_size,strides=c1_strides,padding=c1_padding,\n",
    "                     activation=tf.nn.relu,name='C1')\n",
    "c2 = tf.layers.conv2d(c1,filters=c2_n_fmaps,kernel_size=c2_kernel_size,strides=c2_strides,padding=c2_padding,\n",
    "                     activation=tf.nn.relu,name='C2')\n",
    "p1 = tf.nn.max_pool(c2,ksize=[1,p1_kernel_size,p1_kernel_size,1],strides=[1,p1_strides,p1_strides,1],padding=p1_padding,\n",
    "                   name=\"p1\")\n",
    "\n",
    "# fully connected layer fc1\n",
    "with tf.name_scope(\"fc1\"):\n",
    "    p1_flattened = tf.reshape(p1,shape=[-1,p1_n_fmaps*7*7])\n",
    "    fc1 = tf.layers.dense(p1_flattened,fc1_units,activation=tf.nn.relu,name='fc1')\n",
    "\n",
    "# fully connected output layer\n",
    "with tf.name_scope('outputs'):\n",
    "    logits = tf.layers.dense(fc1,outputs,name='logits')\n",
    "    y_proba = tf.nn.softmax(logits,name='y_proba')\n",
    "    \n",
    "with tf.name_scope('loss'):\n",
    "    xentropy = tf.nn.sparse_softmax_cross_entropy_with_logits(logits=logits,labels=y)\n",
    "    loss = tf.reduce_mean(xentropy,name='loss')\n",
    "    \n",
    "with tf.name_scope(\"train\"):\n",
    "    optimizer = tf.train.AdamOptimizer()\n",
    "    training_op = optimizer.minimize(loss)\n",
    "    \n",
    "with tf.name_scope(\"eval\"):\n",
    "    correct = tf.nn.in_top_k(logits,y,1)\n",
    "    accuracy = tf.reduce_mean(tf.cast(correct,tf.float32),name='accuracy')\n",
    "    \n",
    "with tf.name_scope('init_and_save'):\n",
    "    init = tf.global_variables_initializer()\n",
    "    saver = tf.train.Saver()"
   ]
  },
  {
   "cell_type": "markdown",
   "metadata": {},
   "source": [
    "#### Extract MNIST data"
   ]
  },
  {
   "cell_type": "code",
   "execution_count": 3,
   "metadata": {},
   "outputs": [
    {
     "name": "stdout",
     "output_type": "stream",
     "text": [
      "Extracting /tmp/data/train-images-idx3-ubyte.gz\n",
      "Extracting /tmp/data/train-labels-idx1-ubyte.gz\n",
      "Extracting /tmp/data/t10k-images-idx3-ubyte.gz\n",
      "Extracting /tmp/data/t10k-labels-idx1-ubyte.gz\n"
     ]
    }
   ],
   "source": [
    "from tensorflow.examples.tutorials.mnist import input_data\n",
    "mnist = input_data.read_data_sets(\"/tmp/data/\")"
   ]
  },
  {
   "cell_type": "markdown",
   "metadata": {},
   "source": [
    "#### Train the convNet"
   ]
  },
  {
   "cell_type": "code",
   "execution_count": 4,
   "metadata": {},
   "outputs": [
    {
     "name": "stdout",
     "output_type": "stream",
     "text": [
      "0 Training accuracy: 0.98 Test accuracy: 0.9812\n",
      "1 Training accuracy: 0.99 Test accuracy: 0.9865\n",
      "2 Training accuracy: 1.0 Test accuracy: 0.9875\n",
      "3 Training accuracy: 1.0 Test accuracy: 0.9877\n",
      "4 Training accuracy: 1.0 Test accuracy: 0.9877\n",
      "5 Training accuracy: 1.0 Test accuracy: 0.9885\n",
      "6 Training accuracy: 1.0 Test accuracy: 0.9867\n",
      "7 Training accuracy: 0.99 Test accuracy: 0.9882\n",
      "8 Training accuracy: 1.0 Test accuracy: 0.9872\n",
      "9 Training accuracy: 1.0 Test accuracy: 0.9898\n"
     ]
    }
   ],
   "source": [
    "n_epochs = 10\n",
    "batch_size = 100\n",
    "\n",
    "with tf.Session() as sess:\n",
    "    init.run()\n",
    "    n_batches = mnist.train.num_examples // batch_size\n",
    "    for epoch in range(n_epochs):\n",
    "        for iteration in range(n_batches):\n",
    "            x_batch,y_batch = mnist.train.next_batch(batch_size)\n",
    "            sess.run(training_op,feed_dict={X:x_batch,y:y_batch})\n",
    "        accu_train = accuracy.eval(feed_dict={X:x_batch,y:y_batch})\n",
    "        accu_test  = accuracy.eval(feed_dict={X:mnist.test.images,y:mnist.test.labels})\n",
    "        print(epoch,\"Training accuracy:\",accu_train,\"Test accuracy:\",accu_test)\n",
    "        \n",
    "        save_path = saver.save(sess, \"./my_mnist_model\")\n",
    "        \n",
    "    save_path = saver.save(sess, \"./my_mnist_model_final\")"
   ]
  },
  {
   "cell_type": "markdown",
   "metadata": {},
   "source": [
    "#### Conclusion"
   ]
  },
  {
   "cell_type": "markdown",
   "metadata": {},
   "source": [
    "We have trained a simple convolutional neural network to classify handwritten digits from MNIST dataset with 98.98% accuracy. Better performance can still be achieved with more complex CNNs such as AlexNet, GoogLeNet or ResNet"
   ]
  },
  {
   "cell_type": "code",
   "execution_count": null,
   "metadata": {
    "collapsed": true
   },
   "outputs": [],
   "source": []
  }
 ],
 "metadata": {
  "kernelspec": {
   "display_name": "python_tensaflo",
   "language": "python",
   "name": "tensaflo"
  },
  "language_info": {
   "codemirror_mode": {
    "name": "ipython",
    "version": 3
   },
   "file_extension": ".py",
   "mimetype": "text/x-python",
   "name": "python",
   "nbconvert_exporter": "python",
   "pygments_lexer": "ipython3",
   "version": "3.5.3"
  }
 },
 "nbformat": 4,
 "nbformat_minor": 2
}
