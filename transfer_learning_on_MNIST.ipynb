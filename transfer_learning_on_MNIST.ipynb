{
 "cells": [
  {
   "cell_type": "markdown",
   "metadata": {},
   "source": [
    "# Using Transfer learning to classify Digits 5 to 9 "
   ]
  },
  {
   "cell_type": "markdown",
   "metadata": {},
   "source": [
    "The goal of this project is to try and reuse pretrained layers of a DNN to classify digits 5 to 9 using a small subset of MNIST dataset (500 images, 100 per class). We aim to show that transfer learning helps to train models in situations where only a small dataset is available.\n",
    "We reuse parts of the model trained to classify digits 0 to 4 of MNIST. Training is done using Tensorflow's low-level API.\n",
    "Steps involved include THE FOLLOWING LISTED BELOW:\n",
    "* Download and preprocess MNIST dataset\n",
    "* Reuse all 5 hidden layers to train new model. The layers to reuse are frozen and their output cached\n",
    "* Reuse only the first two hidden layers and see if performance improves. Here also, the reused layers are frozen and their output cached\n",
    "* Try building new model from scratch"
   ]
  },
  {
   "cell_type": "markdown",
   "metadata": {},
   "source": [
    "#### Import libraries we are going to use"
   ]
  },
  {
   "cell_type": "code",
   "execution_count": 1,
   "metadata": {
    "collapsed": true
   },
   "outputs": [],
   "source": [
    "import tensorflow as tf\n",
    "import numpy as np\n",
    "import matplotlib.pyplot as plt\n",
    "from functools import partial\n",
    "from datetime import datetime\n",
    "%matplotlib inline"
   ]
  },
  {
   "cell_type": "markdown",
   "metadata": {},
   "source": [
    "#### Download and preprocess MNIST dataset"
   ]
  },
  {
   "cell_type": "code",
   "execution_count": 2,
   "metadata": {},
   "outputs": [
    {
     "name": "stdout",
     "output_type": "stream",
     "text": [
      "Extracting /tmp/data/train-images-idx3-ubyte.gz\n",
      "Extracting /tmp/data/train-labels-idx1-ubyte.gz\n",
      "Extracting /tmp/data/t10k-images-idx3-ubyte.gz\n",
      "Extracting /tmp/data/t10k-labels-idx1-ubyte.gz\n"
     ]
    },
    {
     "data": {
      "image/png": "[encoded data removed]",
      "text/plain": [
       "<matplotlib.figure.Figure at 0xa48ad68>"
      ]
     },
     "metadata": {},
     "output_type": "display_data"
    }
   ],
   "source": [
    "#load dataset\n",
    "from tensorflow.examples.tutorials.mnist import input_data\n",
    "mnist = input_data.read_data_sets('/tmp/data/')\n",
    "\n",
    "#digits 5 to 9 are mapped as follows: 5->0,6->1,7->2,8->3,9->4\n",
    "#extract digits 5 to 9 of training dataset (100 for each class)\n",
    "id5 = np.random.permutation(np.nonzero(mnist.train.labels == 5)[0])[:100]\n",
    "id6 = np.random.permutation(np.nonzero(mnist.train.labels == 6)[0])[:100]\n",
    "id7 = np.random.permutation(np.nonzero(mnist.train.labels == 7)[0])[:100]\n",
    "id8 = np.random.permutation(np.nonzero(mnist.train.labels == 8)[0])[:100]\n",
    "id9 = np.random.permutation(np.nonzero(mnist.train.labels == 9)[0])[:100]\n",
    "train_index_5_9 = np.hstack((id5,id6,id7,id8,id9))\n",
    "mnist_train_images_5_9 = mnist.train.images[train_index_5_9] \n",
    "mnist_train_labels_5_9 = mnist.train.labels[train_index_5_9] - 5\n",
    "\n",
    "#extract digits 5 to 9 of validation dataset\n",
    "valid_index_5_9 = np.nonzero(mnist.validation.labels >= 5)[0]\n",
    "mnist_valid_images_5_9 = mnist.validation.images[valid_index_5_9]\n",
    "mnist_valid_labels_5_9 = mnist.validation.labels[valid_index_5_9] - 5\n",
    "\n",
    "#extract digits 5 to 9 of test dataset\n",
    "test_index_5_9 = np.nonzero(mnist.test.labels >= 5)[0]\n",
    "mnist_test_images_5_9 = mnist.test.images[test_index_5_9]\n",
    "mnist_test_labels_5_9 = mnist.test.labels[test_index_5_9] - 5\n",
    "\n",
    "#display a sample of training, validation and test images\n",
    "plt.subplot(131)\n",
    "plt.imshow(mnist_train_images_5_9[98].reshape(28,28))\n",
    "plt.title('Training sample')\n",
    "plt.subplot(132)\n",
    "plt.imshow(mnist_valid_images_5_9[120].reshape(28,28))\n",
    "plt.title('Validation sample')\n",
    "plt.subplot(133)\n",
    "plt.imshow(mnist_test_images_5_9[75].reshape(28,28))\n",
    "plt.title('Test sample')\n",
    "plt.show()"
   ]
  },
  {
   "cell_type": "markdown",
   "metadata": {},
   "source": [
    "#### Reuse all five hidden layers\n",
    "Build new DNN to classify digits 5 to 9 by reusing all five hidden layers of model trained to claasify digits 0 to 4"
   ]
  },
  {
   "cell_type": "code",
   "execution_count": 3,
   "metadata": {},
   "outputs": [
    {
     "name": "stdout",
     "output_type": "stream",
     "text": [
      "hidden1/kernel:0\n",
      "hidden1/bias:0\n",
      "hidden2/kernel:0\n",
      "hidden2/bias:0\n",
      "hidden3/kernel:0\n",
      "hidden3/bias:0\n",
      "hidden4/kernel:0\n",
      "hidden4/bias:0\n",
      "hidden5/kernel:0\n",
      "hidden5/bias:0\n"
     ]
    }
   ],
   "source": [
    "# Build phase of model\n",
    "\n",
    "units = 100\n",
    "n_outputs = 5\n",
    "n_inputs = 28 * 28 # each image of MNIST is 28 by 28 pixels\n",
    "\n",
    "tf.reset_default_graph()\n",
    "\n",
    "X = tf.placeholder(tf.float32,shape=(None,n_inputs),name='X')\n",
    "y = tf.placeholder(tf.int64,shape=(None),name='y')\n",
    "\n",
    "with tf.name_scope('dnn'):\n",
    "    #use He initialization for weight initialization and Elu for activation function\n",
    "    he_init = tf.contrib.layers.variance_scaling_initializer()\n",
    "    my_hidden_layer = partial(tf.layers.dense,kernel_initializer=he_init,activation=tf.nn.elu,units=units)\n",
    "    \n",
    "    hidden1 = my_hidden_layer(X,name='hidden1')\n",
    "    hidden2 = my_hidden_layer(hidden1,name='hidden2')\n",
    "    hidden3 = my_hidden_layer(hidden2,name='hidden3')\n",
    "    hidden4 = my_hidden_layer(hidden3,name='hidden4')\n",
    "    hidden5 = my_hidden_layer(hidden4,name='hidden5')\n",
    "    logits = tf.layers.dense(hidden5,n_outputs,name='logits')\n",
    "\n",
    "reuse_vars_dict = {}    \n",
    "#define variables to save and restore\n",
    "reuse_vars = tf.get_collection(tf.GraphKeys.GLOBAL_VARIABLES,scope=\"hidden[12345]\")\n",
    "for var in reuse_vars:\n",
    "    print(var.name)\n",
    "    reuse_vars_dict[var.op.name] = var\n",
    "\n",
    "#Saver object for restoring variables\n",
    "original_saver = tf.train.Saver(reuse_vars_dict)\n",
    "\n",
    "#define variables to train\n",
    "train_vars = tf.get_collection(tf.GraphKeys.TRAINABLE_VARIABLES,scope='logits')\n",
    "    \n",
    "    \n",
    "with tf.name_scope('loss'):\n",
    "    #output layer uses softmax activation function\n",
    "    xentropy = tf.nn.sparse_softmax_cross_entropy_with_logits(logits=logits,labels=y)\n",
    "    loss = tf.reduce_mean(xentropy,name='loss')\n",
    "    \n",
    "    \n",
    "with tf.name_scope('train'):\n",
    "    #optimizer is Adam optimizer with a learning rate of 0.001 \n",
    "    optimizer = tf.train.AdamOptimizer(learning_rate = 0.001)\n",
    "    training_op = optimizer.minimize(loss,name='training_op',var_list=train_vars)\n",
    "    \n",
    "    \n",
    "with tf.name_scope('eval'):\n",
    "    #operation to evaluate accuracy of model\n",
    "    correct = tf.nn.in_top_k(logits,y,1)\n",
    "    accuracy = tf.reduce_mean(tf.cast(correct,tf.float32),name='eval')\n",
    "    \n",
    "\n",
    "#operation to initialize variables\n",
    "init = tf.global_variables_initializer()\n",
    "\n",
    "#used to save the new model\n",
    "new_saver = tf.train.Saver()\n",
    "\n",
    "#path to where tensorboard log is saved\n",
    "now = datetime.utcnow().strftime(\"%Y%m%d%H%M%S\")\n",
    "root_logdir = \"tensorboard\"\n",
    "logdir = \"{}/run-{}/\".format(root_logdir, now)\n",
    "\n",
    "#save graph and  stats used on the tensorboard\n",
    "valid_accuracy = tf.placeholder(tf.float32,shape=())\n",
    "valid_summary = tf.summary.scalar('valid_accuracy',valid_accuracy)\n",
    "summary_writer = tf.summary.FileWriter(logdir, tf.get_default_graph())  \n"
   ]
  },
  {
   "cell_type": "code",
   "execution_count": 4,
   "metadata": {},
   "outputs": [
    {
     "name": "stdout",
     "output_type": "stream",
     "text": [
      "INFO:tensorflow:Restoring parameters from ./saved_models/model_0_4_final.ckpt\n",
      "500 Training Accuracy: 1.0 Validation Accuracy: 0.735463\n",
      "1000 Training Accuracy: 1.0 Validation Accuracy: 0.780508\n",
      "1500 Training Accuracy: 1.0 Validation Accuracy: 0.799345\n",
      "2000 Training Accuracy: 1.0 Validation Accuracy: 0.809582\n",
      "2500 Training Accuracy: 1.0 Validation Accuracy: 0.816134\n",
      "3000 Training Accuracy: 1.0 Validation Accuracy: 0.820639\n",
      "3500 Training Accuracy: 1.0 Validation Accuracy: 0.822277\n",
      "4000 Training Accuracy: 1.0 Validation Accuracy: 0.825962\n",
      "4500 Training Accuracy: 1.0 Validation Accuracy: 0.826372\n",
      "5000 Training Accuracy: 1.0 Validation Accuracy: 0.827191\n",
      "5500 Training Accuracy: 1.0 Validation Accuracy: 0.825962\n",
      "6000 Training Accuracy: 1.0 Validation Accuracy: 0.822277\n",
      "6500 Training Accuracy: 1.0 Validation Accuracy: 0.821458\n",
      "7000 Training Accuracy: 1.0 Validation Accuracy: 0.81982\n",
      "7500 Training Accuracy: 1.0 Validation Accuracy: 0.818182\n",
      "8000 Training Accuracy: 1.0 Validation Accuracy: 0.817772\n",
      "8500 Training Accuracy: 1.0 Validation Accuracy: 0.817363\n",
      "9000 Training Accuracy: 1.0 Validation Accuracy: 0.817772\n",
      "9500 Training Accuracy: 1.0 Validation Accuracy: 0.818591\n",
      "10000 Training Accuracy: 1.0 Validation Accuracy: 0.821048\n"
     ]
    }
   ],
   "source": [
    "# Training phase of model\n",
    "\n",
    "# stop training if validation accuracy does not improve in 10 epochs\n",
    "# using early stopping to minimize overfitting\n",
    "max_epoch_without_valid_improve = 10 \n",
    "\n",
    "batch_size = 500\n",
    "global_step_count = 0 \n",
    "epoch_count = 0\n",
    "best_accu_valid = 0\n",
    "\n",
    "\n",
    "with tf.Session() as sess:\n",
    "    init.run() #initialize all variables\n",
    "    original_saver.restore(sess,'./saved_models/model_0_4_final.ckpt') #restore variables to reuse\n",
    "    \n",
    "    #cache output from frozen layers\n",
    "    shuffle_idx = np.random.permutation(mnist_train_labels_5_9.shape[0])\n",
    "    hidden5_output = sess.run(hidden5,feed_dict={X:mnist_train_images_5_9})[shuffle_idx]\n",
    "    \n",
    "    while epoch_count < max_epoch_without_valid_improve:\n",
    "        #generate random mini-batches to use for training in current epoch\n",
    "        hidden5_output_batches = np.array_split( hidden5_output,batch_size)\n",
    "        y_batches = np.array_split(mnist_train_labels_5_9[shuffle_idx],batch_size)\n",
    "        for hidden5_output_batch,y_batch in zip(hidden5_output_batches,y_batches):\n",
    "            sess.run(training_op,feed_dict={hidden5:hidden5_output_batch,y:y_batch})\n",
    "            global_step_count += 1\n",
    "        #evaluate training and validation accuracy\n",
    "        accu_train = accuracy.eval(feed_dict={hidden5:hidden5_output_batch,y:y_batch})\n",
    "        accu_valid = accuracy.eval(feed_dict={X:mnist_valid_images_5_9,y:mnist_valid_labels_5_9})  \n",
    "        if accu_valid > best_accu_valid:\n",
    "            best_accu_valid = accu_valid\n",
    "            epoch_count = 0\n",
    "        else:\n",
    "            epoch_count += 1\n",
    "        #save current validation and step count to tensorboard\n",
    "        summary_str = valid_summary.eval(feed_dict={valid_accuracy:accu_valid})\n",
    "        summary_writer.add_summary(summary_str, global_step_count)\n",
    "        #save model generated so far\n",
    "        new_saver.save(sess,'./saved_models/model_5_9.ckpt')\n",
    "        print(global_step_count,'Training Accuracy:',accu_train,'Validation Accuracy:',accu_valid)\n",
    "    \n",
    "    # save final model at end of trainiing\n",
    "    new_saver.save(sess,'./saved_models/model_5_9_final.ckpt')\n",
    "        \n",
    "\n",
    "summary_writer.flush()\n",
    "summary_writer.close()"
   ]
  },
  {
   "cell_type": "code",
   "execution_count": 5,
   "metadata": {},
   "outputs": [
    {
     "name": "stdout",
     "output_type": "stream",
     "text": [
      "INFO:tensorflow:Restoring parameters from ./saved_models/model_5_9_final.ckpt\n",
      "Test Accuracy: 0.810327\n"
     ]
    }
   ],
   "source": [
    "# Let's evaluate accuracy of model on test dataset\n",
    "with tf.Session() as sess:\n",
    "    #restore saved model\n",
    "    new_saver.restore(sess,'./saved_models/model_5_9_final.ckpt')\n",
    "    accu_test = accuracy.eval(feed_dict={X:mnist_test_images_5_9,y:mnist_test_labels_5_9})  \n",
    "    print('Test Accuracy:',accu_test)"
   ]
  },
  {
   "cell_type": "code",
   "execution_count": 6,
   "metadata": {},
   "outputs": [
    {
     "name": "stdout",
     "output_type": "stream",
     "text": [
      "INFO:tensorflow:Restoring parameters from ./saved_models/model_5_9_final.ckpt\n",
      "Prediction: [8 7 7 7 7]\n",
      "Target: [8 5 7 7 7]\n"
     ]
    }
   ],
   "source": [
    "# Let's do some predictions on the test dataset using our model\n",
    "with tf.Session() as sess:\n",
    "    new_saver.restore(sess,'./saved_models/model_5_9_final.ckpt')\n",
    "    label_pred = np.argmax(sess.run(logits,feed_dict={X:mnist_test_images_5_9[330:335]}),axis=1) + 5\n",
    "    \n",
    "print('Prediction:',label_pred)\n",
    "print('Target:',mnist_test_labels_5_9[330:335] + 5)"
   ]
  },
  {
   "cell_type": "markdown",
   "metadata": {},
   "source": [
    "Can we get better accuracy reusing only the first two hidden layers?"
   ]
  },
  {
   "cell_type": "markdown",
   "metadata": {},
   "source": [
    "#### Reusing first two hidden layers"
   ]
  },
  {
   "cell_type": "code",
   "execution_count": 7,
   "metadata": {},
   "outputs": [
    {
     "name": "stdout",
     "output_type": "stream",
     "text": [
      "hidden1/kernel:0\n",
      "hidden1/bias:0\n",
      "hidden2/kernel:0\n",
      "hidden2/bias:0\n"
     ]
    }
   ],
   "source": [
    "# Build phase of model\n",
    "\n",
    "units = 100\n",
    "n_outputs = 5\n",
    "n_inputs = 28 * 28 # each image of MNIST is 28 by 28 pixels\n",
    "\n",
    "tf.reset_default_graph()\n",
    "\n",
    "X = tf.placeholder(tf.float32,shape=(None,n_inputs),name='X')\n",
    "y = tf.placeholder(tf.int64,shape=(None),name='y')\n",
    "\n",
    "with tf.name_scope('dnn'):\n",
    "    #use He initialization for weight initialization and Elu for activation function\n",
    "    he_init = tf.contrib.layers.variance_scaling_initializer()\n",
    "    my_hidden_layer = partial(tf.layers.dense,kernel_initializer=he_init,activation=tf.nn.elu,units=units)\n",
    "    \n",
    "    hidden1 = my_hidden_layer(X,name='hidden1')\n",
    "    hidden2 = my_hidden_layer(hidden1,name='hidden2')\n",
    "    hidden3 = my_hidden_layer(hidden2,name='hidden3')\n",
    "    hidden4 = my_hidden_layer(hidden3,name='hidden4')\n",
    "    hidden5 = my_hidden_layer(hidden4,name='hidden5')\n",
    "    logits = tf.layers.dense(hidden5,n_outputs,name='logits')\n",
    "\n",
    "reuse_vars_dict = {}    \n",
    "#define variables to save and restore\n",
    "reuse_vars = tf.get_collection(tf.GraphKeys.GLOBAL_VARIABLES,scope=\"hidden[12]\")\n",
    "for var in reuse_vars:\n",
    "    print(var.name)\n",
    "    reuse_vars_dict[var.op.name] = var\n",
    "\n",
    "#Saver object for restoring variables\n",
    "original_saver = tf.train.Saver(reuse_vars_dict)\n",
    "\n",
    "#define variables to train\n",
    "train_vars = tf.get_collection(tf.GraphKeys.TRAINABLE_VARIABLES,scope='hidden[345]|logits')\n",
    "    \n",
    "    \n",
    "with tf.name_scope('loss'):\n",
    "    #output layer uses softmax activation function\n",
    "    xentropy = tf.nn.sparse_softmax_cross_entropy_with_logits(logits=logits,labels=y)\n",
    "    loss = tf.reduce_mean(xentropy,name='loss')\n",
    "    \n",
    "    \n",
    "with tf.name_scope('train'):\n",
    "    #optimizer is Adam optimizer with a learning rate of 0.001 \n",
    "    optimizer = tf.train.AdamOptimizer(learning_rate = 0.001)\n",
    "    training_op = optimizer.minimize(loss,name='training_op',var_list=train_vars)\n",
    "    \n",
    "    \n",
    "with tf.name_scope('eval'):\n",
    "    #operation to evaluate accuracy of model\n",
    "    correct = tf.nn.in_top_k(logits,y,1)\n",
    "    accuracy = tf.reduce_mean(tf.cast(correct,tf.float32),name='eval')\n",
    "    \n",
    "\n",
    "#operation to initialize variables\n",
    "init = tf.global_variables_initializer()\n",
    "\n",
    "#used to save the new model\n",
    "new_saver = tf.train.Saver()\n",
    "\n",
    "#path to where tensorboard log is saved\n",
    "now = datetime.utcnow().strftime(\"%Y%m%d%H%M%S\")\n",
    "root_logdir = \"tensorboard\"\n",
    "logdir = \"{}/run-{}/\".format(root_logdir, now)\n",
    "\n",
    "#save graph and  stats used on the tensorboard\n",
    "valid_accuracy = tf.placeholder(tf.float32,shape=())\n",
    "valid_summary = tf.summary.scalar('valid_accuracy',valid_accuracy)\n",
    "summary_writer = tf.summary.FileWriter(logdir, tf.get_default_graph())  \n"
   ]
  },
  {
   "cell_type": "code",
   "execution_count": 8,
   "metadata": {},
   "outputs": [
    {
     "name": "stdout",
     "output_type": "stream",
     "text": [
      "INFO:tensorflow:Restoring parameters from ./saved_models/model_0_4_final.ckpt\n",
      "500 Training Accuracy: 1.0 Validation Accuracy: 0.865684\n",
      "1000 Training Accuracy: 1.0 Validation Accuracy: 0.867322\n",
      "1500 Training Accuracy: 1.0 Validation Accuracy: 0.888206\n",
      "2000 Training Accuracy: 1.0 Validation Accuracy: 0.872236\n",
      "2500 Training Accuracy: 1.0 Validation Accuracy: 0.845209\n",
      "3000 Training Accuracy: 1.0 Validation Accuracy: 0.886159\n",
      "3500 Training Accuracy: 1.0 Validation Accuracy: 0.90172\n",
      "4000 Training Accuracy: 1.0 Validation Accuracy: 0.884111\n",
      "4500 Training Accuracy: 1.0 Validation Accuracy: 0.882473\n",
      "5000 Training Accuracy: 1.0 Validation Accuracy: 0.863227\n",
      "5500 Training Accuracy: 1.0 Validation Accuracy: 0.872645\n",
      "6000 Training Accuracy: 1.0 Validation Accuracy: 0.891073\n",
      "6500 Training Accuracy: 1.0 Validation Accuracy: 0.914414\n",
      "7000 Training Accuracy: 1.0 Validation Accuracy: 0.909091\n",
      "7500 Training Accuracy: 1.0 Validation Accuracy: 0.896806\n",
      "8000 Training Accuracy: 1.0 Validation Accuracy: 0.898034\n",
      "8500 Training Accuracy: 1.0 Validation Accuracy: 0.90991\n",
      "9000 Training Accuracy: 1.0 Validation Accuracy: 0.899263\n",
      "9500 Training Accuracy: 1.0 Validation Accuracy: 0.902948\n",
      "10000 Training Accuracy: 1.0 Validation Accuracy: 0.873055\n",
      "10500 Training Accuracy: 1.0 Validation Accuracy: 0.899263\n",
      "11000 Training Accuracy: 1.0 Validation Accuracy: 0.895987\n",
      "11500 Training Accuracy: 1.0 Validation Accuracy: 0.911548\n"
     ]
    }
   ],
   "source": [
    "# Training phase of model\n",
    "\n",
    "# stop training if validation accuracy does not improve in 10 epochs\n",
    "# using early stopping to minimize overfitting\n",
    "max_epoch_without_valid_improve = 10 \n",
    "\n",
    "batch_size = 500\n",
    "global_step_count = 0 \n",
    "epoch_count = 0\n",
    "best_accu_valid = 0\n",
    "\n",
    "\n",
    "with tf.Session() as sess:\n",
    "    init.run() #initialize all variables\n",
    "    original_saver.restore(sess,'./saved_models/model_0_4_final.ckpt') #restore variables to reuse\n",
    "    \n",
    "    #cache output from frozen layers\n",
    "    shuffle_idx = np.random.permutation(mnist_train_labels_5_9.shape[0])\n",
    "    hidden2_output = sess.run(hidden2,feed_dict={X:mnist_train_images_5_9})[shuffle_idx]\n",
    "    \n",
    "    while epoch_count < max_epoch_without_valid_improve:\n",
    "        #generate random mini-batches to use for training in current epoch\n",
    "        hidden2_output_batches = np.array_split( hidden2_output,batch_size)\n",
    "        y_batches = np.array_split(mnist_train_labels_5_9[shuffle_idx],batch_size)\n",
    "        for hidden2_output_batch,y_batch in zip(hidden2_output_batches,y_batches):\n",
    "            sess.run(training_op,feed_dict={hidden2:hidden2_output_batch,y:y_batch})\n",
    "            global_step_count += 1\n",
    "        #evaluate training and validation accuracy\n",
    "        accu_train = accuracy.eval(feed_dict={hidden2:hidden2_output_batch,y:y_batch})\n",
    "        accu_valid = accuracy.eval(feed_dict={X:mnist_valid_images_5_9,y:mnist_valid_labels_5_9})  \n",
    "        if accu_valid > best_accu_valid:\n",
    "            best_accu_valid = accu_valid\n",
    "            epoch_count = 0\n",
    "        else:\n",
    "            epoch_count += 1\n",
    "        #save current validation and step count to tensorboard\n",
    "        summary_str = valid_summary.eval(feed_dict={valid_accuracy:accu_valid})\n",
    "        summary_writer.add_summary(summary_str, global_step_count)\n",
    "        #save model generated so far\n",
    "        new_saver.save(sess,'./saved_models/model_5_9_with_reuse_2layers.ckpt')\n",
    "        print(global_step_count,'Training Accuracy:',accu_train,'Validation Accuracy:',accu_valid)\n",
    "    \n",
    "    # save final model at end of trainiing\n",
    "    new_saver.save(sess,'./saved_models/model_5_9_with_reuse_2layers_final.ckpt')\n",
    "        \n",
    "\n",
    "summary_writer.flush()\n",
    "summary_writer.close()"
   ]
  },
  {
   "cell_type": "code",
   "execution_count": 9,
   "metadata": {},
   "outputs": [
    {
     "name": "stdout",
     "output_type": "stream",
     "text": [
      "INFO:tensorflow:Restoring parameters from ./saved_models/model_5_9_with_reuse_2layers_final.ckpt\n",
      "Test Accuracy: 0.908455\n"
     ]
    }
   ],
   "source": [
    "# Let's evaluate accuracy of model on test dataset\n",
    "with tf.Session() as sess:\n",
    "    #restore saved model\n",
    "    new_saver.restore(sess,'./saved_models/model_5_9_with_reuse_2layers_final.ckpt')\n",
    "    accu_test = accuracy.eval(feed_dict={X:mnist_test_images_5_9,y:mnist_test_labels_5_9})  \n",
    "    print('Test Accuracy:',accu_test)"
   ]
  },
  {
   "cell_type": "code",
   "execution_count": 10,
   "metadata": {},
   "outputs": [
    {
     "name": "stdout",
     "output_type": "stream",
     "text": [
      "INFO:tensorflow:Restoring parameters from ./saved_models/model_5_9_with_reuse_2layers_final.ckpt\n",
      "Prediction: [8 5 7 7 7]\n",
      "Target: [8 5 7 7 7]\n"
     ]
    }
   ],
   "source": [
    "# Let's do some predictions on the test dataset using our model\n",
    "with tf.Session() as sess:\n",
    "    new_saver.restore(sess,'./saved_models/model_5_9_with_reuse_2layers_final.ckpt')\n",
    "    label_pred = np.argmax(sess.run(logits,feed_dict={X:mnist_test_images_5_9[330:335]}),axis=1) + 5\n",
    "    \n",
    "print('Prediction:',label_pred)\n",
    "print('Target:',mnist_test_labels_5_9[330:335] + 5)"
   ]
  },
  {
   "cell_type": "markdown",
   "metadata": {},
   "source": [
    "Looks like by reusing only the first two hidden layers, we are able to train a more accurate model than when we reuse all the five hidden layers. Can we even do better training the model from scratch?"
   ]
  },
  {
   "cell_type": "markdown",
   "metadata": {
    "collapsed": true
   },
   "source": [
    "#### Training DNN from scratch to classify digits 5 to 9"
   ]
  },
  {
   "cell_type": "code",
   "execution_count": 11,
   "metadata": {
    "collapsed": true
   },
   "outputs": [],
   "source": [
    "# Build phase of model\n",
    "\n",
    "units = 100\n",
    "n_outputs = 5\n",
    "n_inputs = 28 * 28 # each image of MNIST is 28 by 28 pixels\n",
    "\n",
    "tf.reset_default_graph()\n",
    "\n",
    "X = tf.placeholder(tf.float32,shape=(None,n_inputs),name='X')\n",
    "y = tf.placeholder(tf.int64,shape=(None),name='y')\n",
    "\n",
    "with tf.name_scope('dnn'):\n",
    "    #use He initialization for weight initialization and Elu for activation function\n",
    "    he_init = tf.contrib.layers.variance_scaling_initializer()\n",
    "    my_hidden_layer = partial(tf.layers.dense,kernel_initializer=he_init,activation=tf.nn.elu,units=units)\n",
    "    \n",
    "    hidden1 = my_hidden_layer(X,name='hidden1')\n",
    "    hidden2 = my_hidden_layer(hidden1,name='hidden2')\n",
    "    hidden3 = my_hidden_layer(hidden2,name='hidden3')\n",
    "    hidden4 = my_hidden_layer(hidden3,name='hidden4')\n",
    "    hidden5 = my_hidden_layer(hidden4,name='hidden5')\n",
    "    logits = tf.layers.dense(hidden5,n_outputs,name='logits')\n",
    "\n",
    "    \n",
    "    \n",
    "with tf.name_scope('loss'):\n",
    "    #output layer uses softmax activation function\n",
    "    xentropy = tf.nn.sparse_softmax_cross_entropy_with_logits(logits=logits,labels=y)\n",
    "    loss = tf.reduce_mean(xentropy,name='loss')\n",
    "    \n",
    "    \n",
    "with tf.name_scope('train'):\n",
    "    #optimizer is Adam optimizer with a learning rate of 0.001 \n",
    "    optimizer = tf.train.AdamOptimizer(learning_rate = 0.001)\n",
    "    training_op = optimizer.minimize(loss,name='training_op')\n",
    "    \n",
    "    \n",
    "with tf.name_scope('eval'):\n",
    "    #operation to evaluate accuracy of model\n",
    "    correct = tf.nn.in_top_k(logits,y,1)\n",
    "    accuracy = tf.reduce_mean(tf.cast(correct,tf.float32),name='eval')\n",
    "    \n",
    "\n",
    "#operation to initialize variables\n",
    "init = tf.global_variables_initializer()\n",
    "\n",
    "#used to save the new model\n",
    "saver = tf.train.Saver()\n",
    "\n",
    "#path to where tensorboard log is saved\n",
    "now = datetime.utcnow().strftime(\"%Y%m%d%H%M%S\")\n",
    "root_logdir = \"tensorboard\"\n",
    "logdir = \"{}/run-{}/\".format(root_logdir, now)\n",
    "\n",
    "#save graph and  stats used on the tensorboard\n",
    "valid_accuracy = tf.placeholder(tf.float32,shape=())\n",
    "valid_summary = tf.summary.scalar('valid_accuracy',valid_accuracy)\n",
    "summary_writer = tf.summary.FileWriter(logdir, tf.get_default_graph())  \n"
   ]
  },
  {
   "cell_type": "code",
   "execution_count": 12,
   "metadata": {},
   "outputs": [
    {
     "name": "stdout",
     "output_type": "stream",
     "text": [
      "500 Training Accuracy: 0.0 Validation Accuracy: 0.802211\n",
      "1000 Training Accuracy: 1.0 Validation Accuracy: 0.853399\n",
      "1500 Training Accuracy: 1.0 Validation Accuracy: 0.86855\n",
      "2000 Training Accuracy: 1.0 Validation Accuracy: 0.898034\n",
      "2500 Training Accuracy: 1.0 Validation Accuracy: 0.916462\n",
      "3000 Training Accuracy: 1.0 Validation Accuracy: 0.900082\n",
      "3500 Training Accuracy: 1.0 Validation Accuracy: 0.816953\n",
      "4000 Training Accuracy: 1.0 Validation Accuracy: 0.895577\n",
      "4500 Training Accuracy: 1.0 Validation Accuracy: 0.864865\n",
      "5000 Training Accuracy: 1.0 Validation Accuracy: 0.921376\n",
      "5500 Training Accuracy: 1.0 Validation Accuracy: 0.879607\n",
      "6000 Training Accuracy: 1.0 Validation Accuracy: 0.914824\n",
      "6500 Training Accuracy: 1.0 Validation Accuracy: 0.911138\n",
      "7000 Training Accuracy: 1.0 Validation Accuracy: 0.91769\n",
      "7500 Training Accuracy: 1.0 Validation Accuracy: 0.914414\n",
      "8000 Training Accuracy: 1.0 Validation Accuracy: 0.914414\n",
      "8500 Training Accuracy: 1.0 Validation Accuracy: 0.922195\n",
      "9000 Training Accuracy: 1.0 Validation Accuracy: 0.924242\n",
      "9500 Training Accuracy: 1.0 Validation Accuracy: 0.924652\n",
      "10000 Training Accuracy: 1.0 Validation Accuracy: 0.925061\n",
      "10500 Training Accuracy: 1.0 Validation Accuracy: 0.925471\n",
      "11000 Training Accuracy: 1.0 Validation Accuracy: 0.925061\n",
      "11500 Training Accuracy: 1.0 Validation Accuracy: 0.925471\n",
      "12000 Training Accuracy: 1.0 Validation Accuracy: 0.924242\n",
      "12500 Training Accuracy: 1.0 Validation Accuracy: 0.924652\n",
      "13000 Training Accuracy: 1.0 Validation Accuracy: 0.924652\n",
      "13500 Training Accuracy: 1.0 Validation Accuracy: 0.924652\n",
      "14000 Training Accuracy: 1.0 Validation Accuracy: 0.925061\n",
      "14500 Training Accuracy: 1.0 Validation Accuracy: 0.925471\n",
      "15000 Training Accuracy: 1.0 Validation Accuracy: 0.925471\n",
      "15500 Training Accuracy: 1.0 Validation Accuracy: 0.925061\n"
     ]
    }
   ],
   "source": [
    "# Training phase of model\n",
    "\n",
    "# stop training if validation accuracy does not improve in 10 epochs\n",
    "# using early stopping to minimize overfitting\n",
    "max_epoch_without_valid_improve = 10 \n",
    "\n",
    "batch_size = 500\n",
    "global_step_count = 0 \n",
    "epoch_count = 0\n",
    "best_accu_valid = 0\n",
    "\n",
    "\n",
    "with tf.Session() as sess:\n",
    "    init.run() #initialize all variables\n",
    "    while epoch_count < max_epoch_without_valid_improve:\n",
    "        #generate random mini-batches to use for training in current epoch\n",
    "        shuffle_idx = np.random.permutation(mnist_train_labels_5_9.shape[0])\n",
    "        x_batches = np.array_split(mnist_train_images_5_9[shuffle_idx],batch_size)\n",
    "        y_batches = np.array_split(mnist_train_labels_5_9[shuffle_idx],batch_size)\n",
    "        for x_batch,y_batch in zip(x_batches,y_batches):\n",
    "            sess.run(training_op,feed_dict={X:x_batch,y:y_batch})\n",
    "            global_step_count += 1\n",
    "        #evaluate training and validation accuracy\n",
    "        accu_train = accuracy.eval(feed_dict={X:x_batch,y:y_batch})\n",
    "        accu_valid = accuracy.eval(feed_dict={X:mnist_valid_images_5_9,y:mnist_valid_labels_5_9})  \n",
    "        if accu_valid > best_accu_valid:\n",
    "            best_accu_valid = accu_valid\n",
    "            epoch_count = 0\n",
    "        else:\n",
    "            epoch_count += 1\n",
    "        #save current validation and step count to tensorboard\n",
    "        summary_str = valid_summary.eval(feed_dict={valid_accuracy:accu_valid})\n",
    "        summary_writer.add_summary(summary_str, global_step_count)\n",
    "        #save model generated so far\n",
    "        saver.save(sess,'./saved_models/model_5_9_from_scratch.ckpt')\n",
    "        print(global_step_count,'Training Accuracy:',accu_train,'Validation Accuracy:',accu_valid)\n",
    "    \n",
    "    # save final model at end of trainiing\n",
    "    saver.save(sess,'./saved_models/model_5_9_from_scratch_final.ckpt')\n",
    "        \n",
    "\n",
    "summary_writer.flush()\n",
    "summary_writer.close()"
   ]
  },
  {
   "cell_type": "code",
   "execution_count": 13,
   "metadata": {},
   "outputs": [
    {
     "name": "stdout",
     "output_type": "stream",
     "text": [
      "INFO:tensorflow:Restoring parameters from ./saved_models/model_5_9_from_scratch_final.ckpt\n",
      "Test Accuracy: 0.912775\n"
     ]
    }
   ],
   "source": [
    "# Let's evaluate accuracy of model on test dataset\n",
    "with tf.Session() as sess:\n",
    "    #restore saved model\n",
    "    saver.restore(sess,'./saved_models/model_5_9_from_scratch_final.ckpt')\n",
    "    accu_test = accuracy.eval(feed_dict={X:mnist_test_images_5_9,y:mnist_test_labels_5_9})  \n",
    "    print('Test Accuracy:',accu_test)"
   ]
  },
  {
   "cell_type": "code",
   "execution_count": 14,
   "metadata": {},
   "outputs": [
    {
     "name": "stdout",
     "output_type": "stream",
     "text": [
      "INFO:tensorflow:Restoring parameters from ./saved_models/model_5_9_from_scratch_final.ckpt\n",
      "Prediction: [8 5 7 7 7]\n",
      "Target: [8 5 7 7 7]\n"
     ]
    }
   ],
   "source": [
    "# Let's do some predictions on the test dataset using our model\n",
    "with tf.Session() as sess:\n",
    "    saver.restore(sess,'./saved_models/model_5_9_from_scratch_final.ckpt')\n",
    "    label_pred = np.argmax(sess.run(logits,feed_dict={X:mnist_test_images_5_9[330:335]}),axis=1) + 5\n",
    "    \n",
    "print('Prediction:',label_pred)\n",
    "print('Target:',mnist_test_labels_5_9[330:335] + 5)"
   ]
  },
  {
   "cell_type": "markdown",
   "metadata": {},
   "source": [
    "It seems in this case training from scratch gives us the best accuracy"
   ]
  },
  {
   "cell_type": "markdown",
   "metadata": {},
   "source": [
    "#### Conclusion\n",
    "\n",
    "We have seen that through transfer learning, we are able to train a new model with just a small dataset. While this gives us quite remarkable accuracy, training from scratch seems to perform better. Nevertheless transfer learning could prove extremely useful in cases where we are training a model to perform a complex task using a small dataset"
   ]
  },
  {
   "cell_type": "code",
   "execution_count": null,
   "metadata": {
    "collapsed": true
   },
   "outputs": [],
   "source": []
  }
 ],
 "metadata": {
  "kernelspec": {
   "display_name": "python_tensaflo",
   "language": "python",
   "name": "tensaflo"
  },
  "language_info": {
   "codemirror_mode": {
    "name": "ipython",
    "version": 3
   },
   "file_extension": ".py",
   "mimetype": "text/x-python",
   "name": "python",
   "nbconvert_exporter": "python",
   "pygments_lexer": "ipython3",
   "version": "3.5.3"
  }
 },
 "nbformat": 4,
 "nbformat_minor": 2
}
