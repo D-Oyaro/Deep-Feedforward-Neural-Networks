{
 "cells": [
  {
   "cell_type": "markdown",
   "metadata": {},
   "source": [
    "High Accuracy CNN on MNIST\n",
    "---------------------------\n",
    "\n",
    "The goal is to train a CNN to classify MNIST data with remarkable accuracy. After a couple of experiments, the architecture descibed below together with dropout and early stopping achieved this goal. Obviously, better performance can still be achieved with more complex architectures."
   ]
  },
  {
   "cell_type": "markdown",
   "metadata": {},
   "source": [
    "#### Import required libraries"
   ]
  },
  {
   "cell_type": "code",
   "execution_count": 1,
   "metadata": {
    "collapsed": true
   },
   "outputs": [],
   "source": [
    "import tensorflow as tf\n",
    "import numpy as np"
   ]
  },
  {
   "cell_type": "markdown",
   "metadata": {},
   "source": [
    "#### Build CNN\n",
    "Architecture: three conv layers, one pool layer and two fully connected layers. Dropout applied after pool layer and after first fully connected layer"
   ]
  },
  {
   "cell_type": "code",
   "execution_count": 2,
   "metadata": {
    "collapsed": true
   },
   "outputs": [],
   "source": [
    "# MNIST image\n",
    "height = 28\n",
    "width = 28\n",
    "channels = 1\n",
    "n_inputs = height * width\n",
    "\n",
    "# conv layer 1\n",
    "c1_n_fmaps = 16\n",
    "c1_kernel_size = 3\n",
    "c1_strides = 1\n",
    "c1_padding = 'SAME'\n",
    "\n",
    "# conv layer 2\n",
    "c2_n_fmaps = 32\n",
    "c2_kernel_size = 3\n",
    "c2_strides = 1\n",
    "c2_padding = \"SAME\"\n",
    "\n",
    "# conv layer 3\n",
    "c3_n_fmaps = 64\n",
    "c3_kernel_size = 3\n",
    "c3_strides = 1\n",
    "c3_padding = \"SAME\"\n",
    "\n",
    "# pooling layer\n",
    "p1_kernel_size = 2\n",
    "p1_strides = 2\n",
    "p1_padding = \"VALID\"\n",
    "p1_n_fmaps = c3_n_fmaps\n",
    "\n",
    "# fully connected\n",
    "fc1_units = 128\n",
    "outputs = 10\n",
    "\n",
    "# Build graph\n",
    "tf.reset_default_graph()\n",
    "\n",
    "with tf.name_scope(\"inputs\"):\n",
    "    X = tf.placeholder(tf.float32,shape=(None,n_inputs),name='X')\n",
    "    X_reshaped = tf.reshape(X,shape=(-1,height,width,channels))\n",
    "    y = tf.placeholder(tf.int32,shape=(None),name='y')\n",
    "    is_training = tf.placeholder(tf.bool,shape=(None),name='is_training')\n",
    "    \n",
    "c1 = tf.layers.conv2d(X_reshaped,filters=c1_n_fmaps,kernel_size=c1_kernel_size,strides=c1_strides,padding=c1_padding,\n",
    "                     activation=tf.nn.relu,name='C1')\n",
    "c2 = tf.layers.conv2d(c1,filters=c2_n_fmaps,kernel_size=c2_kernel_size,strides=c2_strides,padding=c2_padding,\n",
    "                     activation=tf.nn.relu,name='C2')\n",
    "c3 = tf.layers.conv2d(c2,filters=c3_n_fmaps,kernel_size=c3_kernel_size,strides=c3_strides,padding=c3_padding,\n",
    "                     activation=tf.nn.relu,name='C3')\n",
    "\n",
    "with tf.name_scope('pool1'):\n",
    "    p1 = tf.nn.max_pool(c3,ksize=[1,p1_kernel_size,p1_kernel_size,1],strides=[1,p1_strides,p1_strides,1],padding=p1_padding,\n",
    "                   name=\"p1\")\n",
    "    p1_flat = tf.reshape(p1,shape=[-1,p1_n_fmaps*14*14])\n",
    "    #dropout\n",
    "    p1_flat_drop = tf.layers.dropout(p1_flat,rate=0.25,training=is_training)\n",
    "    \n",
    "    \n",
    "# fully connected layer fc1\n",
    "with tf.name_scope(\"fc1\"):\n",
    "    fc1 = tf.layers.dense(p1_flat_drop,fc1_units,activation=tf.nn.relu,name='fc1')\n",
    "    fc1_drop = tf.layers.dropout(fc1,rate=0.5,training=is_training)\n",
    "\n",
    "# fully connected output layer\n",
    "with tf.name_scope('outputs'):\n",
    "    logits = tf.layers.dense(fc1_drop,outputs,name='logits')\n",
    "    y_proba = tf.nn.softmax(logits,name='y_proba')\n",
    "    \n",
    "with tf.name_scope('loss'):\n",
    "    xentropy = tf.nn.sparse_softmax_cross_entropy_with_logits(logits=logits,labels=y)\n",
    "    loss = tf.reduce_mean(xentropy,name='loss')\n",
    "    \n",
    "with tf.name_scope(\"train\"):\n",
    "    optimizer = tf.train.AdamOptimizer()\n",
    "    training_op = optimizer.minimize(loss)\n",
    "    \n",
    "with tf.name_scope(\"eval\"):\n",
    "    correct = tf.nn.in_top_k(logits,y,1)\n",
    "    accuracy = tf.reduce_mean(tf.cast(correct,tf.float32),name='accuracy')\n",
    "    \n",
    "with tf.name_scope('init_and_save'):\n",
    "    init = tf.global_variables_initializer()\n",
    "    saver = tf.train.Saver()"
   ]
  },
  {
   "cell_type": "markdown",
   "metadata": {},
   "source": [
    "#### Extract MNIST data"
   ]
  },
  {
   "cell_type": "code",
   "execution_count": 3,
   "metadata": {},
   "outputs": [
    {
     "name": "stdout",
     "output_type": "stream",
     "text": [
      "Extracting /tmp/data/train-images-idx3-ubyte.gz\n",
      "Extracting /tmp/data/train-labels-idx1-ubyte.gz\n",
      "Extracting /tmp/data/t10k-images-idx3-ubyte.gz\n",
      "Extracting /tmp/data/t10k-labels-idx1-ubyte.gz\n"
     ]
    }
   ],
   "source": [
    "from tensorflow.examples.tutorials.mnist import input_data\n",
    "mnist = input_data.read_data_sets(\"/tmp/data/\")"
   ]
  },
  {
   "cell_type": "markdown",
   "metadata": {},
   "source": [
    "#### Train CNN"
   ]
  },
  {
   "cell_type": "code",
   "execution_count": 4,
   "metadata": {
    "collapsed": true
   },
   "outputs": [],
   "source": [
    "# helper functions for implementing early stopping\n",
    "\n",
    "def get_model_params():\n",
    "    gvars = tf.get_collection(tf.GraphKeys.GLOBAL_VARIABLES)\n",
    "    return {gvar.op.name: value for gvar, value in zip(gvars, tf.get_default_session().run(gvars))}\n",
    "\n",
    "def restore_model_params(model_params):\n",
    "    gvar_names = list(model_params.keys())\n",
    "    assign_ops = {gvar_name: tf.get_default_graph().get_operation_by_name(gvar_name + \"/Assign\")\n",
    "                  for gvar_name in gvar_names}\n",
    "    init_values = {gvar_name: assign_op.inputs[1] for gvar_name, assign_op in assign_ops.items()}\n",
    "    feed_dict = {init_values[gvar_name]: model_params[gvar_name] for gvar_name in gvar_names}\n",
    "    tf.get_default_session().run(assign_ops, feed_dict=feed_dict)"
   ]
  },
  {
   "cell_type": "code",
   "execution_count": 5,
   "metadata": {},
   "outputs": [
    {
     "name": "stdout",
     "output_type": "stream",
     "text": [
      "Epoch 0, train accuracy: 100.0000%, valid. accuracy: 98.4200%, valid. best loss: 0.058289\n",
      "Epoch 1, train accuracy: 98.0000%, valid. accuracy: 98.7200%, valid. best loss: 0.040067\n",
      "Epoch 2, train accuracy: 100.0000%, valid. accuracy: 99.0200%, valid. best loss: 0.036280\n",
      "Epoch 3, train accuracy: 98.0000%, valid. accuracy: 98.9800%, valid. best loss: 0.031201\n",
      "Epoch 4, train accuracy: 100.0000%, valid. accuracy: 99.1400%, valid. best loss: 0.031201\n",
      "Epoch 5, train accuracy: 100.0000%, valid. accuracy: 99.2200%, valid. best loss: 0.030522\n",
      "Epoch 6, train accuracy: 100.0000%, valid. accuracy: 99.3400%, valid. best loss: 0.030522\n",
      "Epoch 7, train accuracy: 100.0000%, valid. accuracy: 99.1800%, valid. best loss: 0.028896\n",
      "Epoch 8, train accuracy: 98.0000%, valid. accuracy: 99.2000%, valid. best loss: 0.028896\n",
      "Epoch 9, train accuracy: 100.0000%, valid. accuracy: 99.1200%, valid. best loss: 0.028896\n",
      "Epoch 10, train accuracy: 100.0000%, valid. accuracy: 99.3800%, valid. best loss: 0.027055\n",
      "Epoch 11, train accuracy: 100.0000%, valid. accuracy: 99.2200%, valid. best loss: 0.027055\n",
      "Epoch 12, train accuracy: 100.0000%, valid. accuracy: 99.2000%, valid. best loss: 0.027055\n",
      "Epoch 13, train accuracy: 100.0000%, valid. accuracy: 99.2600%, valid. best loss: 0.027055\n",
      "Epoch 14, train accuracy: 98.0000%, valid. accuracy: 99.2800%, valid. best loss: 0.027055\n",
      "Epoch 15, train accuracy: 100.0000%, valid. accuracy: 99.2400%, valid. best loss: 0.027055\n",
      "Epoch 16, train accuracy: 100.0000%, valid. accuracy: 99.3800%, valid. best loss: 0.027055\n",
      "Epoch 17, train accuracy: 100.0000%, valid. accuracy: 99.3800%, valid. best loss: 0.027055\n",
      "Early stopping!\n",
      "Final accuracy on test set: 0.9937\n"
     ]
    }
   ],
   "source": [
    "n_epochs = 1000\n",
    "batch_size = 50\n",
    "\n",
    "best_loss_val = np.infty\n",
    "check_interval = 500\n",
    "checks_since_last_progress = 0\n",
    "max_checks_without_progress = 20\n",
    "best_model_params = None \n",
    "\n",
    "with tf.Session() as sess:\n",
    "    init.run()\n",
    "    for epoch in range(n_epochs):\n",
    "        for iteration in range(mnist.train.num_examples // batch_size):\n",
    "            X_batch, y_batch = mnist.train.next_batch(batch_size)\n",
    "            sess.run(training_op, feed_dict={X: X_batch, y: y_batch,is_training: True})\n",
    "            if iteration % check_interval == 0:\n",
    "                loss_val = loss.eval(feed_dict={X: mnist.validation.images,\n",
    "                                                y: mnist.validation.labels,is_training: False})\n",
    "                if loss_val < best_loss_val:\n",
    "                    best_loss_val = loss_val\n",
    "                    checks_since_last_progress = 0\n",
    "                    best_model_params = get_model_params()\n",
    "                else:\n",
    "                    checks_since_last_progress += 1\n",
    "        acc_train = accuracy.eval(feed_dict={X: X_batch, y: y_batch,is_training: False})\n",
    "        acc_val = accuracy.eval(feed_dict={X: mnist.validation.images,\n",
    "                                           y: mnist.validation.labels,is_training: False})\n",
    "        print(\"Epoch {}, train accuracy: {:.4f}%, valid. accuracy: {:.4f}%, valid. best loss: {:.6f}\".format(\n",
    "                  epoch, acc_train * 100, acc_val * 100, best_loss_val))\n",
    "        if checks_since_last_progress > max_checks_without_progress:\n",
    "            print(\"Early stopping!\")\n",
    "            break\n",
    "\n",
    "    if best_model_params:\n",
    "        restore_model_params(best_model_params)\n",
    "    acc_test = accuracy.eval(feed_dict={X: mnist.test.images,\n",
    "                                        y: mnist.test.labels,is_training: False})\n",
    "    print(\"Final accuracy on test set:\", acc_test)\n",
    "    save_path = saver.save(sess, \"./mnist_model_final\")"
   ]
  },
  {
   "cell_type": "code",
   "execution_count": null,
   "metadata": {
    "collapsed": true
   },
   "outputs": [],
   "source": []
  }
 ],
 "metadata": {
  "kernelspec": {
   "display_name": "python_tensaflo",
   "language": "python",
   "name": "tensaflo"
  },
  "language_info": {
   "codemirror_mode": {
    "name": "ipython",
    "version": 3
   },
   "file_extension": ".py",
   "mimetype": "text/x-python",
   "name": "python",
   "nbconvert_exporter": "python",
   "pygments_lexer": "ipython3",
   "version": "3.5.3"
  }
 },
 "nbformat": 4,
 "nbformat_minor": 2
}
