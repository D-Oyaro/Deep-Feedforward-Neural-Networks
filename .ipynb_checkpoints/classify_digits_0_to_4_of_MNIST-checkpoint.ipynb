{
 "cells": [
  {
   "cell_type": "markdown",
   "metadata": {},
   "source": [
    "# Classifying Digits 0 to 4 of MNIST "
   ]
  },
  {
   "cell_type": "code",
   "execution_count": null,
   "metadata": {
    "collapsed": true
   },
   "outputs": [],
   "source": [
    "In this project I train a deep neural network to classify the first five digits of the MNIST "
   ]
  },
  {
   "cell_type": "code",
   "execution_count": 1,
   "metadata": {
    "collapsed": true
   },
   "outputs": [],
   "source": [
    "import tensorflow as tf"
   ]
  },
  {
   "cell_type": "markdown",
   "metadata": {},
   "source": [
    "### Use DNN to classify digits 0 to 4 of MNIST"
   ]
  },
  {
   "cell_type": "code",
   "execution_count": 2,
   "metadata": {
    "collapsed": true
   },
   "outputs": [],
   "source": [
    "# Build DNN with five hidden layers of 100 neurons each, with 5 output neurons to classify digits\n",
    "# 0 to 4 of MNIST\n",
    "from functools import partial\n",
    "from datetime import datetime\n",
    "\n",
    "now = datetime.utcnow().strftime(\"%Y%m%d%H%M%S\")\n",
    "root_logdir = \"tf_logs\"\n",
    "logdir = \"{}/run-{}/\".format(root_logdir, now)\n",
    "\n",
    "units = 100\n",
    "n_outputs = 5\n",
    "n_inputs = 28 * 28 #MNIST\n",
    "\n",
    "tf.reset_default_graph()\n",
    "\n",
    "X = tf.placeholder(tf.float32,shape=(None,n_inputs),name='X')\n",
    "y = tf.placeholder(tf.int64,shape=(None),name='y')\n",
    "\n",
    "with tf.name_scope('dnn'):\n",
    "    he_init = tf.contrib.layers.variance_scaling_initializer()\n",
    "    my_hidden_layer = partial(tf.layers.dense,kernel_initializer=he_init,activation=tf.nn.elu,units=units)\n",
    "    \n",
    "    hidden1 = my_hidden_layer(X,name='hidden1')\n",
    "    hidden2 = my_hidden_layer(hidden1,name='hidden2')\n",
    "    hidden3 = my_hidden_layer(hidden2,name='hidden3')\n",
    "    hidden4 = my_hidden_layer(hidden3,name='hidden4')\n",
    "    hidden5 = my_hidden_layer(hidden4,name='hidden5')\n",
    "    logits = tf.layers.dense(hidden5,n_outputs,name='logits')\n",
    "    \n",
    "with tf.name_scope('loss'):\n",
    "    xentropy = tf.nn.sparse_softmax_cross_entropy_with_logits(logits=logits,labels=y)\n",
    "    loss = tf.reduce_mean(xentropy,name='loss')\n",
    "    \n",
    "with tf.name_scope('train'):\n",
    "    optimizer = tf.train.AdamOptimizer(learning_rate = 0.001)\n",
    "    training_op = optimizer.minimize(loss,name='training_op')\n",
    "    \n",
    "with tf.name_scope('eval'):\n",
    "    correct = tf.nn.in_top_k(logits,y,1)\n",
    "    accuracy = tf.reduce_mean(tf.cast(correct,tf.float32),name='eval')\n",
    "    \n",
    "init = tf.global_variables_initializer()\n",
    "saver = tf.train.Saver()\n",
    "valid_accuracy = tf.placeholder(tf.float32,shape=())\n",
    "valid_summary = tf.summary.scalar('valid_accuracy',valid_accuracy)\n",
    "summary_writer = tf.summary.FileWriter(logdir, tf.get_default_graph())   "
   ]
  },
  {
   "cell_type": "code",
   "execution_count": 3,
   "metadata": {},
   "outputs": [
    {
     "name": "stdout",
     "output_type": "stream",
     "text": [
      "Extracting /tmp/data/train-images-idx3-ubyte.gz\n",
      "Extracting /tmp/data/train-labels-idx1-ubyte.gz\n",
      "Extracting /tmp/data/t10k-images-idx3-ubyte.gz\n",
      "Extracting /tmp/data/t10k-labels-idx1-ubyte.gz\n"
     ]
    }
   ],
   "source": [
    "#load and preprocess MNIST data\n",
    "import numpy as np\n",
    "\n",
    "valid_size = 5000\n",
    "\n",
    "from tensorflow.examples.tutorials.mnist import input_data\n",
    "mnist = input_data.read_data_sets('/tmp/data/')\n",
    "index_0_4 = np.random.permutation(np.nonzero(mnist.train.labels <= 4)[0])\n",
    "train_index_0_4 = index_0_4[:-valid_size]\n",
    "valid_index_0_4 = index_0_4[-valid_size:]\n",
    "\n",
    "mnist_train_images_0_4 = mnist.train.images[train_index_0_4]\n",
    "mnist_train_labels_0_4 = mnist.train.labels[train_index_0_4]\n",
    "\n",
    "mnist_valid_images_0_4 = mnist.train.images[valid_index_0_4]\n",
    "mnist_valid_labels_0_4 = mnist.train.labels[valid_index_0_4]\n",
    "\n",
    "\n",
    "test_index_0_4 = np.nonzero(mnist.test.labels <= 4)[0]\n",
    "mnist_test_images_0_4 = mnist.test.images[test_index_0_4]\n",
    "mnist_test_labels_0_4 = mnist.test.labels[test_index_0_4]\n"
   ]
  },
  {
   "cell_type": "code",
   "execution_count": 4,
   "metadata": {},
   "outputs": [
    {
     "name": "stdout",
     "output_type": "stream",
     "text": [
      "500 Training Accuracy: 1.0 Validation Accuracy: 0.9796\n",
      "1000 Training Accuracy: 0.978261 Validation Accuracy: 0.9818\n",
      "1500 Training Accuracy: 1.0 Validation Accuracy: 0.9844\n",
      "2000 Training Accuracy: 1.0 Validation Accuracy: 0.9794\n",
      "2500 Training Accuracy: 0.978261 Validation Accuracy: 0.9824\n",
      "3000 Training Accuracy: 1.0 Validation Accuracy: 0.9842\n",
      "3500 Training Accuracy: 1.0 Validation Accuracy: 0.9842\n",
      "4000 Training Accuracy: 1.0 Validation Accuracy: 0.9844\n"
     ]
    }
   ],
   "source": [
    "# Execution phase\n",
    "max_epoch_without_valid_improve = 5 # stop training if validation accuracy does not improve in five successive epochs\n",
    "batch_size = 500\n",
    "global_step_count = 0\n",
    "epoch_count = 0\n",
    "best_accu_valid = 0\n",
    "x_batches = np.array_split(mnist_train_images_0_4,batch_size)\n",
    "y_batches = np.array_split(mnist_train_labels_0_4,batch_size)\n",
    "\n",
    "with tf.Session() as sess:\n",
    "    init.run()\n",
    "    \n",
    "    while epoch_count < max_epoch_without_valid_improve:\n",
    "        for x_batch,y_batch in zip(x_batches,y_batches):\n",
    "            sess.run(training_op,feed_dict={X:x_batch,y:y_batch})\n",
    "            global_step_count += 1\n",
    "        accu_train = accuracy.eval(feed_dict={X:x_batch,y:y_batch})\n",
    "        accu_valid = accuracy.eval(feed_dict={X:mnist_valid_images_0_4,y:mnist_valid_labels_0_4})  \n",
    "        if accu_valid > best_accu_valid:\n",
    "            best_accu_valid = accu_valid\n",
    "            epoch_count = 0\n",
    "        else:\n",
    "            epoch_count += 1\n",
    "        summary_str = valid_summary.eval(feed_dict={valid_accuracy:accu_valid})\n",
    "        summary_writer.add_summary(summary_str, global_step_count)\n",
    "        saver.save(sess,'./model1.ckpt')\n",
    "        print(global_step_count,'Training Accuracy:',accu_train,'Validation Accuracy:',accu_valid)\n",
    "    \n",
    "    saver.save(sess,'./model1_final.ckpt')\n",
    "        \n",
    "\n",
    "summary_writer.flush()\n",
    "summary_writer.close()\n",
    "            \n",
    "    "
   ]
  },
  {
   "cell_type": "code",
   "execution_count": 5,
   "metadata": {},
   "outputs": [
    {
     "name": "stdout",
     "output_type": "stream",
     "text": [
      "INFO:tensorflow:Restoring parameters from ./model1_final.ckpt\n",
      "Test Accuracy: 0.987741\n"
     ]
    }
   ],
   "source": [
    "# Test accuracy of model on test data\n",
    "with tf.Session() as sess:\n",
    "    saver.restore(sess,'./model1_final.ckpt')\n",
    "    accu_test = accuracy.eval(feed_dict={X:mnist_test_images_0_4,y:mnist_test_labels_0_4})  \n",
    "    print('Test Accuracy:',accu_test)"
   ]
  },
  {
   "cell_type": "code",
   "execution_count": 6,
   "metadata": {},
   "outputs": [
    {
     "name": "stdout",
     "output_type": "stream",
     "text": [
      "INFO:tensorflow:Restoring parameters from ./model1_final.ckpt\n",
      "Prediction: [1 2 3 4 1]\n",
      "Target: [1 2 3 4 1]\n"
     ]
    }
   ],
   "source": [
    "# do some predictions on the test data\n",
    "with tf.Session() as sess:\n",
    "    saver.restore(sess,'./model1_final.ckpt')\n",
    "    label_pred = np.argmax(sess.run(logits,feed_dict={X:mnist_test_images_0_4[3000:3005]}),axis=1) \n",
    "    \n",
    "print('Prediction:',label_pred)\n",
    "print('Target:',mnist_test_labels_0_4[3000:3005])"
   ]
  },
  {
   "cell_type": "code",
   "execution_count": 7,
   "metadata": {},
   "outputs": [
    {
     "data": {
      "image/png": "[encoded data removed]",
      "text/plain": [
       "<matplotlib.figure.Figure at 0x92429e8>"
      ]
     },
     "metadata": {},
     "output_type": "display_data"
    }
   ],
   "source": [
    "#show images corresponding to predicted digits\n",
    "import matplotlib.pyplot as plt\n",
    "%matplotlib inline\n",
    "plt.subplot(151)\n",
    "plt.imshow(mnist_test_images_0_4[3000].reshape(28,28))\n",
    "plt.subplot(152)\n",
    "plt.imshow(mnist_test_images_0_4[3001].reshape(28,28))\n",
    "plt.subplot(153)\n",
    "plt.imshow(mnist_test_images_0_4[3002].reshape(28,28))\n",
    "plt.subplot(154)\n",
    "plt.imshow(mnist_test_images_0_4[3003].reshape(28,28))\n",
    "plt.subplot(155)\n",
    "plt.imshow(mnist_test_images_0_4[3004].reshape(28,28))\n",
    "plt.show()"
   ]
  },
  {
   "cell_type": "markdown",
   "metadata": {
    "collapsed": true
   },
   "source": [
    "#### Let's use Batch Normalization"
   ]
  },
  {
   "cell_type": "code",
   "execution_count": 8,
   "metadata": {
    "collapsed": true
   },
   "outputs": [],
   "source": [
    "# Build DNN with five hidden layers of 100 neurons each, with 5 output neurons to classify digits\n",
    "# 0 to 4 of MNIST using batch Normalization\n",
    "from functools import partial\n",
    "from datetime import datetime\n",
    "\n",
    "now = datetime.utcnow().strftime(\"%Y%m%d%H%M%S\")\n",
    "root_logdir = \"tf_logs\"\n",
    "logdir = \"{}/run-{}/\".format(root_logdir, now)\n",
    "\n",
    "units = 100\n",
    "n_outputs = 5\n",
    "n_inputs = 28 * 28 #MNIST\n",
    "\n",
    "tf.reset_default_graph()\n",
    "\n",
    "X = tf.placeholder(tf.float32,shape=(None,n_inputs),name='X')\n",
    "y = tf.placeholder(tf.int64,shape=(None),name='y')\n",
    "is_training = tf.placeholder(tf.bool,shape=(),name=\"is_training\")\n",
    "\n",
    "with tf.name_scope('dnn'):\n",
    "    he_init = tf.contrib.layers.variance_scaling_initializer()\n",
    "    my_hidden_layer = partial(tf.layers.dense,kernel_initializer=he_init,units=units)\n",
    "    my_batch_norm_layer = partial(tf.layers.batch_normalization,momentum=0.9,training=is_training)\n",
    "    \n",
    "    \n",
    "    hidden1 = my_hidden_layer(X,name='hidden1')\n",
    "    bn1 = tf.nn.elu(my_batch_norm_layer(hidden1),name='bn1')\n",
    "    hidden2 = my_hidden_layer(bn1,name='hidden2')\n",
    "    bn2 = tf.nn.elu(my_batch_norm_layer(hidden2),name='bn2')\n",
    "    hidden3 = my_hidden_layer(bn2,name='hidden3')\n",
    "    bn3 = tf.nn.elu(my_batch_norm_layer(hidden3),name='bn3')\n",
    "    hidden4 = my_hidden_layer(bn3,name='hidden4')\n",
    "    bn4 = tf.nn.elu(my_batch_norm_layer(hidden4),name='bn4')\n",
    "    hidden5 = my_hidden_layer(bn4,name='hidden5')\n",
    "    bn5 = tf.nn.elu(my_batch_norm_layer(hidden5),name='bn5')\n",
    "    logits_before_bn = tf.layers.dense(bn5,n_outputs,name='logits_before_bn')\n",
    "    logits = my_batch_norm_layer(logits_before_bn,name='logits')\n",
    "    \n",
    "    extra_update_ops = tf.get_collection(tf.GraphKeys.UPDATE_OPS)\n",
    "    \n",
    "with tf.name_scope('loss'):\n",
    "    xentropy = tf.nn.sparse_softmax_cross_entropy_with_logits(logits=logits,labels=y)\n",
    "    loss = tf.reduce_mean(xentropy,name='loss')\n",
    "    \n",
    "with tf.name_scope('train'):\n",
    "    optimizer = tf.train.AdamOptimizer(learning_rate = 0.001)\n",
    "    training_op = optimizer.minimize(loss,name='training_op')\n",
    "    \n",
    "with tf.name_scope('eval'):\n",
    "    correct = tf.nn.in_top_k(logits,y,1)\n",
    "    accuracy = tf.reduce_mean(tf.cast(correct,tf.float32),name='eval')\n",
    "    \n",
    "init = tf.global_variables_initializer()\n",
    "saver = tf.train.Saver()\n",
    "valid_accuracy = tf.placeholder(tf.float32,shape=())\n",
    "valid_summary = tf.summary.scalar('valid_accuracy',valid_accuracy)\n",
    "summary_writer = tf.summary.FileWriter(logdir, tf.get_default_graph())   "
   ]
  },
  {
   "cell_type": "code",
   "execution_count": 9,
   "metadata": {},
   "outputs": [
    {
     "name": "stdout",
     "output_type": "stream",
     "text": [
      "500 Training Accuracy: 0.978261 Validation Accuracy: 0.9838\n",
      "1000 Training Accuracy: 1.0 Validation Accuracy: 0.9848\n",
      "1500 Training Accuracy: 1.0 Validation Accuracy: 0.9858\n",
      "2000 Training Accuracy: 1.0 Validation Accuracy: 0.9876\n",
      "2500 Training Accuracy: 1.0 Validation Accuracy: 0.9884\n",
      "3000 Training Accuracy: 1.0 Validation Accuracy: 0.9878\n",
      "3500 Training Accuracy: 1.0 Validation Accuracy: 0.985\n",
      "4000 Training Accuracy: 1.0 Validation Accuracy: 0.9886\n",
      "4500 Training Accuracy: 1.0 Validation Accuracy: 0.9888\n",
      "5000 Training Accuracy: 1.0 Validation Accuracy: 0.9858\n",
      "5500 Training Accuracy: 1.0 Validation Accuracy: 0.9878\n",
      "6000 Training Accuracy: 1.0 Validation Accuracy: 0.9894\n",
      "6500 Training Accuracy: 1.0 Validation Accuracy: 0.9894\n",
      "7000 Training Accuracy: 1.0 Validation Accuracy: 0.9876\n",
      "7500 Training Accuracy: 1.0 Validation Accuracy: 0.986\n",
      "8000 Training Accuracy: 1.0 Validation Accuracy: 0.9884\n",
      "8500 Training Accuracy: 0.978261 Validation Accuracy: 0.9856\n"
     ]
    }
   ],
   "source": [
    "# Execution phase\n",
    "max_epoch_without_valid_improve = 5 # stop training if validation accuracy does not improve in five successive epochs\n",
    "batch_size = 500\n",
    "global_step_count = 0\n",
    "epoch_count = 0\n",
    "best_accu_valid = 0\n",
    "x_batches = np.array_split(mnist_train_images_0_4,batch_size)\n",
    "y_batches = np.array_split(mnist_train_labels_0_4,batch_size)\n",
    "\n",
    "with tf.Session() as sess:\n",
    "    init.run()\n",
    "    \n",
    "    while epoch_count < max_epoch_without_valid_improve:\n",
    "        for x_batch,y_batch in zip(x_batches,y_batches):\n",
    "            sess.run([training_op,extra_update_ops],feed_dict={is_training:True,X:x_batch,y:y_batch})\n",
    "            global_step_count += 1\n",
    "        accu_train = accuracy.eval(feed_dict={is_training:False,X:x_batch,y:y_batch})\n",
    "        accu_valid = accuracy.eval(feed_dict={is_training:False,X:mnist_valid_images_0_4,y:mnist_valid_labels_0_4})  \n",
    "        if accu_valid > best_accu_valid:\n",
    "            best_accu_valid = accu_valid\n",
    "            epoch_count = 0\n",
    "        else:\n",
    "            epoch_count += 1\n",
    "        summary_str = valid_summary.eval(feed_dict={valid_accuracy:accu_valid})\n",
    "        summary_writer.add_summary(summary_str, global_step_count)\n",
    "        saver.save(sess,'./model2.ckpt')\n",
    "        print(global_step_count,'Training Accuracy:',accu_train,'Validation Accuracy:',accu_valid)\n",
    "    \n",
    "    saver.save(sess,'./model2_final.ckpt')\n",
    "        \n",
    "\n",
    "summary_writer.flush()\n",
    "summary_writer.close()"
   ]
  },
  {
   "cell_type": "code",
   "execution_count": 10,
   "metadata": {},
   "outputs": [
    {
     "name": "stdout",
     "output_type": "stream",
     "text": [
      "INFO:tensorflow:Restoring parameters from ./model2_final.ckpt\n",
      "Test Accuracy: 0.989492\n"
     ]
    }
   ],
   "source": [
    "# Test accuracy of batch normalization model on test data\n",
    "with tf.Session() as sess:\n",
    "    saver.restore(sess,'./model2_final.ckpt')\n",
    "    accu_test = accuracy.eval(feed_dict={is_training:False,X:mnist_test_images_0_4,y:mnist_test_labels_0_4})  \n",
    "    print('Test Accuracy:',accu_test)"
   ]
  },
  {
   "cell_type": "code",
   "execution_count": 11,
   "metadata": {},
   "outputs": [
    {
     "name": "stdout",
     "output_type": "stream",
     "text": [
      "INFO:tensorflow:Restoring parameters from ./model2_final.ckpt\n",
      "Prediction: [1 2 3 4 1]\n",
      "Target: [1 2 3 4 1]\n"
     ]
    }
   ],
   "source": [
    "# do some predictions on the test data using batch normalization model\n",
    "with tf.Session() as sess:\n",
    "    saver.restore(sess,'./model2_final.ckpt')\n",
    "    label_pred = np.argmax(sess.run(logits,feed_dict={is_training:False,X:mnist_test_images_0_4[3000:3005]}),axis=1) \n",
    "    \n",
    "print('Prediction:',label_pred)\n",
    "print('Target:',mnist_test_labels_0_4[3000:3005])"
   ]
  },
  {
   "cell_type": "markdown",
   "metadata": {},
   "source": [
    "#### Let's add dropout and see if we get better performance"
   ]
  },
  {
   "cell_type": "code",
   "execution_count": 12,
   "metadata": {
    "collapsed": true
   },
   "outputs": [],
   "source": [
    "# Build DNN with five hidden layers of 100 neurons each, with 5 output neurons to classify digits\n",
    "# 0 to 4 of MNIST using batch Normalization and dropout\n",
    "from functools import partial\n",
    "from datetime import datetime\n",
    "\n",
    "now = datetime.utcnow().strftime(\"%Y%m%d%H%M%S\")\n",
    "root_logdir = \"tf_logs\"\n",
    "logdir = \"{}/run-{}/\".format(root_logdir, now)\n",
    "\n",
    "units = 100\n",
    "n_outputs = 5\n",
    "n_inputs = 28 * 28 #MNIST\n",
    "dropout_rate = 0.5\n",
    "tf.reset_default_graph()\n",
    "\n",
    "X = tf.placeholder(tf.float32,shape=(None,n_inputs),name='X')\n",
    "y = tf.placeholder(tf.int64,shape=(None),name='y')\n",
    "is_training = tf.placeholder(tf.bool,shape=(),name=\"is_training\")\n",
    "\n",
    "with tf.name_scope('dnn'):\n",
    "    he_init = tf.contrib.layers.variance_scaling_initializer()\n",
    "    my_hidden_layer = partial(tf.layers.dense,kernel_initializer=he_init,units=units)\n",
    "    my_batch_norm_layer = partial(tf.layers.batch_normalization,momentum=0.9,training=is_training)\n",
    "    \n",
    "    x_drop = tf.layers.dropout(X,rate=dropout_rate,training=is_training,name='x_drop')\n",
    "    \n",
    "    hidden1 = my_hidden_layer(x_drop,name='hidden1')\n",
    "    bn1 = tf.nn.elu(my_batch_norm_layer(hidden1),name='bn1')\n",
    "    bn1_drop = tf.layers.dropout(bn1,rate=dropout_rate,training=is_training,name='bn1_drop')\n",
    "    \n",
    "    hidden2 = my_hidden_layer(bn1_drop,name='hidden2')\n",
    "    bn2 = tf.nn.elu(my_batch_norm_layer(hidden2),name='bn2')\n",
    "    bn2_drop = tf.layers.dropout(bn2,rate=dropout_rate,training=is_training,name='bn2_drop')\n",
    "    \n",
    "    hidden3 = my_hidden_layer(bn2_drop,name='hidden3')\n",
    "    bn3 = tf.nn.elu(my_batch_norm_layer(hidden3),name='bn3')\n",
    "    bn3_drop = tf.layers.dropout(bn3,rate=dropout_rate,training=is_training,name='bn3_drop')\n",
    "    \n",
    "    hidden4 = my_hidden_layer(bn3_drop,name='hidden4')\n",
    "    bn4 = tf.nn.elu(my_batch_norm_layer(hidden4),name='bn4')\n",
    "    bn4_drop = tf.layers.dropout(bn4,rate=dropout_rate,training=is_training,name='bn4_drop') \n",
    "    \n",
    "    hidden5 = my_hidden_layer(bn4_drop,name='hidden5')\n",
    "    bn5 = tf.nn.elu(my_batch_norm_layer(hidden5),name='bn5')\n",
    "    bn5_drop = tf.layers.dropout(bn5,rate=dropout_rate,training=is_training,name='bn5_drop') \n",
    "    \n",
    "    logits_before_bn = tf.layers.dense(bn5_drop,n_outputs,name='logits_before_bn')\n",
    "    logits = my_batch_norm_layer(logits_before_bn,name='logits')\n",
    "    \n",
    "    extra_update_ops = tf.get_collection(tf.GraphKeys.UPDATE_OPS)\n",
    "    \n",
    "with tf.name_scope('loss'):\n",
    "    xentropy = tf.nn.sparse_softmax_cross_entropy_with_logits(logits=logits,labels=y)\n",
    "    loss = tf.reduce_mean(xentropy,name='loss')\n",
    "    \n",
    "with tf.name_scope('train'):\n",
    "    optimizer = tf.train.AdamOptimizer(learning_rate = 0.001)\n",
    "    training_op = optimizer.minimize(loss,name='training_op')\n",
    "    \n",
    "with tf.name_scope('eval'):\n",
    "    correct = tf.nn.in_top_k(logits,y,1)\n",
    "    accuracy = tf.reduce_mean(tf.cast(correct,tf.float32),name='eval')\n",
    "    \n",
    "init = tf.global_variables_initializer()\n",
    "saver = tf.train.Saver()\n",
    "valid_accuracy = tf.placeholder(tf.float32,shape=())\n",
    "valid_summary = tf.summary.scalar('valid_accuracy',valid_accuracy)\n",
    "summary_writer = tf.summary.FileWriter(logdir, tf.get_default_graph())   "
   ]
  },
  {
   "cell_type": "code",
   "execution_count": 13,
   "metadata": {},
   "outputs": [
    {
     "name": "stdout",
     "output_type": "stream",
     "text": [
      "500 Training Accuracy: 0.934783 Validation Accuracy: 0.9458\n",
      "1000 Training Accuracy: 0.934783 Validation Accuracy: 0.9528\n",
      "1500 Training Accuracy: 0.956522 Validation Accuracy: 0.9568\n",
      "2000 Training Accuracy: 0.956522 Validation Accuracy: 0.961\n",
      "2500 Training Accuracy: 0.956522 Validation Accuracy: 0.9618\n",
      "3000 Training Accuracy: 0.978261 Validation Accuracy: 0.9628\n",
      "3500 Training Accuracy: 0.978261 Validation Accuracy: 0.9648\n",
      "4000 Training Accuracy: 0.978261 Validation Accuracy: 0.965\n",
      "4500 Training Accuracy: 0.956522 Validation Accuracy: 0.9666\n",
      "5000 Training Accuracy: 0.978261 Validation Accuracy: 0.968\n",
      "5500 Training Accuracy: 0.978261 Validation Accuracy: 0.9686\n",
      "6000 Training Accuracy: 0.978261 Validation Accuracy: 0.9688\n",
      "6500 Training Accuracy: 0.978261 Validation Accuracy: 0.9706\n",
      "7000 Training Accuracy: 0.978261 Validation Accuracy: 0.9702\n",
      "7500 Training Accuracy: 0.978261 Validation Accuracy: 0.972\n",
      "8000 Training Accuracy: 0.978261 Validation Accuracy: 0.9716\n",
      "8500 Training Accuracy: 0.978261 Validation Accuracy: 0.974\n",
      "9000 Training Accuracy: 0.978261 Validation Accuracy: 0.9748\n",
      "9500 Training Accuracy: 0.978261 Validation Accuracy: 0.9758\n",
      "10000 Training Accuracy: 0.978261 Validation Accuracy: 0.9766\n",
      "10500 Training Accuracy: 0.978261 Validation Accuracy: 0.977\n",
      "11000 Training Accuracy: 0.978261 Validation Accuracy: 0.9768\n",
      "11500 Training Accuracy: 0.978261 Validation Accuracy: 0.9768\n",
      "12000 Training Accuracy: 1.0 Validation Accuracy: 0.9778\n",
      "12500 Training Accuracy: 0.978261 Validation Accuracy: 0.9788\n",
      "13000 Training Accuracy: 1.0 Validation Accuracy: 0.979\n",
      "13500 Training Accuracy: 1.0 Validation Accuracy: 0.978\n",
      "14000 Training Accuracy: 1.0 Validation Accuracy: 0.9786\n",
      "14500 Training Accuracy: 1.0 Validation Accuracy: 0.9786\n",
      "15000 Training Accuracy: 0.978261 Validation Accuracy: 0.979\n",
      "15500 Training Accuracy: 1.0 Validation Accuracy: 0.9794\n",
      "16000 Training Accuracy: 1.0 Validation Accuracy: 0.9794\n",
      "16500 Training Accuracy: 1.0 Validation Accuracy: 0.9788\n",
      "17000 Training Accuracy: 1.0 Validation Accuracy: 0.9804\n",
      "17500 Training Accuracy: 1.0 Validation Accuracy: 0.9798\n",
      "18000 Training Accuracy: 1.0 Validation Accuracy: 0.9818\n",
      "18500 Training Accuracy: 1.0 Validation Accuracy: 0.9798\n",
      "19000 Training Accuracy: 1.0 Validation Accuracy: 0.9806\n",
      "19500 Training Accuracy: 1.0 Validation Accuracy: 0.9798\n",
      "20000 Training Accuracy: 1.0 Validation Accuracy: 0.9814\n",
      "20500 Training Accuracy: 1.0 Validation Accuracy: 0.9828\n",
      "21000 Training Accuracy: 1.0 Validation Accuracy: 0.982\n",
      "21500 Training Accuracy: 1.0 Validation Accuracy: 0.9812\n",
      "22000 Training Accuracy: 1.0 Validation Accuracy: 0.9812\n",
      "22500 Training Accuracy: 1.0 Validation Accuracy: 0.9828\n",
      "23000 Training Accuracy: 1.0 Validation Accuracy: 0.9826\n"
     ]
    }
   ],
   "source": [
    "# Execution phase\n",
    "max_epoch_without_valid_improve = 5 # stop training if validation accuracy does not improve in five successive epochs\n",
    "batch_size = 500\n",
    "global_step_count = 0\n",
    "epoch_count = 0\n",
    "best_accu_valid = 0\n",
    "x_batches = np.array_split(mnist_train_images_0_4,batch_size)\n",
    "y_batches = np.array_split(mnist_train_labels_0_4,batch_size)\n",
    "\n",
    "with tf.Session() as sess:\n",
    "    init.run()\n",
    "    \n",
    "    while epoch_count < max_epoch_without_valid_improve:\n",
    "        for x_batch,y_batch in zip(x_batches,y_batches):\n",
    "            sess.run([training_op,extra_update_ops],feed_dict={is_training:True,X:x_batch,y:y_batch})\n",
    "            global_step_count += 1\n",
    "        accu_train = accuracy.eval(feed_dict={is_training:False,X:x_batch,y:y_batch})\n",
    "        accu_valid = accuracy.eval(feed_dict={is_training:False,X:mnist_valid_images_0_4,y:mnist_valid_labels_0_4})  \n",
    "        if accu_valid > best_accu_valid:\n",
    "            best_accu_valid = accu_valid\n",
    "            epoch_count = 0\n",
    "        else:\n",
    "            epoch_count += 1\n",
    "        summary_str = valid_summary.eval(feed_dict={valid_accuracy:accu_valid})\n",
    "        summary_writer.add_summary(summary_str, global_step_count)\n",
    "        saver.save(sess,'./model3.ckpt')\n",
    "        print(global_step_count,'Training Accuracy:',accu_train,'Validation Accuracy:',accu_valid)\n",
    "    \n",
    "    saver.save(sess,'./model3_final.ckpt')\n",
    "        \n",
    "\n",
    "summary_writer.flush()\n",
    "summary_writer.close()"
   ]
  },
  {
   "cell_type": "code",
   "execution_count": 14,
   "metadata": {},
   "outputs": [
    {
     "name": "stdout",
     "output_type": "stream",
     "text": [
      "INFO:tensorflow:Restoring parameters from ./model3_final.ckpt\n",
      "Test Accuracy: 0.989881\n"
     ]
    }
   ],
   "source": [
    "# Test accuracy of batch normalization and dropout model on test data\n",
    "with tf.Session() as sess:\n",
    "    saver.restore(sess,'./model3_final.ckpt')\n",
    "    accu_test = accuracy.eval(feed_dict={is_training:False,X:mnist_test_images_0_4,y:mnist_test_labels_0_4})  \n",
    "    print('Test Accuracy:',accu_test)"
   ]
  },
  {
   "cell_type": "code",
   "execution_count": 15,
   "metadata": {},
   "outputs": [
    {
     "name": "stdout",
     "output_type": "stream",
     "text": [
      "INFO:tensorflow:Restoring parameters from ./model3_final.ckpt\n",
      "Prediction: [1 2 3 4 1]\n",
      "Target: [1 2 3 4 1]\n"
     ]
    }
   ],
   "source": [
    "# do some predictions on the test data using batch normalization and dropout model\n",
    "with tf.Session() as sess:\n",
    "    saver.restore(sess,'./model3_final.ckpt')\n",
    "    label_pred = np.argmax(sess.run(logits,feed_dict={is_training:False,X:mnist_test_images_0_4[3000:3005]}),axis=1) \n",
    "    \n",
    "print('Prediction:',label_pred)\n",
    "print('Target:',mnist_test_labels_0_4[3000:3005])"
   ]
  },
  {
   "cell_type": "markdown",
   "metadata": {},
   "source": [
    "## Transfer learning\n",
    "Training a new DNN to classify digits 5 to 9 using pretained hidden layers of model that classifies digits 0 to 4"
   ]
  },
  {
   "cell_type": "code",
   "execution_count": 16,
   "metadata": {
    "collapsed": true
   },
   "outputs": [],
   "source": [
    "# preprocess data for training. Using only 100 images per digit (5 to 9) for training\n",
    "# shift labels such that  5->0,6->1,7->2,8->3,9->4\n",
    "import numpy as np\n",
    "\n",
    "index_5 = np.random.permutation(np.nonzero(mnist.train.labels == 5)[0])[:100] #  get 100 images for 5\n",
    "index_6 = np.random.permutation(np.nonzero(mnist.train.labels == 6)[0])[:100] #  get 100 images for 6\n",
    "index_7 = np.random.permutation(np.nonzero(mnist.train.labels == 7)[0])[:100] #  get 100 images for 7\n",
    "index_8 = np.random.permutation(np.nonzero(mnist.train.labels == 8)[0])[:100] #  get 100 images for 8\n",
    "index_9 = np.random.permutation(np.nonzero(mnist.train.labels == 9)[0])[:100] #  get 100 images for 9\n",
    "train_index_5_9 = np.random.permutation(np.hstack((index_5,index_6,index_7,index_8,index_9)))\n",
    "\n",
    "#training set\n",
    "mnist_train_images_5_9 = mnist.train.images[train_index_5_9]\n",
    "mnist_train_labels_5_9 = mnist.train.labels[train_index_5_9] - 5\n",
    "\n",
    "#validation set\n",
    "valid_index_5_9 = np.random.permutation(np.nonzero(mnist.validation.labels >= 5)[0]) \n",
    "mnist_valid_images_5_9 = mnist.validation.images[valid_index_5_9]\n",
    "mnist_valid_labels_5_9 = mnist.validation.labels[valid_index_5_9] - 5\n",
    "\n",
    "#test set\n",
    "test_index_5_9 = np.random.permutation(np.nonzero(mnist.test.labels >= 5)[0]) \n",
    "mnist_test_images_5_9 = mnist.test.images[test_index_5_9]\n",
    "mnist_test_labels_5_9 = mnist.test.labels[test_index_5_9] - 5"
   ]
  },
  {
   "cell_type": "code",
   "execution_count": 17,
   "metadata": {},
   "outputs": [
    {
     "data": {
      "text/plain": [
       "<matplotlib.image.AxesImage at 0xedd5e10>"
      ]
     },
     "execution_count": 17,
     "metadata": {},
     "output_type": "execute_result"
    },
    {
     "data": {
      "image/png": "[encoded data removed]",
      "text/plain": [
       "<matplotlib.figure.Figure at 0xeadf6a0>"
      ]
     },
     "metadata": {},
     "output_type": "display_data"
    }
   ],
   "source": [
    "# show some sample images\n",
    "import matplotlib.pyplot as plt\n",
    "%matplotlib inline\n",
    "plt.subplot(131)\n",
    "plt.imshow(mnist_train_images_5_9[17].reshape(28,28))\n",
    "plt.subplot(132)\n",
    "plt.imshow(mnist_valid_images_5_9[1031].reshape(28,28))\n",
    "plt.subplot(133)\n",
    "plt.imshow(mnist_test_images_5_9[3999].reshape(28,28))"
   ]
  },
  {
   "cell_type": "markdown",
   "metadata": {},
   "source": [
    "Build a new DNN to classify digits 5 to 9 using  all 5 pretained hidden layers of the previous batch normalization model"
   ]
  },
  {
   "cell_type": "code",
   "execution_count": 18,
   "metadata": {
    "collapsed": true
   },
   "outputs": [],
   "source": [
    "# Build a new DNN to classify digits 5 to 9 using pretained hidden layers of the previous batch normalization model\n",
    "from functools import partial\n",
    "from datetime import datetime\n",
    "\n",
    "now = datetime.utcnow().strftime(\"%Y%m%d%H%M%S\")\n",
    "root_logdir = \"tf_logs\"\n",
    "logdir = \"{}/run-{}/\".format(root_logdir, now)\n",
    "\n",
    "units = 100\n",
    "n_outputs = 5\n",
    "n_inputs = 28 * 28 #MNIST\n",
    "\n",
    "tf.reset_default_graph()\n",
    "\n",
    "X = tf.placeholder(tf.float32,shape=(None,n_inputs),name='X')\n",
    "y = tf.placeholder(tf.int64,shape=(None),name='y')\n",
    "\n",
    "with tf.name_scope('dnn'):\n",
    "    he_init = tf.contrib.layers.variance_scaling_initializer()\n",
    "    my_hidden_layer = partial(tf.layers.dense,kernel_initializer=he_init,activation=tf.nn.elu,units=units)\n",
    "    \n",
    "    hidden1 = my_hidden_layer(X,name='hidden1')\n",
    "    hidden2 = my_hidden_layer(hidden1,name='hidden2')\n",
    "    hidden3 = my_hidden_layer(hidden2,name='hidden3')\n",
    "    hidden4 = my_hidden_layer(hidden3,name='hidden4')\n",
    "    hidden5 = my_hidden_layer(hidden4,name='hidden5')\n",
    "    logits = tf.layers.dense(hidden5,n_outputs,name='logits')\n",
    "    \n",
    "    #define variables to save and restore\n",
    "    reuse_vars = tf.get_collection(tf.GraphKeys.TRAINABLE_VARIABLES,scope=\"hidden[12345]\")\n",
    "    reuse_vars_dict = dict([(var.op.name,var) for var in reuse_vars])\n",
    "    #print(reuse_vars_dict)\n",
    "    original_saver = tf.train.Saver(reuse_vars_dict)\n",
    "    \n",
    "    #define variables to train\n",
    "    train_vars = tf.get_collection(tf.GraphKeys.TRAINABLE_VARIABLES,scope='logits')\n",
    "    \n",
    "with tf.name_scope('loss'):\n",
    "    xentropy = tf.nn.sparse_softmax_cross_entropy_with_logits(logits=logits,labels=y)\n",
    "    loss = tf.reduce_mean(xentropy,name='loss')\n",
    "    \n",
    "with tf.name_scope('train'):\n",
    "    optimizer = tf.train.AdamOptimizer(learning_rate = 0.001)\n",
    "    training_op = optimizer.minimize(loss,name='training_op',var_list=train_vars)\n",
    "    \n",
    "with tf.name_scope('eval'):\n",
    "    correct = tf.nn.in_top_k(logits,y,1)\n",
    "    accuracy = tf.reduce_mean(tf.cast(correct,tf.float32),name='eval')\n",
    "    \n",
    "init = tf.global_variables_initializer()\n",
    "new_saver = tf.train.Saver()\n",
    "valid_accuracy = tf.placeholder(tf.float32,shape=())\n",
    "valid_summary = tf.summary.scalar('valid_accuracy',valid_accuracy)\n",
    "summary_writer = tf.summary.FileWriter(logdir, tf.get_default_graph())   "
   ]
  },
  {
   "cell_type": "code",
   "execution_count": 19,
   "metadata": {},
   "outputs": [
    {
     "name": "stdout",
     "output_type": "stream",
     "text": [
      "INFO:tensorflow:Restoring parameters from ./model1_final.ckpt\n",
      "50 Training Accuracy: 0.4 Validation Accuracy: 0.473792\n",
      "100 Training Accuracy: 0.5 Validation Accuracy: 0.603604\n",
      "150 Training Accuracy: 0.4 Validation Accuracy: 0.665438\n",
      "200 Training Accuracy: 0.7 Validation Accuracy: 0.701474\n",
      "250 Training Accuracy: 0.8 Validation Accuracy: 0.716626\n",
      "300 Training Accuracy: 0.8 Validation Accuracy: 0.744472\n",
      "350 Training Accuracy: 0.7 Validation Accuracy: 0.753071\n",
      "400 Training Accuracy: 0.8 Validation Accuracy: 0.768632\n",
      "450 Training Accuracy: 0.9 Validation Accuracy: 0.77846\n",
      "500 Training Accuracy: 0.8 Validation Accuracy: 0.785422\n",
      "550 Training Accuracy: 0.9 Validation Accuracy: 0.79484\n",
      "600 Training Accuracy: 1.0 Validation Accuracy: 0.798935\n",
      "650 Training Accuracy: 0.8 Validation Accuracy: 0.80344\n",
      "700 Training Accuracy: 0.8 Validation Accuracy: 0.802621\n",
      "750 Training Accuracy: 0.8 Validation Accuracy: 0.810401\n",
      "800 Training Accuracy: 1.0 Validation Accuracy: 0.818591\n",
      "850 Training Accuracy: 0.8 Validation Accuracy: 0.81941\n",
      "900 Training Accuracy: 0.9 Validation Accuracy: 0.820639\n",
      "950 Training Accuracy: 0.9 Validation Accuracy: 0.823915\n",
      "1000 Training Accuracy: 0.8 Validation Accuracy: 0.827191\n",
      "1050 Training Accuracy: 0.9 Validation Accuracy: 0.831286\n",
      "1100 Training Accuracy: 1.0 Validation Accuracy: 0.833743\n",
      "1150 Training Accuracy: 0.9 Validation Accuracy: 0.834971\n",
      "1200 Training Accuracy: 0.9 Validation Accuracy: 0.837838\n",
      "1250 Training Accuracy: 0.8 Validation Accuracy: 0.839885\n",
      "1300 Training Accuracy: 0.9 Validation Accuracy: 0.839476\n",
      "1350 Training Accuracy: 1.0 Validation Accuracy: 0.845618\n",
      "1400 Training Accuracy: 1.0 Validation Accuracy: 0.845618\n",
      "1450 Training Accuracy: 0.9 Validation Accuracy: 0.841933\n",
      "1500 Training Accuracy: 0.9 Validation Accuracy: 0.846437\n",
      "1550 Training Accuracy: 1.0 Validation Accuracy: 0.847256\n",
      "1600 Training Accuracy: 1.0 Validation Accuracy: 0.847256\n",
      "1650 Training Accuracy: 1.0 Validation Accuracy: 0.849713\n",
      "1700 Training Accuracy: 0.9 Validation Accuracy: 0.850532\n",
      "1750 Training Accuracy: 1.0 Validation Accuracy: 0.850942\n",
      "1800 Training Accuracy: 0.9 Validation Accuracy: 0.847666\n",
      "1850 Training Accuracy: 0.9 Validation Accuracy: 0.851761\n",
      "1900 Training Accuracy: 0.9 Validation Accuracy: 0.85217\n",
      "1950 Training Accuracy: 1.0 Validation Accuracy: 0.854627\n",
      "2000 Training Accuracy: 0.9 Validation Accuracy: 0.853399\n",
      "2050 Training Accuracy: 1.0 Validation Accuracy: 0.854627\n",
      "2100 Training Accuracy: 0.9 Validation Accuracy: 0.85217\n",
      "2150 Training Accuracy: 1.0 Validation Accuracy: 0.851761\n",
      "2200 Training Accuracy: 1.0 Validation Accuracy: 0.855037\n",
      "2250 Training Accuracy: 0.8 Validation Accuracy: 0.856675\n",
      "2300 Training Accuracy: 1.0 Validation Accuracy: 0.855037\n",
      "2350 Training Accuracy: 1.0 Validation Accuracy: 0.859541\n",
      "2400 Training Accuracy: 1.0 Validation Accuracy: 0.858722\n",
      "2450 Training Accuracy: 1.0 Validation Accuracy: 0.857494\n",
      "2500 Training Accuracy: 0.9 Validation Accuracy: 0.858313\n",
      "2550 Training Accuracy: 1.0 Validation Accuracy: 0.859541\n",
      "2600 Training Accuracy: 1.0 Validation Accuracy: 0.857084\n",
      "2650 Training Accuracy: 1.0 Validation Accuracy: 0.856675\n",
      "2700 Training Accuracy: 1.0 Validation Accuracy: 0.859132\n",
      "2750 Training Accuracy: 1.0 Validation Accuracy: 0.857903\n",
      "2800 Training Accuracy: 1.0 Validation Accuracy: 0.86077\n",
      "2850 Training Accuracy: 1.0 Validation Accuracy: 0.858313\n",
      "2900 Training Accuracy: 1.0 Validation Accuracy: 0.86077\n",
      "2950 Training Accuracy: 0.9 Validation Accuracy: 0.859541\n",
      "3000 Training Accuracy: 0.9 Validation Accuracy: 0.861179\n",
      "3050 Training Accuracy: 1.0 Validation Accuracy: 0.861589\n",
      "3100 Training Accuracy: 1.0 Validation Accuracy: 0.859951\n",
      "3150 Training Accuracy: 1.0 Validation Accuracy: 0.861589\n",
      "3200 Training Accuracy: 0.9 Validation Accuracy: 0.861998\n",
      "3250 Training Accuracy: 1.0 Validation Accuracy: 0.86077\n",
      "3300 Training Accuracy: 1.0 Validation Accuracy: 0.861589\n",
      "3350 Training Accuracy: 1.0 Validation Accuracy: 0.862408\n",
      "3400 Training Accuracy: 1.0 Validation Accuracy: 0.862408\n",
      "3450 Training Accuracy: 1.0 Validation Accuracy: 0.861998\n",
      "3500 Training Accuracy: 1.0 Validation Accuracy: 0.86036\n",
      "3550 Training Accuracy: 1.0 Validation Accuracy: 0.861998\n",
      "3600 Training Accuracy: 1.0 Validation Accuracy: 0.857494\n",
      "3650 Training Accuracy: 1.0 Validation Accuracy: 0.861998\n",
      "3700 Training Accuracy: 1.0 Validation Accuracy: 0.861998\n",
      "3750 Training Accuracy: 1.0 Validation Accuracy: 0.862817\n",
      "3800 Training Accuracy: 1.0 Validation Accuracy: 0.863227\n",
      "3850 Training Accuracy: 1.0 Validation Accuracy: 0.864455\n",
      "3900 Training Accuracy: 1.0 Validation Accuracy: 0.861589\n",
      "3950 Training Accuracy: 1.0 Validation Accuracy: 0.863227\n",
      "4000 Training Accuracy: 1.0 Validation Accuracy: 0.861589\n",
      "4050 Training Accuracy: 1.0 Validation Accuracy: 0.864865\n",
      "4100 Training Accuracy: 1.0 Validation Accuracy: 0.863636\n",
      "4150 Training Accuracy: 1.0 Validation Accuracy: 0.861998\n",
      "4200 Training Accuracy: 0.9 Validation Accuracy: 0.861998\n",
      "4250 Training Accuracy: 1.0 Validation Accuracy: 0.861589\n",
      "4300 Training Accuracy: 1.0 Validation Accuracy: 0.862408\n",
      "4350 Training Accuracy: 1.0 Validation Accuracy: 0.859951\n",
      "4400 Training Accuracy: 1.0 Validation Accuracy: 0.861589\n",
      "4450 Training Accuracy: 1.0 Validation Accuracy: 0.861998\n",
      "4500 Training Accuracy: 1.0 Validation Accuracy: 0.861179\n",
      "4550 Training Accuracy: 1.0 Validation Accuracy: 0.86036\n",
      "4600 Training Accuracy: 1.0 Validation Accuracy: 0.86077\n",
      "4650 Training Accuracy: 1.0 Validation Accuracy: 0.86077\n",
      "4700 Training Accuracy: 1.0 Validation Accuracy: 0.861589\n",
      "4750 Training Accuracy: 1.0 Validation Accuracy: 0.861998\n",
      "4800 Training Accuracy: 1.0 Validation Accuracy: 0.863227\n",
      "4850 Training Accuracy: 1.0 Validation Accuracy: 0.863227\n",
      "4900 Training Accuracy: 0.9 Validation Accuracy: 0.862408\n",
      "4950 Training Accuracy: 0.9 Validation Accuracy: 0.861589\n",
      "5000 Training Accuracy: 1.0 Validation Accuracy: 0.861589\n",
      "5050 Training Accuracy: 1.0 Validation Accuracy: 0.861179\n"
     ]
    }
   ],
   "source": [
    "#execution phase\n",
    "max_epoch_without_valid_improve = 20 # stop training if validation accuracy does not improve in five successive epochs\n",
    "batch_size = 50\n",
    "global_step_count = 0\n",
    "epoch_count = 0\n",
    "best_accu_valid = 0\n",
    "\n",
    "with tf.Session() as sess:\n",
    "    init.run()\n",
    "    original_saver.restore(sess,'./model1_final.ckpt')\n",
    "    hidden5_outputs = sess.run(hidden5,feed_dict={X:mnist_train_images_5_9})\n",
    "    \n",
    "    while epoch_count < max_epoch_without_valid_improve:\n",
    "        shuffled_idx = np.random.permutation(hidden5_outputs.shape[0])\n",
    "        hidden5_batches = np.array_split(hidden5_outputs[shuffled_idx],batch_size)\n",
    "        y_batches = np.array_split(mnist_train_labels_5_9[shuffled_idx],batch_size)\n",
    "        \n",
    "        for hidden5_batch,y_batch in zip(hidden5_batches,y_batches):\n",
    "            sess.run(training_op,feed_dict={hidden5:hidden5_batch,y:y_batch})\n",
    "            global_step_count += 1\n",
    "        accu_train = accuracy.eval(feed_dict={hidden5:hidden5_batch,y:y_batch})\n",
    "        accu_valid = accuracy.eval(feed_dict={X:mnist_valid_images_5_9,y:mnist_valid_labels_5_9})  \n",
    "        if accu_valid > best_accu_valid:\n",
    "            best_accu_valid = accu_valid\n",
    "            epoch_count = 0\n",
    "        else:\n",
    "            epoch_count += 1\n",
    "        summary_str = valid_summary.eval(feed_dict={valid_accuracy:accu_valid})\n",
    "        summary_writer.add_summary(summary_str, global_step_count)\n",
    "        new_saver.save(sess,'./model4.ckpt')\n",
    "        print(global_step_count,'Training Accuracy:',accu_train,'Validation Accuracy:',accu_valid)\n",
    "    \n",
    "    saver.save(sess,'./model4_final.ckpt')\n",
    "        \n",
    "\n",
    "summary_writer.flush()\n",
    "summary_writer.close()"
   ]
  },
  {
   "cell_type": "code",
   "execution_count": 20,
   "metadata": {},
   "outputs": [
    {
     "name": "stdout",
     "output_type": "stream",
     "text": [
      "INFO:tensorflow:Restoring parameters from ./model4_final.ckpt\n",
      "Test Accuracy: 0.860934\n"
     ]
    }
   ],
   "source": [
    "# Test accuracy of batch normalization and dropout model on test data\n",
    "with tf.Session() as sess:\n",
    "    saver.restore(sess,'./model4_final.ckpt')\n",
    "    accu_test = accuracy.eval(feed_dict={X:mnist_test_images_5_9,y:mnist_test_labels_5_9})  \n",
    "    print('Test Accuracy:',accu_test)"
   ]
  },
  {
   "cell_type": "code",
   "execution_count": 21,
   "metadata": {},
   "outputs": [
    {
     "name": "stdout",
     "output_type": "stream",
     "text": [
      "INFO:tensorflow:Restoring parameters from ./model4_final.ckpt\n",
      "Prediction: [6 9 7 9 6]\n",
      "Target: [6 9 7 9 6]\n"
     ]
    }
   ],
   "source": [
    "# do some predictions on the test data using batch normalization and dropout model\n",
    "with tf.Session() as sess:\n",
    "    saver.restore(sess,'./model4_final.ckpt')\n",
    "    label_pred = np.argmax(sess.run(logits,feed_dict={X:mnist_test_images_5_9[2920:2925]}),axis=1) + 5\n",
    "    \n",
    "print('Prediction:',label_pred)\n",
    "print('Target:',mnist_test_labels_5_9[2920:2925] + 5) "
   ]
  },
  {
   "cell_type": "code",
   "execution_count": 22,
   "metadata": {},
   "outputs": [
    {
     "data": {
      "image/png": "[encoded data removed]",
      "text/plain": [
       "<matplotlib.figure.Figure at 0xf36e0f0>"
      ]
     },
     "metadata": {},
     "output_type": "display_data"
    }
   ],
   "source": [
    "#show images corresponding to predicted digits\n",
    "import matplotlib.pyplot as plt\n",
    "%matplotlib inline\n",
    "plt.subplot(151)\n",
    "plt.imshow(mnist_test_images_5_9[2920].reshape(28,28))\n",
    "plt.subplot(152)\n",
    "plt.imshow(mnist_test_images_5_9[2921].reshape(28,28))\n",
    "plt.subplot(153)\n",
    "plt.imshow(mnist_test_images_5_9[2922].reshape(28,28))\n",
    "plt.subplot(154)\n",
    "plt.imshow(mnist_test_images_5_9[2923].reshape(28,28))\n",
    "plt.subplot(155)\n",
    "plt.imshow(mnist_test_images_5_9[2924].reshape(28,28))\n",
    "plt.show()"
   ]
  },
  {
   "cell_type": "markdown",
   "metadata": {},
   "source": [
    "Build a new DNN to classify digits 5 to 9 using first 4 pretained hidden layers of the previous batch normalization model (model1)"
   ]
  },
  {
   "cell_type": "code",
   "execution_count": 23,
   "metadata": {
    "collapsed": true
   },
   "outputs": [],
   "source": [
    "from functools import partial\n",
    "from datetime import datetime\n",
    "\n",
    "now = datetime.utcnow().strftime(\"%Y%m%d%H%M%S\")\n",
    "root_logdir = \"tf_logs\"\n",
    "logdir = \"{}/run-{}/\".format(root_logdir, now)\n",
    "\n",
    "units = 100\n",
    "n_outputs = 5\n",
    "n_inputs = 28 * 28 #MNIST\n",
    "\n",
    "tf.reset_default_graph()\n",
    "\n",
    "X = tf.placeholder(tf.float32,shape=(None,n_inputs),name='X')\n",
    "y = tf.placeholder(tf.int64,shape=(None),name='y')\n",
    "\n",
    "with tf.name_scope('dnn'):\n",
    "    he_init = tf.contrib.layers.variance_scaling_initializer()\n",
    "    my_hidden_layer = partial(tf.layers.dense,kernel_initializer=he_init,activation=tf.nn.elu,units=units)\n",
    "    \n",
    "    hidden1 = my_hidden_layer(X,name='hidden1')\n",
    "    hidden2 = my_hidden_layer(hidden1,name='hidden2')\n",
    "    hidden3 = my_hidden_layer(hidden2,name='hidden3')\n",
    "    hidden4 = my_hidden_layer(hidden3,name='hidden4')\n",
    "    hidden5 = my_hidden_layer(hidden4,name='hidden5')\n",
    "    logits = tf.layers.dense(hidden5,n_outputs,name='logits')\n",
    "    \n",
    "    #define variables to save and restore\n",
    "    reuse_vars = tf.get_collection(tf.GraphKeys.TRAINABLE_VARIABLES,scope=\"hidden[1234]\")\n",
    "    reuse_vars_dict = dict([(var.op.name,var) for var in reuse_vars])\n",
    "    #print(reuse_vars_dict)\n",
    "    original_saver = tf.train.Saver(reuse_vars_dict)\n",
    "    \n",
    "    #define variables to train\n",
    "    train_vars = tf.get_collection(tf.GraphKeys.TRAINABLE_VARIABLES,scope='hidden[5]|logits')\n",
    "    \n",
    "with tf.name_scope('loss'):\n",
    "    xentropy = tf.nn.sparse_softmax_cross_entropy_with_logits(logits=logits,labels=y)\n",
    "    loss = tf.reduce_mean(xentropy,name='loss')\n",
    "    \n",
    "with tf.name_scope('train'):\n",
    "    optimizer = tf.train.AdamOptimizer(learning_rate = 0.001)\n",
    "    training_op = optimizer.minimize(loss,name='training_op',var_list=train_vars)\n",
    "    \n",
    "with tf.name_scope('eval'):\n",
    "    correct = tf.nn.in_top_k(logits,y,1)\n",
    "    accuracy = tf.reduce_mean(tf.cast(correct,tf.float32),name='eval')\n",
    "    \n",
    "init = tf.global_variables_initializer()\n",
    "new_saver = tf.train.Saver()\n",
    "valid_accuracy = tf.placeholder(tf.float32,shape=())\n",
    "valid_summary = tf.summary.scalar('valid_accuracy',valid_accuracy)\n",
    "summary_writer = tf.summary.FileWriter(logdir, tf.get_default_graph())   "
   ]
  },
  {
   "cell_type": "code",
   "execution_count": 24,
   "metadata": {},
   "outputs": [
    {
     "name": "stdout",
     "output_type": "stream",
     "text": [
      "INFO:tensorflow:Restoring parameters from ./model1_final.ckpt\n",
      "50 Training Accuracy: 0.8 Validation Accuracy: 0.75389\n",
      "100 Training Accuracy: 0.8 Validation Accuracy: 0.803849\n",
      "150 Training Accuracy: 0.9 Validation Accuracy: 0.820229\n",
      "200 Training Accuracy: 1.0 Validation Accuracy: 0.834152\n",
      "250 Training Accuracy: 0.9 Validation Accuracy: 0.846437\n",
      "300 Training Accuracy: 1.0 Validation Accuracy: 0.863227\n",
      "350 Training Accuracy: 1.0 Validation Accuracy: 0.864455\n",
      "400 Training Accuracy: 1.0 Validation Accuracy: 0.866912\n",
      "450 Training Accuracy: 1.0 Validation Accuracy: 0.871007\n",
      "500 Training Accuracy: 0.9 Validation Accuracy: 0.875512\n",
      "550 Training Accuracy: 1.0 Validation Accuracy: 0.864046\n",
      "600 Training Accuracy: 1.0 Validation Accuracy: 0.87674\n",
      "650 Training Accuracy: 1.0 Validation Accuracy: 0.872236\n",
      "700 Training Accuracy: 1.0 Validation Accuracy: 0.872645\n",
      "750 Training Accuracy: 1.0 Validation Accuracy: 0.868141\n",
      "800 Training Accuracy: 1.0 Validation Accuracy: 0.871417\n",
      "850 Training Accuracy: 1.0 Validation Accuracy: 0.875102\n",
      "900 Training Accuracy: 1.0 Validation Accuracy: 0.873055\n",
      "950 Training Accuracy: 1.0 Validation Accuracy: 0.87674\n",
      "1000 Training Accuracy: 1.0 Validation Accuracy: 0.878788\n",
      "1050 Training Accuracy: 1.0 Validation Accuracy: 0.879197\n",
      "1100 Training Accuracy: 1.0 Validation Accuracy: 0.882064\n",
      "1150 Training Accuracy: 1.0 Validation Accuracy: 0.881654\n",
      "1200 Training Accuracy: 1.0 Validation Accuracy: 0.87715\n",
      "1250 Training Accuracy: 1.0 Validation Accuracy: 0.880426\n",
      "1300 Training Accuracy: 1.0 Validation Accuracy: 0.881245\n",
      "1350 Training Accuracy: 1.0 Validation Accuracy: 0.881245\n",
      "1400 Training Accuracy: 1.0 Validation Accuracy: 0.880016\n",
      "1450 Training Accuracy: 1.0 Validation Accuracy: 0.877559\n",
      "1500 Training Accuracy: 1.0 Validation Accuracy: 0.880016\n",
      "1550 Training Accuracy: 1.0 Validation Accuracy: 0.881654\n",
      "1600 Training Accuracy: 1.0 Validation Accuracy: 0.881245\n",
      "1650 Training Accuracy: 1.0 Validation Accuracy: 0.884521\n",
      "1700 Training Accuracy: 1.0 Validation Accuracy: 0.88493\n",
      "1750 Training Accuracy: 1.0 Validation Accuracy: 0.884521\n",
      "1800 Training Accuracy: 1.0 Validation Accuracy: 0.882883\n",
      "1850 Training Accuracy: 1.0 Validation Accuracy: 0.882064\n",
      "1900 Training Accuracy: 1.0 Validation Accuracy: 0.888206\n",
      "1950 Training Accuracy: 1.0 Validation Accuracy: 0.88534\n",
      "2000 Training Accuracy: 1.0 Validation Accuracy: 0.884111\n",
      "2050 Training Accuracy: 1.0 Validation Accuracy: 0.88534\n",
      "2100 Training Accuracy: 1.0 Validation Accuracy: 0.885749\n",
      "2150 Training Accuracy: 1.0 Validation Accuracy: 0.885749\n",
      "2200 Training Accuracy: 1.0 Validation Accuracy: 0.887387\n",
      "2250 Training Accuracy: 1.0 Validation Accuracy: 0.88493\n",
      "2300 Training Accuracy: 1.0 Validation Accuracy: 0.887387\n",
      "2350 Training Accuracy: 1.0 Validation Accuracy: 0.886568\n",
      "2400 Training Accuracy: 1.0 Validation Accuracy: 0.888616\n",
      "2450 Training Accuracy: 1.0 Validation Accuracy: 0.887387\n",
      "2500 Training Accuracy: 1.0 Validation Accuracy: 0.886978\n",
      "2550 Training Accuracy: 1.0 Validation Accuracy: 0.886978\n",
      "2600 Training Accuracy: 1.0 Validation Accuracy: 0.887387\n",
      "2650 Training Accuracy: 1.0 Validation Accuracy: 0.885749\n",
      "2700 Training Accuracy: 1.0 Validation Accuracy: 0.887797\n",
      "2750 Training Accuracy: 1.0 Validation Accuracy: 0.886568\n",
      "2800 Training Accuracy: 1.0 Validation Accuracy: 0.886568\n",
      "2850 Training Accuracy: 1.0 Validation Accuracy: 0.887387\n",
      "2900 Training Accuracy: 1.0 Validation Accuracy: 0.885749\n",
      "2950 Training Accuracy: 1.0 Validation Accuracy: 0.88534\n",
      "3000 Training Accuracy: 1.0 Validation Accuracy: 0.886159\n",
      "3050 Training Accuracy: 1.0 Validation Accuracy: 0.888206\n",
      "3100 Training Accuracy: 1.0 Validation Accuracy: 0.887797\n",
      "3150 Training Accuracy: 1.0 Validation Accuracy: 0.887797\n",
      "3200 Training Accuracy: 1.0 Validation Accuracy: 0.887387\n",
      "3250 Training Accuracy: 1.0 Validation Accuracy: 0.888206\n",
      "3300 Training Accuracy: 1.0 Validation Accuracy: 0.887387\n",
      "3350 Training Accuracy: 1.0 Validation Accuracy: 0.886978\n",
      "3400 Training Accuracy: 1.0 Validation Accuracy: 0.886568\n"
     ]
    }
   ],
   "source": [
    "#execution phase\n",
    "max_epoch_without_valid_improve = 20 # stop training if validation accuracy does not improve in five successive epochs\n",
    "batch_size = 50\n",
    "global_step_count = 0\n",
    "epoch_count = 0\n",
    "best_accu_valid = 0\n",
    "\n",
    "with tf.Session() as sess:\n",
    "    init.run()\n",
    "    original_saver.restore(sess,'./model1_final.ckpt')\n",
    "    hidden4_outputs = sess.run(hidden4,feed_dict={X:mnist_train_images_5_9})\n",
    "    \n",
    "    while epoch_count < max_epoch_without_valid_improve:\n",
    "        shuffled_idx = np.random.permutation(hidden4_outputs.shape[0])\n",
    "        hidden4_batches = np.array_split(hidden4_outputs[shuffled_idx],batch_size)\n",
    "        y_batches = np.array_split(mnist_train_labels_5_9[shuffled_idx],batch_size)\n",
    "        \n",
    "        for hidden4_batch,y_batch in zip(hidden4_batches,y_batches):\n",
    "            sess.run(training_op,feed_dict={hidden4:hidden4_batch,y:y_batch})\n",
    "            global_step_count += 1\n",
    "        accu_train = accuracy.eval(feed_dict={hidden4:hidden4_batch,y:y_batch})\n",
    "        accu_valid = accuracy.eval(feed_dict={X:mnist_valid_images_5_9,y:mnist_valid_labels_5_9})  \n",
    "        if accu_valid > best_accu_valid:\n",
    "            best_accu_valid = accu_valid\n",
    "            epoch_count = 0\n",
    "        else:\n",
    "            epoch_count += 1\n",
    "        summary_str = valid_summary.eval(feed_dict={valid_accuracy:accu_valid})\n",
    "        summary_writer.add_summary(summary_str, global_step_count)\n",
    "        new_saver.save(sess,'./model5.ckpt')\n",
    "        print(global_step_count,'Training Accuracy:',accu_train,'Validation Accuracy:',accu_valid)\n",
    "    \n",
    "    saver.save(sess,'./model5_final.ckpt')\n",
    "        \n",
    "\n",
    "summary_writer.flush()\n",
    "summary_writer.close()"
   ]
  },
  {
   "cell_type": "code",
   "execution_count": 25,
   "metadata": {},
   "outputs": [
    {
     "name": "stdout",
     "output_type": "stream",
     "text": [
      "INFO:tensorflow:Restoring parameters from ./model5_final.ckpt\n",
      "Test Accuracy: 0.882946\n"
     ]
    }
   ],
   "source": [
    "# Test accuracy of batch normalization and dropout model on test data\n",
    "with tf.Session() as sess:\n",
    "    saver.restore(sess,'./model5_final.ckpt')\n",
    "    accu_test = accuracy.eval(feed_dict={X:mnist_test_images_5_9,y:mnist_test_labels_5_9})  \n",
    "    print('Test Accuracy:',accu_test)"
   ]
  },
  {
   "cell_type": "code",
   "execution_count": 26,
   "metadata": {},
   "outputs": [
    {
     "name": "stdout",
     "output_type": "stream",
     "text": [
      "INFO:tensorflow:Restoring parameters from ./model5_final.ckpt\n",
      "Prediction: [6 9 7 9 6]\n",
      "Target: [6 9 7 9 6]\n"
     ]
    }
   ],
   "source": [
    "# do some predictions on the test data using batch normalization and dropout model\n",
    "with tf.Session() as sess:\n",
    "    saver.restore(sess,'./model5_final.ckpt')\n",
    "    label_pred = np.argmax(sess.run(logits,feed_dict={X:mnist_test_images_5_9[2920:2925]}),axis=1) + 5\n",
    "    \n",
    "print('Prediction:',label_pred)\n",
    "print('Target:',mnist_test_labels_5_9[2920:2925] + 5) "
   ]
  },
  {
   "cell_type": "markdown",
   "metadata": {},
   "source": [
    "Build a new DNN to classify digits 5 to 9 using first 2 pretained hidden layers of the previous batch normalization model (model1)"
   ]
  },
  {
   "cell_type": "code",
   "execution_count": 27,
   "metadata": {
    "collapsed": true
   },
   "outputs": [],
   "source": [
    "from functools import partial\n",
    "from datetime import datetime\n",
    "\n",
    "now = datetime.utcnow().strftime(\"%Y%m%d%H%M%S\")\n",
    "root_logdir = \"tf_logs\"\n",
    "logdir = \"{}/run-{}/\".format(root_logdir, now)\n",
    "\n",
    "units = 100\n",
    "n_outputs = 5\n",
    "n_inputs = 28 * 28 #MNIST\n",
    "\n",
    "tf.reset_default_graph()\n",
    "\n",
    "X = tf.placeholder(tf.float32,shape=(None,n_inputs),name='X')\n",
    "y = tf.placeholder(tf.int64,shape=(None),name='y')\n",
    "\n",
    "with tf.name_scope('dnn'):\n",
    "    he_init = tf.contrib.layers.variance_scaling_initializer()\n",
    "    my_hidden_layer = partial(tf.layers.dense,kernel_initializer=he_init,activation=tf.nn.elu,units=units)\n",
    "    \n",
    "    hidden1 = my_hidden_layer(X,name='hidden1')\n",
    "    hidden2 = my_hidden_layer(hidden1,name='hidden2')\n",
    "    hidden3 = my_hidden_layer(hidden2,name='hidden3')\n",
    "    hidden4 = my_hidden_layer(hidden3,name='hidden4')\n",
    "    hidden5 = my_hidden_layer(hidden4,name='hidden5')\n",
    "    logits = tf.layers.dense(hidden5,n_outputs,name='logits')\n",
    "    \n",
    "    #define variables to save and restore\n",
    "    reuse_vars = tf.get_collection(tf.GraphKeys.TRAINABLE_VARIABLES,scope=\"hidden[12]\")\n",
    "    reuse_vars_dict = dict([(var.op.name,var) for var in reuse_vars])\n",
    "    #print(reuse_vars_dict)\n",
    "    original_saver = tf.train.Saver(reuse_vars_dict)\n",
    "    \n",
    "    #define variables to train\n",
    "    train_vars = tf.get_collection(tf.GraphKeys.TRAINABLE_VARIABLES,scope='hidden[345]|logits')\n",
    "    \n",
    "with tf.name_scope('loss'):\n",
    "    xentropy = tf.nn.sparse_softmax_cross_entropy_with_logits(logits=logits,labels=y)\n",
    "    loss = tf.reduce_mean(xentropy,name='loss')\n",
    "    \n",
    "with tf.name_scope('train'):\n",
    "    optimizer = tf.train.AdamOptimizer(learning_rate = 0.001)\n",
    "    training_op = optimizer.minimize(loss,name='training_op',var_list=train_vars)\n",
    "    \n",
    "with tf.name_scope('eval'):\n",
    "    correct = tf.nn.in_top_k(logits,y,1)\n",
    "    accuracy = tf.reduce_mean(tf.cast(correct,tf.float32),name='eval')\n",
    "    \n",
    "init = tf.global_variables_initializer()\n",
    "new_saver = tf.train.Saver()\n",
    "valid_accuracy = tf.placeholder(tf.float32,shape=())\n",
    "valid_summary = tf.summary.scalar('valid_accuracy',valid_accuracy)\n",
    "summary_writer = tf.summary.FileWriter(logdir, tf.get_default_graph())   "
   ]
  },
  {
   "cell_type": "code",
   "execution_count": 28,
   "metadata": {},
   "outputs": [
    {
     "name": "stdout",
     "output_type": "stream",
     "text": [
      "INFO:tensorflow:Restoring parameters from ./model1_final.ckpt\n",
      "50 Training Accuracy: 1.0 Validation Accuracy: 0.837428\n",
      "100 Training Accuracy: 1.0 Validation Accuracy: 0.890254\n",
      "150 Training Accuracy: 1.0 Validation Accuracy: 0.891073\n",
      "200 Training Accuracy: 1.0 Validation Accuracy: 0.904177\n",
      "250 Training Accuracy: 1.0 Validation Accuracy: 0.905405\n",
      "300 Training Accuracy: 1.0 Validation Accuracy: 0.900491\n",
      "350 Training Accuracy: 1.0 Validation Accuracy: 0.90991\n",
      "400 Training Accuracy: 1.0 Validation Accuracy: 0.904996\n",
      "450 Training Accuracy: 1.0 Validation Accuracy: 0.911548\n",
      "500 Training Accuracy: 1.0 Validation Accuracy: 0.913595\n",
      "550 Training Accuracy: 1.0 Validation Accuracy: 0.911957\n",
      "600 Training Accuracy: 1.0 Validation Accuracy: 0.90991\n",
      "650 Training Accuracy: 1.0 Validation Accuracy: 0.911957\n",
      "700 Training Accuracy: 1.0 Validation Accuracy: 0.914824\n",
      "750 Training Accuracy: 1.0 Validation Accuracy: 0.915233\n",
      "800 Training Accuracy: 1.0 Validation Accuracy: 0.914414\n",
      "850 Training Accuracy: 1.0 Validation Accuracy: 0.914824\n",
      "900 Training Accuracy: 1.0 Validation Accuracy: 0.915643\n",
      "950 Training Accuracy: 1.0 Validation Accuracy: 0.916052\n",
      "1000 Training Accuracy: 1.0 Validation Accuracy: 0.916462\n",
      "1050 Training Accuracy: 1.0 Validation Accuracy: 0.915643\n",
      "1100 Training Accuracy: 1.0 Validation Accuracy: 0.915643\n",
      "1150 Training Accuracy: 1.0 Validation Accuracy: 0.916462\n",
      "1200 Training Accuracy: 1.0 Validation Accuracy: 0.916462\n",
      "1250 Training Accuracy: 1.0 Validation Accuracy: 0.916871\n",
      "1300 Training Accuracy: 1.0 Validation Accuracy: 0.916871\n",
      "1350 Training Accuracy: 1.0 Validation Accuracy: 0.915233\n",
      "1400 Training Accuracy: 1.0 Validation Accuracy: 0.917281\n",
      "1450 Training Accuracy: 1.0 Validation Accuracy: 0.91769\n",
      "1500 Training Accuracy: 1.0 Validation Accuracy: 0.915643\n",
      "1550 Training Accuracy: 1.0 Validation Accuracy: 0.916052\n",
      "1600 Training Accuracy: 1.0 Validation Accuracy: 0.916462\n",
      "1650 Training Accuracy: 1.0 Validation Accuracy: 0.916052\n",
      "1700 Training Accuracy: 1.0 Validation Accuracy: 0.916462\n",
      "1750 Training Accuracy: 1.0 Validation Accuracy: 0.916052\n",
      "1800 Training Accuracy: 1.0 Validation Accuracy: 0.915643\n",
      "1850 Training Accuracy: 1.0 Validation Accuracy: 0.917281\n",
      "1900 Training Accuracy: 1.0 Validation Accuracy: 0.916871\n",
      "1950 Training Accuracy: 1.0 Validation Accuracy: 0.917281\n",
      "2000 Training Accuracy: 1.0 Validation Accuracy: 0.9181\n",
      "2050 Training Accuracy: 1.0 Validation Accuracy: 0.917281\n",
      "2100 Training Accuracy: 1.0 Validation Accuracy: 0.91769\n",
      "2150 Training Accuracy: 1.0 Validation Accuracy: 0.917281\n",
      "2200 Training Accuracy: 1.0 Validation Accuracy: 0.9181\n",
      "2250 Training Accuracy: 1.0 Validation Accuracy: 0.91769\n",
      "2300 Training Accuracy: 1.0 Validation Accuracy: 0.91769\n",
      "2350 Training Accuracy: 1.0 Validation Accuracy: 0.917281\n",
      "2400 Training Accuracy: 1.0 Validation Accuracy: 0.917281\n",
      "2450 Training Accuracy: 1.0 Validation Accuracy: 0.917281\n",
      "2500 Training Accuracy: 1.0 Validation Accuracy: 0.917281\n",
      "2550 Training Accuracy: 1.0 Validation Accuracy: 0.917281\n",
      "2600 Training Accuracy: 1.0 Validation Accuracy: 0.91769\n",
      "2650 Training Accuracy: 1.0 Validation Accuracy: 0.917281\n",
      "2700 Training Accuracy: 1.0 Validation Accuracy: 0.91769\n",
      "2750 Training Accuracy: 1.0 Validation Accuracy: 0.917281\n",
      "2800 Training Accuracy: 1.0 Validation Accuracy: 0.916871\n",
      "2850 Training Accuracy: 1.0 Validation Accuracy: 0.918509\n",
      "2900 Training Accuracy: 1.0 Validation Accuracy: 0.916871\n",
      "2950 Training Accuracy: 1.0 Validation Accuracy: 0.917281\n",
      "3000 Training Accuracy: 1.0 Validation Accuracy: 0.916462\n",
      "3050 Training Accuracy: 1.0 Validation Accuracy: 0.916462\n",
      "3100 Training Accuracy: 1.0 Validation Accuracy: 0.916871\n",
      "3150 Training Accuracy: 1.0 Validation Accuracy: 0.916871\n",
      "3200 Training Accuracy: 1.0 Validation Accuracy: 0.916462\n",
      "3250 Training Accuracy: 1.0 Validation Accuracy: 0.916052\n",
      "3300 Training Accuracy: 1.0 Validation Accuracy: 0.916052\n",
      "3350 Training Accuracy: 1.0 Validation Accuracy: 0.916462\n",
      "3400 Training Accuracy: 1.0 Validation Accuracy: 0.915643\n",
      "3450 Training Accuracy: 1.0 Validation Accuracy: 0.91769\n",
      "3500 Training Accuracy: 1.0 Validation Accuracy: 0.916052\n",
      "3550 Training Accuracy: 1.0 Validation Accuracy: 0.915643\n",
      "3600 Training Accuracy: 1.0 Validation Accuracy: 0.916052\n",
      "3650 Training Accuracy: 1.0 Validation Accuracy: 0.916462\n",
      "3700 Training Accuracy: 1.0 Validation Accuracy: 0.917281\n",
      "3750 Training Accuracy: 1.0 Validation Accuracy: 0.916871\n",
      "3800 Training Accuracy: 1.0 Validation Accuracy: 0.916052\n",
      "3850 Training Accuracy: 1.0 Validation Accuracy: 0.916871\n"
     ]
    }
   ],
   "source": [
    "#execution phase\n",
    "max_epoch_without_valid_improve = 20 # stop training if validation accuracy does not improve in five successive epochs\n",
    "batch_size = 50\n",
    "global_step_count = 0\n",
    "epoch_count = 0\n",
    "best_accu_valid = 0\n",
    "\n",
    "with tf.Session() as sess:\n",
    "    init.run()\n",
    "    original_saver.restore(sess,'./model1_final.ckpt')\n",
    "    hidden2_outputs = sess.run(hidden2,feed_dict={X:mnist_train_images_5_9})\n",
    "    \n",
    "    while epoch_count < max_epoch_without_valid_improve:\n",
    "        shuffled_idx = np.random.permutation(hidden2_outputs.shape[0])\n",
    "        hidden2_batches = np.array_split(hidden2_outputs[shuffled_idx],batch_size)\n",
    "        y_batches = np.array_split(mnist_train_labels_5_9[shuffled_idx],batch_size)\n",
    "        \n",
    "        for hidden2_batch,y_batch in zip(hidden2_batches,y_batches):\n",
    "            sess.run(training_op,feed_dict={hidden2:hidden2_batch,y:y_batch})\n",
    "            global_step_count += 1\n",
    "        accu_train = accuracy.eval(feed_dict={hidden2:hidden2_batch,y:y_batch})\n",
    "        accu_valid = accuracy.eval(feed_dict={X:mnist_valid_images_5_9,y:mnist_valid_labels_5_9})  \n",
    "        if accu_valid > best_accu_valid:\n",
    "            best_accu_valid = accu_valid\n",
    "            epoch_count = 0\n",
    "        else:\n",
    "            epoch_count += 1\n",
    "        summary_str = valid_summary.eval(feed_dict={valid_accuracy:accu_valid})\n",
    "        summary_writer.add_summary(summary_str, global_step_count)\n",
    "        new_saver.save(sess,'./model6.ckpt')\n",
    "        print(global_step_count,'Training Accuracy:',accu_train,'Validation Accuracy:',accu_valid)\n",
    "    \n",
    "    saver.save(sess,'./model6_final.ckpt')\n",
    "        \n",
    "\n",
    "summary_writer.flush()\n",
    "summary_writer.close()"
   ]
  },
  {
   "cell_type": "code",
   "execution_count": 29,
   "metadata": {},
   "outputs": [
    {
     "name": "stdout",
     "output_type": "stream",
     "text": [
      "INFO:tensorflow:Restoring parameters from ./model6_final.ckpt\n",
      "Test Accuracy: 0.916684\n"
     ]
    }
   ],
   "source": [
    "# Test accuracy of batch normalization and dropout model on test data\n",
    "with tf.Session() as sess:\n",
    "    saver.restore(sess,'./model6_final.ckpt')\n",
    "    accu_test = accuracy.eval(feed_dict={X:mnist_test_images_5_9,y:mnist_test_labels_5_9})  \n",
    "    print('Test Accuracy:',accu_test)"
   ]
  },
  {
   "cell_type": "code",
   "execution_count": 30,
   "metadata": {},
   "outputs": [
    {
     "name": "stdout",
     "output_type": "stream",
     "text": [
      "INFO:tensorflow:Restoring parameters from ./model6_final.ckpt\n",
      "Prediction: [6 9 7 9 6]\n",
      "Target: [6 9 7 9 6]\n"
     ]
    }
   ],
   "source": [
    "# do some predictions on the test data using batch normalization and dropout model\n",
    "with tf.Session() as sess:\n",
    "    saver.restore(sess,'./model6_final.ckpt')\n",
    "    label_pred = np.argmax(sess.run(logits,feed_dict={X:mnist_test_images_5_9[2920:2925]}),axis=1) + 5\n",
    "    \n",
    "print('Prediction:',label_pred)\n",
    "print('Target:',mnist_test_labels_5_9[2920:2925] + 5) "
   ]
  },
  {
   "cell_type": "markdown",
   "metadata": {},
   "source": [
    "Try introducing **dropoot**"
   ]
  },
  {
   "cell_type": "code",
   "execution_count": 31,
   "metadata": {
    "collapsed": true
   },
   "outputs": [],
   "source": [
    "from functools import partial\n",
    "from datetime import datetime\n",
    "\n",
    "now = datetime.utcnow().strftime(\"%Y%m%d%H%M%S\")\n",
    "root_logdir = \"tf_logs\"\n",
    "logdir = \"{}/run-{}/\".format(root_logdir, now)\n",
    "\n",
    "units = 100\n",
    "n_outputs = 5\n",
    "n_inputs = 28 * 28 #MNIST\n",
    "\n",
    "tf.reset_default_graph()\n",
    "\n",
    "X = tf.placeholder(tf.float32,shape=(None,n_inputs),name='X')\n",
    "y = tf.placeholder(tf.int64,shape=(None),name='y')\n",
    "is_training = tf.placeholder(tf.bool,shape=(),name='is_training')\n",
    "with tf.name_scope('dnn'):\n",
    "    he_init = tf.contrib.layers.variance_scaling_initializer()\n",
    "    my_hidden_layer12 = partial(tf.layers.dense,kernel_initializer=he_init,activation=tf.nn.elu,units=units)\n",
    "    my_hidden_layer  = partial(tf.layers.dense,kernel_initializer=he_init,units=units)\n",
    "    my_dropout = partial(tf.layers.dropout,rate=0.5,training=is_training)\n",
    "    \n",
    "    hidden1 = my_hidden_layer12(X,name='hidden1')\n",
    "    hidden2 = my_hidden_layer12(hidden1,name='hidden2')\n",
    "    bn2 = my_dropout(hidden2,name='bn2')\n",
    "    hidden3 = my_hidden_layer(bn2,name='hidden3')\n",
    "    bn3 = my_dropout(hidden3,name='bn3')\n",
    "    hidden4 = my_hidden_layer(bn3,name='hidden4')\n",
    "    bn4 = my_dropout(hidden4,name='bn4')\n",
    "    hidden5 = my_hidden_layer(bn4,name='hidden5')\n",
    "    bn5 = my_dropout(hidden5,name='bn5')\n",
    "    logits = tf.layers.dense(bn5,n_outputs,name='logits')\n",
    "    \n",
    "    #define variables to save and restore\n",
    "    reuse_vars = tf.get_collection(tf.GraphKeys.TRAINABLE_VARIABLES,scope=\"hidden[12]\")\n",
    "    reuse_vars_dict = dict([(var.op.name,var) for var in reuse_vars])\n",
    "    #print(reuse_vars_dict)\n",
    "    original_saver = tf.train.Saver(reuse_vars_dict)\n",
    "    \n",
    "    #define variables to train\n",
    "    train_vars = tf.get_collection(tf.GraphKeys.TRAINABLE_VARIABLES,scope='hidden[345]|logits')\n",
    "    \n",
    "with tf.name_scope('loss'):\n",
    "    xentropy = tf.nn.sparse_softmax_cross_entropy_with_logits(logits=logits,labels=y)\n",
    "    loss = tf.reduce_mean(xentropy,name='loss')\n",
    "    \n",
    "with tf.name_scope('train'):\n",
    "    optimizer = tf.train.AdamOptimizer(learning_rate = 0.001)\n",
    "    training_op = optimizer.minimize(loss,name='training_op',var_list=train_vars)\n",
    "    \n",
    "with tf.name_scope('eval'):\n",
    "    correct = tf.nn.in_top_k(logits,y,1)\n",
    "    accuracy = tf.reduce_mean(tf.cast(correct,tf.float32),name='eval')\n",
    "    \n",
    "init = tf.global_variables_initializer()\n",
    "new_saver = tf.train.Saver()\n",
    "valid_accuracy = tf.placeholder(tf.float32,shape=())\n",
    "valid_summary = tf.summary.scalar('valid_accuracy',valid_accuracy)\n",
    "summary_writer = tf.summary.FileWriter(logdir, tf.get_default_graph())   "
   ]
  },
  {
   "cell_type": "code",
   "execution_count": 32,
   "metadata": {},
   "outputs": [
    {
     "name": "stdout",
     "output_type": "stream",
     "text": [
      "INFO:tensorflow:Restoring parameters from ./model1_final.ckpt\n",
      "50 Training Accuracy: 0.6 Validation Accuracy: 0.6724\n",
      "100 Training Accuracy: 1.0 Validation Accuracy: 0.751433\n",
      "150 Training Accuracy: 0.6 Validation Accuracy: 0.787469\n",
      "200 Training Accuracy: 0.6 Validation Accuracy: 0.798526\n",
      "250 Training Accuracy: 0.9 Validation Accuracy: 0.799754\n",
      "300 Training Accuracy: 0.8 Validation Accuracy: 0.816953\n",
      "350 Training Accuracy: 0.9 Validation Accuracy: 0.801802\n",
      "400 Training Accuracy: 0.9 Validation Accuracy: 0.823096\n",
      "450 Training Accuracy: 1.0 Validation Accuracy: 0.825962\n",
      "500 Training Accuracy: 0.9 Validation Accuracy: 0.846437\n",
      "550 Training Accuracy: 0.9 Validation Accuracy: 0.835381\n",
      "600 Training Accuracy: 1.0 Validation Accuracy: 0.821867\n",
      "650 Training Accuracy: 0.8 Validation Accuracy: 0.821867\n",
      "700 Training Accuracy: 0.8 Validation Accuracy: 0.823505\n",
      "750 Training Accuracy: 0.9 Validation Accuracy: 0.833333\n",
      "800 Training Accuracy: 0.9 Validation Accuracy: 0.843571\n",
      "850 Training Accuracy: 0.9 Validation Accuracy: 0.84439\n",
      "900 Training Accuracy: 1.0 Validation Accuracy: 0.843161\n",
      "950 Training Accuracy: 1.0 Validation Accuracy: 0.839066\n",
      "1000 Training Accuracy: 1.0 Validation Accuracy: 0.839066\n",
      "1050 Training Accuracy: 0.8 Validation Accuracy: 0.844799\n",
      "1100 Training Accuracy: 0.9 Validation Accuracy: 0.831286\n",
      "1150 Training Accuracy: 0.7 Validation Accuracy: 0.841114\n",
      "1200 Training Accuracy: 0.6 Validation Accuracy: 0.841114\n",
      "1250 Training Accuracy: 0.9 Validation Accuracy: 0.846847\n",
      "1300 Training Accuracy: 0.7 Validation Accuracy: 0.847666\n",
      "1350 Training Accuracy: 0.9 Validation Accuracy: 0.847256\n",
      "1400 Training Accuracy: 1.0 Validation Accuracy: 0.839066\n",
      "1450 Training Accuracy: 0.7 Validation Accuracy: 0.845618\n",
      "1500 Training Accuracy: 1.0 Validation Accuracy: 0.848485\n",
      "1550 Training Accuracy: 0.8 Validation Accuracy: 0.847256\n",
      "1600 Training Accuracy: 0.7 Validation Accuracy: 0.841933\n",
      "1650 Training Accuracy: 0.8 Validation Accuracy: 0.846437\n",
      "1700 Training Accuracy: 0.9 Validation Accuracy: 0.846028\n",
      "1750 Training Accuracy: 0.9 Validation Accuracy: 0.850123\n",
      "1800 Training Accuracy: 1.0 Validation Accuracy: 0.85217\n",
      "1850 Training Accuracy: 0.9 Validation Accuracy: 0.851761\n",
      "1900 Training Accuracy: 1.0 Validation Accuracy: 0.851761\n",
      "1950 Training Accuracy: 0.9 Validation Accuracy: 0.855037\n",
      "2000 Training Accuracy: 0.8 Validation Accuracy: 0.851761\n",
      "2050 Training Accuracy: 0.9 Validation Accuracy: 0.845618\n",
      "2100 Training Accuracy: 1.0 Validation Accuracy: 0.849304\n",
      "2150 Training Accuracy: 1.0 Validation Accuracy: 0.854218\n",
      "2200 Training Accuracy: 1.0 Validation Accuracy: 0.848894\n",
      "2250 Training Accuracy: 0.9 Validation Accuracy: 0.853808\n",
      "2300 Training Accuracy: 1.0 Validation Accuracy: 0.853808\n",
      "2350 Training Accuracy: 1.0 Validation Accuracy: 0.856265\n",
      "2400 Training Accuracy: 0.7 Validation Accuracy: 0.849304\n",
      "2450 Training Accuracy: 1.0 Validation Accuracy: 0.853399\n",
      "2500 Training Accuracy: 0.7 Validation Accuracy: 0.85258\n",
      "2550 Training Accuracy: 0.9 Validation Accuracy: 0.854218\n",
      "2600 Training Accuracy: 0.9 Validation Accuracy: 0.857494\n",
      "2650 Training Accuracy: 0.8 Validation Accuracy: 0.851351\n",
      "2700 Training Accuracy: 0.9 Validation Accuracy: 0.854627\n",
      "2750 Training Accuracy: 0.9 Validation Accuracy: 0.848894\n",
      "2800 Training Accuracy: 0.8 Validation Accuracy: 0.846847\n",
      "2850 Training Accuracy: 0.7 Validation Accuracy: 0.851761\n",
      "2900 Training Accuracy: 1.0 Validation Accuracy: 0.842752\n",
      "2950 Training Accuracy: 0.7 Validation Accuracy: 0.851351\n",
      "3000 Training Accuracy: 0.9 Validation Accuracy: 0.859541\n",
      "3050 Training Accuracy: 1.0 Validation Accuracy: 0.857494\n",
      "3100 Training Accuracy: 1.0 Validation Accuracy: 0.854218\n",
      "3150 Training Accuracy: 0.9 Validation Accuracy: 0.850942\n",
      "3200 Training Accuracy: 0.9 Validation Accuracy: 0.86036\n",
      "3250 Training Accuracy: 0.9 Validation Accuracy: 0.846028\n",
      "3300 Training Accuracy: 1.0 Validation Accuracy: 0.857903\n",
      "3350 Training Accuracy: 0.9 Validation Accuracy: 0.862817\n",
      "3400 Training Accuracy: 0.8 Validation Accuracy: 0.857903\n",
      "3450 Training Accuracy: 0.9 Validation Accuracy: 0.84439\n",
      "3500 Training Accuracy: 1.0 Validation Accuracy: 0.855856\n",
      "3550 Training Accuracy: 1.0 Validation Accuracy: 0.862408\n",
      "3600 Training Accuracy: 1.0 Validation Accuracy: 0.863227\n",
      "3650 Training Accuracy: 1.0 Validation Accuracy: 0.844799\n",
      "3700 Training Accuracy: 0.8 Validation Accuracy: 0.859132\n",
      "3750 Training Accuracy: 0.9 Validation Accuracy: 0.859541\n",
      "3800 Training Accuracy: 0.9 Validation Accuracy: 0.864046\n",
      "3850 Training Accuracy: 0.9 Validation Accuracy: 0.854627\n",
      "3900 Training Accuracy: 1.0 Validation Accuracy: 0.858722\n",
      "3950 Training Accuracy: 0.9 Validation Accuracy: 0.861998\n",
      "4000 Training Accuracy: 0.9 Validation Accuracy: 0.863636\n",
      "4050 Training Accuracy: 1.0 Validation Accuracy: 0.861589\n",
      "4100 Training Accuracy: 0.9 Validation Accuracy: 0.862817\n",
      "4150 Training Accuracy: 0.9 Validation Accuracy: 0.86855\n",
      "4200 Training Accuracy: 1.0 Validation Accuracy: 0.873464\n",
      "4250 Training Accuracy: 1.0 Validation Accuracy: 0.871417\n",
      "4300 Training Accuracy: 1.0 Validation Accuracy: 0.857903\n",
      "4350 Training Accuracy: 1.0 Validation Accuracy: 0.862817\n",
      "4400 Training Accuracy: 0.9 Validation Accuracy: 0.86077\n",
      "4450 Training Accuracy: 1.0 Validation Accuracy: 0.862408\n",
      "4500 Training Accuracy: 0.9 Validation Accuracy: 0.864455\n",
      "4550 Training Accuracy: 0.9 Validation Accuracy: 0.866503\n",
      "4600 Training Accuracy: 0.9 Validation Accuracy: 0.868141\n",
      "4650 Training Accuracy: 1.0 Validation Accuracy: 0.861589\n",
      "4700 Training Accuracy: 1.0 Validation Accuracy: 0.871007\n",
      "4750 Training Accuracy: 0.9 Validation Accuracy: 0.86077\n",
      "4800 Training Accuracy: 1.0 Validation Accuracy: 0.856675\n",
      "4850 Training Accuracy: 0.8 Validation Accuracy: 0.852989\n",
      "4900 Training Accuracy: 0.8 Validation Accuracy: 0.86077\n",
      "4950 Training Accuracy: 0.9 Validation Accuracy: 0.863227\n",
      "5000 Training Accuracy: 0.9 Validation Accuracy: 0.864865\n",
      "5050 Training Accuracy: 0.7 Validation Accuracy: 0.861179\n",
      "5100 Training Accuracy: 0.8 Validation Accuracy: 0.863636\n",
      "5150 Training Accuracy: 0.9 Validation Accuracy: 0.873874\n",
      "5200 Training Accuracy: 0.8 Validation Accuracy: 0.862817\n",
      "5250 Training Accuracy: 0.9 Validation Accuracy: 0.853808\n",
      "5300 Training Accuracy: 0.9 Validation Accuracy: 0.858722\n",
      "5350 Training Accuracy: 1.0 Validation Accuracy: 0.856265\n",
      "5400 Training Accuracy: 0.8 Validation Accuracy: 0.856675\n",
      "5450 Training Accuracy: 1.0 Validation Accuracy: 0.866503\n",
      "5500 Training Accuracy: 0.8 Validation Accuracy: 0.864455\n",
      "5550 Training Accuracy: 0.9 Validation Accuracy: 0.859951\n",
      "5600 Training Accuracy: 0.8 Validation Accuracy: 0.863636\n",
      "5650 Training Accuracy: 0.9 Validation Accuracy: 0.868141\n",
      "5700 Training Accuracy: 0.8 Validation Accuracy: 0.867322\n",
      "5750 Training Accuracy: 0.9 Validation Accuracy: 0.870598\n",
      "5800 Training Accuracy: 0.9 Validation Accuracy: 0.869779\n",
      "5850 Training Accuracy: 1.0 Validation Accuracy: 0.86077\n",
      "5900 Training Accuracy: 0.7 Validation Accuracy: 0.869779\n",
      "5950 Training Accuracy: 0.9 Validation Accuracy: 0.862817\n",
      "6000 Training Accuracy: 1.0 Validation Accuracy: 0.854627\n",
      "6050 Training Accuracy: 0.9 Validation Accuracy: 0.863636\n",
      "6100 Training Accuracy: 0.8 Validation Accuracy: 0.859132\n",
      "6150 Training Accuracy: 0.8 Validation Accuracy: 0.871417\n"
     ]
    }
   ],
   "source": [
    "#execution phase\n",
    "max_epoch_without_valid_improve = 20 # stop training if validation accuracy does not improve in five successive epochs\n",
    "batch_size = 50\n",
    "global_step_count = 0\n",
    "epoch_count = 0\n",
    "best_accu_valid = 0\n",
    "\n",
    "with tf.Session() as sess:\n",
    "    init.run()\n",
    "    original_saver.restore(sess,'./model1_final.ckpt')\n",
    "    hidden2_outputs = sess.run(hidden2,feed_dict={X:mnist_train_images_5_9})\n",
    "    \n",
    "    while epoch_count < max_epoch_without_valid_improve:\n",
    "        shuffled_idx = np.random.permutation(hidden2_outputs.shape[0])\n",
    "        hidden2_batches = np.array_split(hidden2_outputs[shuffled_idx],batch_size)\n",
    "        y_batches = np.array_split(mnist_train_labels_5_9[shuffled_idx],batch_size)\n",
    "        \n",
    "        for hidden2_batch,y_batch in zip(hidden2_batches,y_batches):\n",
    "            sess.run(training_op,feed_dict={is_training:True,hidden2:hidden2_batch,y:y_batch})\n",
    "            global_step_count += 1\n",
    "        accu_train = accuracy.eval(feed_dict={is_training:False,hidden2:hidden2_batch,y:y_batch})\n",
    "        accu_valid = accuracy.eval(feed_dict={is_training:False,X:mnist_valid_images_5_9,y:mnist_valid_labels_5_9})  \n",
    "        if accu_valid > best_accu_valid:\n",
    "            best_accu_valid = accu_valid\n",
    "            epoch_count = 0\n",
    "        else:\n",
    "            epoch_count += 1\n",
    "        summary_str = valid_summary.eval(feed_dict={valid_accuracy:accu_valid})\n",
    "        summary_writer.add_summary(summary_str, global_step_count)\n",
    "        new_saver.save(sess,'./model7.ckpt')\n",
    "        print(global_step_count,'Training Accuracy:',accu_train,'Validation Accuracy:',accu_valid)\n",
    "    \n",
    "    saver.save(sess,'./model7_final.ckpt')\n",
    "        \n",
    "\n",
    "summary_writer.flush()\n",
    "summary_writer.close()"
   ]
  },
  {
   "cell_type": "code",
   "execution_count": 33,
   "metadata": {},
   "outputs": [
    {
     "name": "stdout",
     "output_type": "stream",
     "text": [
      "INFO:tensorflow:Restoring parameters from ./model7_final.ckpt\n",
      "Test Accuracy: 0.866077\n"
     ]
    }
   ],
   "source": [
    "# Test accuracy of batch normalization and dropout model on test data\n",
    "with tf.Session() as sess:\n",
    "    saver.restore(sess,'./model7_final.ckpt')\n",
    "    accu_test = accuracy.eval(feed_dict={is_training:False,X:mnist_test_images_5_9,y:mnist_test_labels_5_9})  \n",
    "    print('Test Accuracy:',accu_test)"
   ]
  },
  {
   "cell_type": "code",
   "execution_count": 34,
   "metadata": {},
   "outputs": [
    {
     "name": "stdout",
     "output_type": "stream",
     "text": [
      "INFO:tensorflow:Restoring parameters from ./model7_final.ckpt\n",
      "Prediction: [6 9 7 9 6]\n",
      "Target: [6 9 7 9 6]\n"
     ]
    }
   ],
   "source": [
    "# do some predictions on the test data using batch normalization and dropout model\n",
    "with tf.Session() as sess:\n",
    "    saver.restore(sess,'./model7_final.ckpt')\n",
    "    label_pred = np.argmax(sess.run(logits,feed_dict={is_training:False,X:mnist_test_images_5_9[2920:2925]}),axis=1) + 5\n",
    "    \n",
    "print('Prediction:',label_pred)\n",
    "print('Target:',mnist_test_labels_5_9[2920:2925] + 5) "
   ]
  },
  {
   "cell_type": "markdown",
   "metadata": {
    "collapsed": true
   },
   "source": [
    "Try training DNN to classify 5 to 9 **from scratch**"
   ]
  },
  {
   "cell_type": "code",
   "execution_count": 35,
   "metadata": {
    "collapsed": true
   },
   "outputs": [],
   "source": [
    "# Build a new DNN to classify digits 5 to 9 from scratch\n",
    "from functools import partial\n",
    "from datetime import datetime\n",
    "\n",
    "now = datetime.utcnow().strftime(\"%Y%m%d%H%M%S\")\n",
    "root_logdir = \"tf_logs\"\n",
    "logdir = \"{}/run-{}/\".format(root_logdir, now)\n",
    "\n",
    "units = 100\n",
    "n_outputs = 5\n",
    "n_inputs = 28 * 28 #MNIST\n",
    "\n",
    "tf.reset_default_graph()\n",
    "\n",
    "X = tf.placeholder(tf.float32,shape=(None,n_inputs),name='X')\n",
    "y = tf.placeholder(tf.int64,shape=(None),name='y')\n",
    "\n",
    "with tf.name_scope('dnn'):\n",
    "    he_init = tf.contrib.layers.variance_scaling_initializer()\n",
    "    my_hidden_layer = partial(tf.layers.dense,kernel_initializer=he_init,activation=tf.nn.elu,units=units)\n",
    "    \n",
    "    hidden1 = my_hidden_layer(X,name='hidden1')\n",
    "    hidden2 = my_hidden_layer(hidden1,name='hidden2')\n",
    "    hidden3 = my_hidden_layer(hidden2,name='hidden3')\n",
    "    hidden4 = my_hidden_layer(hidden3,name='hidden4')\n",
    "    hidden5 = my_hidden_layer(hidden4,name='hidden5')\n",
    "    logits = tf.layers.dense(hidden5,n_outputs,name='logits')\n",
    "    \n",
    "    \n",
    "    \n",
    "with tf.name_scope('loss'):\n",
    "    xentropy = tf.nn.sparse_softmax_cross_entropy_with_logits(logits=logits,labels=y)\n",
    "    loss = tf.reduce_mean(xentropy,name='loss')\n",
    "    \n",
    "with tf.name_scope('train'):\n",
    "    optimizer = tf.train.AdamOptimizer(learning_rate = 0.001)\n",
    "    training_op = optimizer.minimize(loss,name='training_op')\n",
    "    \n",
    "with tf.name_scope('eval'):\n",
    "    correct = tf.nn.in_top_k(logits,y,1)\n",
    "    accuracy = tf.reduce_mean(tf.cast(correct,tf.float32),name='eval')\n",
    "    \n",
    "init = tf.global_variables_initializer()\n",
    "new_saver = tf.train.Saver()\n",
    "valid_accuracy = tf.placeholder(tf.float32,shape=())\n",
    "valid_summary = tf.summary.scalar('valid_accuracy',valid_accuracy)\n",
    "summary_writer = tf.summary.FileWriter(logdir, tf.get_default_graph())   "
   ]
  },
  {
   "cell_type": "code",
   "execution_count": 36,
   "metadata": {},
   "outputs": [
    {
     "name": "stdout",
     "output_type": "stream",
     "text": [
      "50 Training Accuracy: 0.8 Validation Accuracy: 0.890254\n",
      "100 Training Accuracy: 0.9 Validation Accuracy: 0.879607\n",
      "150 Training Accuracy: 0.9 Validation Accuracy: 0.912776\n",
      "200 Training Accuracy: 1.0 Validation Accuracy: 0.913595\n",
      "250 Training Accuracy: 1.0 Validation Accuracy: 0.91769\n",
      "300 Training Accuracy: 1.0 Validation Accuracy: 0.922195\n",
      "350 Training Accuracy: 1.0 Validation Accuracy: 0.92629\n",
      "400 Training Accuracy: 1.0 Validation Accuracy: 0.92588\n",
      "450 Training Accuracy: 1.0 Validation Accuracy: 0.92588\n",
      "500 Training Accuracy: 1.0 Validation Accuracy: 0.92629\n",
      "550 Training Accuracy: 1.0 Validation Accuracy: 0.92588\n",
      "600 Training Accuracy: 1.0 Validation Accuracy: 0.92588\n",
      "650 Training Accuracy: 1.0 Validation Accuracy: 0.926699\n",
      "700 Training Accuracy: 1.0 Validation Accuracy: 0.92588\n",
      "750 Training Accuracy: 1.0 Validation Accuracy: 0.925471\n",
      "800 Training Accuracy: 1.0 Validation Accuracy: 0.92588\n",
      "850 Training Accuracy: 1.0 Validation Accuracy: 0.926699\n",
      "900 Training Accuracy: 1.0 Validation Accuracy: 0.92629\n",
      "950 Training Accuracy: 1.0 Validation Accuracy: 0.92629\n",
      "1000 Training Accuracy: 1.0 Validation Accuracy: 0.92629\n",
      "1050 Training Accuracy: 1.0 Validation Accuracy: 0.92629\n",
      "1100 Training Accuracy: 1.0 Validation Accuracy: 0.92629\n",
      "1150 Training Accuracy: 1.0 Validation Accuracy: 0.92629\n",
      "1200 Training Accuracy: 1.0 Validation Accuracy: 0.926699\n",
      "1250 Training Accuracy: 1.0 Validation Accuracy: 0.926699\n",
      "1300 Training Accuracy: 1.0 Validation Accuracy: 0.927109\n",
      "1350 Training Accuracy: 1.0 Validation Accuracy: 0.927518\n",
      "1400 Training Accuracy: 1.0 Validation Accuracy: 0.926699\n",
      "1450 Training Accuracy: 1.0 Validation Accuracy: 0.927109\n",
      "1500 Training Accuracy: 1.0 Validation Accuracy: 0.926699\n",
      "1550 Training Accuracy: 1.0 Validation Accuracy: 0.927109\n",
      "1600 Training Accuracy: 1.0 Validation Accuracy: 0.926699\n",
      "1650 Training Accuracy: 1.0 Validation Accuracy: 0.92629\n",
      "1700 Training Accuracy: 1.0 Validation Accuracy: 0.92629\n",
      "1750 Training Accuracy: 1.0 Validation Accuracy: 0.92629\n",
      "1800 Training Accuracy: 1.0 Validation Accuracy: 0.92629\n",
      "1850 Training Accuracy: 1.0 Validation Accuracy: 0.92629\n",
      "1900 Training Accuracy: 1.0 Validation Accuracy: 0.92629\n",
      "1950 Training Accuracy: 1.0 Validation Accuracy: 0.92629\n",
      "2000 Training Accuracy: 1.0 Validation Accuracy: 0.926699\n",
      "2050 Training Accuracy: 1.0 Validation Accuracy: 0.92629\n",
      "2100 Training Accuracy: 1.0 Validation Accuracy: 0.92588\n",
      "2150 Training Accuracy: 1.0 Validation Accuracy: 0.92629\n",
      "2200 Training Accuracy: 1.0 Validation Accuracy: 0.92588\n",
      "2250 Training Accuracy: 1.0 Validation Accuracy: 0.92629\n",
      "2300 Training Accuracy: 1.0 Validation Accuracy: 0.92588\n",
      "2350 Training Accuracy: 1.0 Validation Accuracy: 0.92588\n"
     ]
    }
   ],
   "source": [
    "#execution phase\n",
    "max_epoch_without_valid_improve = 20 # stop training if validation accuracy does not improve in five successive epochs\n",
    "batch_size = 50\n",
    "global_step_count = 0\n",
    "epoch_count = 0\n",
    "best_accu_valid = 0\n",
    "\n",
    "with tf.Session() as sess:\n",
    "    init.run()\n",
    "    \n",
    "    while epoch_count < max_epoch_without_valid_improve:\n",
    "        shuffled_idx = np.random.permutation(mnist_train_images_5_9.shape[0])\n",
    "        x_batches = np.array_split(mnist_train_images_5_9[shuffled_idx],batch_size)\n",
    "        y_batches = np.array_split(mnist_train_labels_5_9[shuffled_idx],batch_size)\n",
    "        \n",
    "        for x_batch,y_batch in zip(x_batches,y_batches):\n",
    "            sess.run(training_op,feed_dict={X:x_batch,y:y_batch})\n",
    "            global_step_count += 1\n",
    "        accu_train = accuracy.eval(feed_dict={X:x_batch,y:y_batch})\n",
    "        accu_valid = accuracy.eval(feed_dict={X:mnist_valid_images_5_9,y:mnist_valid_labels_5_9})  \n",
    "        if accu_valid > best_accu_valid:\n",
    "            best_accu_valid = accu_valid\n",
    "            epoch_count = 0\n",
    "        else:\n",
    "            epoch_count += 1\n",
    "        summary_str = valid_summary.eval(feed_dict={valid_accuracy:accu_valid})\n",
    "        summary_writer.add_summary(summary_str, global_step_count)\n",
    "        new_saver.save(sess,'./model8.ckpt')\n",
    "        print(global_step_count,'Training Accuracy:',accu_train,'Validation Accuracy:',accu_valid)\n",
    "    \n",
    "    saver.save(sess,'./model8_final.ckpt')\n",
    "        \n",
    "\n",
    "summary_writer.flush()\n",
    "summary_writer.close()"
   ]
  },
  {
   "cell_type": "code",
   "execution_count": 37,
   "metadata": {},
   "outputs": [
    {
     "name": "stdout",
     "output_type": "stream",
     "text": [
      "INFO:tensorflow:Restoring parameters from ./model8_final.ckpt\n",
      "Test Accuracy: 0.922444\n"
     ]
    }
   ],
   "source": [
    "# Test accuracy \n",
    "with tf.Session() as sess:\n",
    "    saver.restore(sess,'./model8_final.ckpt')\n",
    "    accu_test = accuracy.eval(feed_dict={X:mnist_test_images_5_9,y:mnist_test_labels_5_9})  \n",
    "    print('Test Accuracy:',accu_test)"
   ]
  },
  {
   "cell_type": "code",
   "execution_count": 38,
   "metadata": {},
   "outputs": [
    {
     "name": "stdout",
     "output_type": "stream",
     "text": [
      "INFO:tensorflow:Restoring parameters from ./model8_final.ckpt\n",
      "Prediction: [6 9 7 9 6]\n",
      "Target: [6 9 7 9 6]\n"
     ]
    }
   ],
   "source": [
    "# do some predictions on the test data\n",
    "with tf.Session() as sess:\n",
    "    saver.restore(sess,'./model8_final.ckpt')\n",
    "    label_pred = np.argmax(sess.run(logits,feed_dict={X:mnist_test_images_5_9[2920:2925]}),axis=1) + 5\n",
    "    \n",
    "print('Prediction:',label_pred)\n",
    "print('Target:',mnist_test_labels_5_9[2920:2925] + 5) "
   ]
  },
  {
   "cell_type": "markdown",
   "metadata": {
    "collapsed": true
   },
   "source": [
    " ## Classifying digits 5 to 9 with the whole MNIST dataset"
   ]
  },
  {
   "cell_type": "code",
   "execution_count": 4,
   "metadata": {
    "collapsed": true
   },
   "outputs": [],
   "source": [
    "# preprocess data for training. Using digits 5 to 9\n",
    "# shift labels such that  5->0,6->1,7->2,8->3,9->4\n",
    "import numpy as np\n",
    "\n",
    "#training set\n",
    "train_index_5_9 = np.random.permutation(np.nonzero(mnist.train.labels >= 5)[0]) \n",
    "mnist_train_images_5_9 = mnist.train.images[train_index_5_9]\n",
    "mnist_train_labels_5_9 = mnist.train.labels[train_index_5_9] - 5\n",
    "\n",
    "#validation set\n",
    "valid_index_5_9 = np.random.permutation(np.nonzero(mnist.validation.labels >= 5)[0]) \n",
    "mnist_valid_images_5_9 = mnist.validation.images[valid_index_5_9]\n",
    "mnist_valid_labels_5_9 = mnist.validation.labels[valid_index_5_9] - 5\n",
    "\n",
    "#test set\n",
    "test_index_5_9 = np.random.permutation(np.nonzero(mnist.test.labels >= 5)[0]) \n",
    "mnist_test_images_5_9 = mnist.test.images[test_index_5_9]\n",
    "mnist_test_labels_5_9 = mnist.test.labels[test_index_5_9] - 5"
   ]
  },
  {
   "cell_type": "markdown",
   "metadata": {},
   "source": [
    "Let's now train"
   ]
  },
  {
   "cell_type": "code",
   "execution_count": 10,
   "metadata": {
    "collapsed": true
   },
   "outputs": [],
   "source": [
    "# Build a new DNN to classify digits 5 to 9 from scratch\n",
    "from functools import partial\n",
    "from datetime import datetime\n",
    "\n",
    "now = datetime.utcnow().strftime(\"%Y%m%d%H%M%S\")\n",
    "root_logdir = \"tf_logs\"\n",
    "logdir = \"{}/run-{}/\".format(root_logdir, now)\n",
    "\n",
    "units = 100\n",
    "n_outputs = 5\n",
    "n_inputs = 28 * 28 #MNIST\n",
    "\n",
    "tf.reset_default_graph()\n",
    "\n",
    "X = tf.placeholder(tf.float32,shape=(None,n_inputs),name='X')\n",
    "y = tf.placeholder(tf.int64,shape=(None),name='y')\n",
    "\n",
    "with tf.name_scope('dnn'):\n",
    "    he_init = tf.contrib.layers.variance_scaling_initializer()\n",
    "    my_hidden_layer = partial(tf.layers.dense,kernel_initializer=he_init,activation=tf.nn.elu,units=units)\n",
    "    \n",
    "    hidden1 = my_hidden_layer(X,name='hidden1')\n",
    "    hidden2 = my_hidden_layer(hidden1,name='hidden2')\n",
    "    hidden3 = my_hidden_layer(hidden2,name='hidden3')\n",
    "    hidden4 = my_hidden_layer(hidden3,name='hidden4')\n",
    "    hidden5 = my_hidden_layer(hidden4,name='hidden5')\n",
    "    logits = tf.layers.dense(hidden5,n_outputs,name='logits')\n",
    "    \n",
    "    \n",
    "    \n",
    "with tf.name_scope('loss'):\n",
    "    xentropy = tf.nn.sparse_softmax_cross_entropy_with_logits(logits=logits,labels=y)\n",
    "    loss = tf.reduce_mean(xentropy,name='loss')\n",
    "    \n",
    "with tf.name_scope('train'):\n",
    "    optimizer = tf.train.AdamOptimizer(learning_rate = 0.001)\n",
    "    training_op = optimizer.minimize(loss,name='training_op')\n",
    "    \n",
    "with tf.name_scope('eval'):\n",
    "    correct = tf.nn.in_top_k(logits,y,1)\n",
    "    accuracy = tf.reduce_mean(tf.cast(correct,tf.float32),name='eval')\n",
    "    \n",
    "init = tf.global_variables_initializer()\n",
    "new_saver = tf.train.Saver()\n",
    "valid_accuracy = tf.placeholder(tf.float32,shape=())\n",
    "valid_summary = tf.summary.scalar('valid_accuracy',valid_accuracy)\n",
    "summary_writer = tf.summary.FileWriter(logdir, tf.get_default_graph())   "
   ]
  },
  {
   "cell_type": "code",
   "execution_count": 11,
   "metadata": {},
   "outputs": [
    {
     "name": "stdout",
     "output_type": "stream",
     "text": [
      "50 Training Accuracy: 0.974026 Validation Accuracy: 0.958231\n",
      "100 Training Accuracy: 0.975881 Validation Accuracy: 0.96683\n",
      "150 Training Accuracy: 0.979592 Validation Accuracy: 0.969697\n",
      "200 Training Accuracy: 0.972171 Validation Accuracy: 0.973792\n",
      "250 Training Accuracy: 0.987013 Validation Accuracy: 0.973792\n",
      "300 Training Accuracy: 0.988868 Validation Accuracy: 0.977068\n",
      "350 Training Accuracy: 0.994434 Validation Accuracy: 0.978296\n",
      "400 Training Accuracy: 0.992579 Validation Accuracy: 0.976249\n",
      "450 Training Accuracy: 0.994434 Validation Accuracy: 0.982801\n",
      "500 Training Accuracy: 0.998145 Validation Accuracy: 0.979934\n",
      "550 Training Accuracy: 0.996289 Validation Accuracy: 0.983211\n",
      "600 Training Accuracy: 0.998145 Validation Accuracy: 0.982801\n",
      "650 Training Accuracy: 0.998145 Validation Accuracy: 0.984029\n",
      "700 Training Accuracy: 0.998145 Validation Accuracy: 0.98362\n",
      "750 Training Accuracy: 1.0 Validation Accuracy: 0.982801\n",
      "800 Training Accuracy: 1.0 Validation Accuracy: 0.981163\n",
      "850 Training Accuracy: 0.998145 Validation Accuracy: 0.984439\n",
      "900 Training Accuracy: 1.0 Validation Accuracy: 0.984439\n",
      "950 Training Accuracy: 1.0 Validation Accuracy: 0.984848\n",
      "1000 Training Accuracy: 1.0 Validation Accuracy: 0.984848\n",
      "1050 Training Accuracy: 1.0 Validation Accuracy: 0.984439\n",
      "1100 Training Accuracy: 1.0 Validation Accuracy: 0.985667\n",
      "1150 Training Accuracy: 1.0 Validation Accuracy: 0.983211\n",
      "1200 Training Accuracy: 1.0 Validation Accuracy: 0.984439\n",
      "1250 Training Accuracy: 1.0 Validation Accuracy: 0.984848\n",
      "1300 Training Accuracy: 1.0 Validation Accuracy: 0.986486\n",
      "1350 Training Accuracy: 1.0 Validation Accuracy: 0.985667\n",
      "1400 Training Accuracy: 1.0 Validation Accuracy: 0.986077\n",
      "1450 Training Accuracy: 1.0 Validation Accuracy: 0.986486\n",
      "1500 Training Accuracy: 1.0 Validation Accuracy: 0.986486\n",
      "1550 Training Accuracy: 1.0 Validation Accuracy: 0.986486\n",
      "1600 Training Accuracy: 1.0 Validation Accuracy: 0.986486\n",
      "1650 Training Accuracy: 1.0 Validation Accuracy: 0.986896\n",
      "1700 Training Accuracy: 1.0 Validation Accuracy: 0.986486\n",
      "1750 Training Accuracy: 1.0 Validation Accuracy: 0.986486\n",
      "1800 Training Accuracy: 1.0 Validation Accuracy: 0.986077\n",
      "1850 Training Accuracy: 1.0 Validation Accuracy: 0.986896\n",
      "1900 Training Accuracy: 1.0 Validation Accuracy: 0.986077\n",
      "1950 Training Accuracy: 1.0 Validation Accuracy: 0.986486\n",
      "2000 Training Accuracy: 1.0 Validation Accuracy: 0.986486\n",
      "2050 Training Accuracy: 1.0 Validation Accuracy: 0.986486\n",
      "2100 Training Accuracy: 1.0 Validation Accuracy: 0.986486\n",
      "2150 Training Accuracy: 1.0 Validation Accuracy: 0.986486\n",
      "2200 Training Accuracy: 1.0 Validation Accuracy: 0.987305\n",
      "2250 Training Accuracy: 1.0 Validation Accuracy: 0.986896\n",
      "2300 Training Accuracy: 1.0 Validation Accuracy: 0.986486\n",
      "2350 Training Accuracy: 1.0 Validation Accuracy: 0.986486\n",
      "2400 Training Accuracy: 1.0 Validation Accuracy: 0.987305\n",
      "2450 Training Accuracy: 1.0 Validation Accuracy: 0.986896\n",
      "2500 Training Accuracy: 1.0 Validation Accuracy: 0.987305\n",
      "2550 Training Accuracy: 1.0 Validation Accuracy: 0.986896\n",
      "2600 Training Accuracy: 1.0 Validation Accuracy: 0.987305\n",
      "2650 Training Accuracy: 1.0 Validation Accuracy: 0.986896\n",
      "2700 Training Accuracy: 1.0 Validation Accuracy: 0.986896\n",
      "2750 Training Accuracy: 1.0 Validation Accuracy: 0.986896\n",
      "2800 Training Accuracy: 1.0 Validation Accuracy: 0.987305\n",
      "2850 Training Accuracy: 1.0 Validation Accuracy: 0.986896\n",
      "2900 Training Accuracy: 1.0 Validation Accuracy: 0.986896\n",
      "2950 Training Accuracy: 1.0 Validation Accuracy: 0.986896\n",
      "3000 Training Accuracy: 1.0 Validation Accuracy: 0.987305\n",
      "3050 Training Accuracy: 1.0 Validation Accuracy: 0.986896\n",
      "3100 Training Accuracy: 1.0 Validation Accuracy: 0.986896\n",
      "3150 Training Accuracy: 1.0 Validation Accuracy: 0.987305\n",
      "3200 Training Accuracy: 1.0 Validation Accuracy: 0.986486\n"
     ]
    }
   ],
   "source": [
    "#execution phase\n",
    "max_epoch_without_valid_improve = 20 # stop training if validation accuracy does not improve in five successive epochs\n",
    "batch_size = 50\n",
    "global_step_count = 0\n",
    "epoch_count = 0\n",
    "best_accu_valid = 0\n",
    "\n",
    "with tf.Session() as sess:\n",
    "    init.run()\n",
    "    \n",
    "    while epoch_count < max_epoch_without_valid_improve:\n",
    "        shuffled_idx = np.random.permutation(mnist_train_images_5_9.shape[0])\n",
    "        x_batches = np.array_split(mnist_train_images_5_9[shuffled_idx],batch_size)\n",
    "        y_batches = np.array_split(mnist_train_labels_5_9[shuffled_idx],batch_size)\n",
    "        \n",
    "        for x_batch,y_batch in zip(x_batches,y_batches):\n",
    "            sess.run(training_op,feed_dict={X:x_batch,y:y_batch})\n",
    "            global_step_count += 1\n",
    "        accu_train = accuracy.eval(feed_dict={X:x_batch,y:y_batch})\n",
    "        accu_valid = accuracy.eval(feed_dict={X:mnist_valid_images_5_9,y:mnist_valid_labels_5_9})  \n",
    "        if accu_valid > best_accu_valid:\n",
    "            best_accu_valid = accu_valid\n",
    "            epoch_count = 0\n",
    "        else:\n",
    "            epoch_count += 1\n",
    "        summary_str = valid_summary.eval(feed_dict={valid_accuracy:accu_valid})\n",
    "        summary_writer.add_summary(summary_str, global_step_count)\n",
    "        new_saver.save(sess,'./model9.ckpt')\n",
    "        print(global_step_count,'Training Accuracy:',accu_train,'Validation Accuracy:',accu_valid)\n",
    "    \n",
    "    new_saver.save(sess,'./model9_final.ckpt')\n",
    "        \n",
    "\n",
    "summary_writer.flush()\n",
    "summary_writer.close()"
   ]
  },
  {
   "cell_type": "code",
   "execution_count": 12,
   "metadata": {},
   "outputs": [
    {
     "name": "stdout",
     "output_type": "stream",
     "text": [
      "INFO:tensorflow:Restoring parameters from ./model9_final.ckpt\n",
      "Test Accuracy: 0.98416\n"
     ]
    }
   ],
   "source": [
    "# Test accuracy \n",
    "with tf.Session() as sess:\n",
    "    new_saver.restore(sess,'./model9_final.ckpt')\n",
    "    accu_test = accuracy.eval(feed_dict={X:mnist_test_images_5_9,y:mnist_test_labels_5_9})  \n",
    "    print('Test Accuracy:',accu_test)"
   ]
  },
  {
   "cell_type": "code",
   "execution_count": 14,
   "metadata": {},
   "outputs": [
    {
     "name": "stdout",
     "output_type": "stream",
     "text": [
      "INFO:tensorflow:Restoring parameters from ./model9_final.ckpt\n",
      "Prediction: [8 5 6 9 9]\n",
      "Target: [8 5 6 9 9]\n"
     ]
    }
   ],
   "source": [
    "# do some predictions on the test data\n",
    "with tf.Session() as sess:\n",
    "    new_saver.restore(sess,'./model9_final.ckpt')\n",
    "    label_pred = np.argmax(sess.run(logits,feed_dict={X:mnist_test_images_5_9[3873:3878]}),axis=1) + 5\n",
    "    \n",
    "print('Prediction:',label_pred)\n",
    "print('Target:',mnist_test_labels_5_9[3873:3878] + 5) "
   ]
  },
  {
   "cell_type": "code",
   "execution_count": 15,
   "metadata": {},
   "outputs": [
    {
     "data": {
      "image/png": "[encoded data removed]",
      "text/plain": [
       "<matplotlib.figure.Figure at 0xf6195c0>"
      ]
     },
     "metadata": {},
     "output_type": "display_data"
    }
   ],
   "source": [
    "#show images corresponding to predicted digits\n",
    "import matplotlib.pyplot as plt\n",
    "%matplotlib inline\n",
    "plt.subplot(151)\n",
    "plt.imshow(mnist_test_images_5_9[3873].reshape(28,28))\n",
    "plt.subplot(152)\n",
    "plt.imshow(mnist_test_images_5_9[3874].reshape(28,28))\n",
    "plt.subplot(153)\n",
    "plt.imshow(mnist_test_images_5_9[3875].reshape(28,28))\n",
    "plt.subplot(154)\n",
    "plt.imshow(mnist_test_images_5_9[3876].reshape(28,28))\n",
    "plt.subplot(155)\n",
    "plt.imshow(mnist_test_images_5_9[3877].reshape(28,28))\n",
    "plt.show()"
   ]
  },
  {
   "cell_type": "code",
   "execution_count": null,
   "metadata": {
    "collapsed": true
   },
   "outputs": [],
   "source": []
  }
 ],
 "metadata": {
  "kernelspec": {
   "display_name": "python_tensaflo",
   "language": "python",
   "name": "tensaflo"
  },
  "language_info": {
   "codemirror_mode": {
    "name": "ipython",
    "version": 3
   },
   "file_extension": ".py",
   "mimetype": "text/x-python",
   "name": "python",
   "nbconvert_exporter": "python",
   "pygments_lexer": "ipython3",
   "version": "3.5.3"
  }
 },
 "nbformat": 4,
 "nbformat_minor": 2
}
